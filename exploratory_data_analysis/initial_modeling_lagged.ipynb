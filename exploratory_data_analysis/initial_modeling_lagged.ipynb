{
 "cells": [
  {
   "cell_type": "code",
   "execution_count": 4,
   "metadata": {},
   "outputs": [],
   "source": [
    "import pandas as pd\n",
    "import statsmodels.api as sm\n",
    "import numpy as np"
   ]
  },
  {
   "cell_type": "markdown",
   "metadata": {},
   "source": [
    "### Read in the required datasets"
   ]
  },
  {
   "cell_type": "code",
   "execution_count": 5,
   "metadata": {},
   "outputs": [],
   "source": [
    "#### DEMEANED ####\n",
    "## counts\n",
    "fnl_large_core_counts_dm = pd.read_csv('/Users/salma/Research/us_crime_data_analysis/data/final_all_core_dm/final_main_large_cities_core_counts_dm.csv')\n",
    "fnl_medium_core_counts_dm = pd.read_csv('/Users/salma/Research/us_crime_data_analysis/data/final_all_core_dm/final_main_medium_cities_core_counts_dm.csv')\n",
    "fnl_small_core_counts_dm = pd.read_csv('/Users/salma/Research/us_crime_data_analysis/data/final_all_core_dm/final_main_small_cities_core_counts_dm.csv')\n",
    "\n",
    "## rates\n",
    "fnl_large_core_rates_dm = pd.read_csv('/Users/salma/Research/us_crime_data_analysis/data/final_all_core_dm/final_main_large_cities_core_rates_dm.csv')\n",
    "fnl_medium_core_rates_dm = pd.read_csv('/Users/salma/Research/us_crime_data_analysis/data/final_all_core_dm/final_main_medium_cities_core_rates_dm.csv')\n",
    "fnl_small_core_rates_dm = pd.read_csv('/Users/salma/Research/us_crime_data_analysis/data/final_all_core_dm/final_main_small_cities_core_rates_dm.csv')"
   ]
  },
  {
   "cell_type": "code",
   "execution_count": 31,
   "metadata": {},
   "outputs": [
    {
     "name": "stdout",
     "output_type": "stream",
     "text": [
      "           ORI  YEAR  fnl_population\n",
      "10876  OH00400  1990         50721.0\n",
      "10877  OH00400  1991         51140.0\n",
      "10878  OH00400  1992         51559.0\n",
      "10879  OH00400  1993         51978.0\n",
      "10880  OH00400  1994         52397.0\n",
      "10881  OH00400  1995         52816.0\n",
      "10882  OH00400  1996         53235.0\n",
      "10883  OH00400  1997         53654.0\n",
      "10884  OH00400  1998         54073.0\n",
      "10885  OH00400  1999         54492.0\n",
      "10886  OH00400  2012         51752.4\n",
      "10887  OH00400  2013         51219.6\n",
      "10888  OH00400  2014         50686.8\n",
      "10889  OH00400  2015         50154.0\n"
     ]
    }
   ],
   "source": [
    "print(fnl_medium_core_counts_dm.query('ORI == \"OH00400\"').loc[:, ['ORI', 'YEAR', 'fnl_population']])"
   ]
  },
  {
   "cell_type": "markdown",
   "metadata": {},
   "source": [
    "#### create ist rep pop value between 2000-2003 column "
   ]
  },
  {
   "cell_type": "code",
   "execution_count": 74,
   "metadata": {},
   "outputs": [],
   "source": [
    "def create_pop_wt_col(req_dfs):\n",
    "    for df in req_dfs:\n",
    "        df_wt = df.query('YEAR >= 1999 and YEAR <= 2012').loc[:, ['ORI', 'YEAR', 'fnl_population']]\n",
    "        df_wt['pop_wt'] = df_wt.groupby('ORI')['fnl_population'].head(1)\n",
    "        \n",
    "        df_wt.dropna(subset = ['pop_wt'], inplace=True)\n",
    "        \n",
    "        df = df.merge(df_wt, on='ORI', how='left')\n",
    "        df.rename({'YEAR_x': 'YEAR', 'fnl_population_x': 'fnl_population'}, axis=1, inplace=True)\n",
    "        df.drop(['YEAR_y', 'fnl_population_y'], axis=1, inplace=True)\n",
    "        #print(df.loc[:, ['ORI', 'YEAR', 'fnl_population', 'pop_wt']].head(50))\n",
    "        #print(df.query('ORI == \"AL00102\"').loc[:, ['ORI', 'YEAR', 'fnl_population', 'pop_wt']])\n",
    "        print(set(df.loc[df['pop_wt'].isnull()]['ORI']).__len__())\n",
    "        print(set(df.loc[df['pop_wt'].isnull()]['ORI']))\n",
    "        print('\\n')"
   ]
  },
  {
   "cell_type": "code",
   "execution_count": 75,
   "metadata": {
    "scrolled": true
   },
   "outputs": [
    {
     "name": "stdout",
     "output_type": "stream",
     "text": [
      "0\n",
      "set()\n",
      "\n",
      "\n",
      "0\n",
      "set()\n",
      "\n",
      "\n",
      "13\n",
      "{'WV04600', 'IN08300', 'KY01300', 'NM02500', 'IA04900', 'OH02810', 'MS05600', 'MS01200', 'NY05974', 'OH01831', 'MS02300', 'IA00300', 'IN01600'}\n",
      "\n",
      "\n"
     ]
    }
   ],
   "source": [
    "create_pop_wt_col([fnl_large_core_counts_dm, fnl_medium_core_counts_dm, fnl_small_core_counts_dm])"
   ]
  },
  {
   "cell_type": "code",
   "execution_count": null,
   "metadata": {},
   "outputs": [],
   "source": [
    "def create_lag_vars(req_dfs, vars_to_lag, groupby_var, num_of_lags):\n",
    "    for df in req_dfs:\n",
    "        count=1\n",
    "        for lag_num in range(num_of_lags):\n",
    "            for var in vars_to_lag:\n",
    "                df[f'lag{count}_{var}'] = df.groupby(f'{groupby_var}')[f'{var}'].shift(count)\n",
    "            count+=1"
   ]
  },
  {
   "cell_type": "markdown",
   "metadata": {},
   "source": [
    "#### create lags for counts"
   ]
  },
  {
   "cell_type": "code",
   "execution_count": 47,
   "metadata": {},
   "outputs": [],
   "source": [
    "create_lag_vars(req_dfs=[fnl_large_core_counts_dm, fnl_medium_core_counts_dm, fnl_small_core_counts_dm], \n",
    "                vars_to_lag=['dm_violent_crime', 'dm_total_officers', \n",
    "                             'dm_prison_occupancy_count', 'dm_jail_occupancy_count', \n",
    "                             'dm_drug_tot_arrests', 'dm_disorder_arrests_tot_index'],\n",
    "                groupby_var = 'ORI',\n",
    "               num_of_lags=2)"
   ]
  },
  {
   "cell_type": "markdown",
   "metadata": {},
   "source": [
    "#### create lags for rates"
   ]
  },
  {
   "cell_type": "code",
   "execution_count": 48,
   "metadata": {},
   "outputs": [],
   "source": [
    "create_lag_vars(req_dfs=[fnl_large_core_rates_dm, fnl_medium_core_rates_dm, fnl_small_core_rates_dm], \n",
    "                vars_to_lag=['dm_violent_crime_rate', 'dm_total_officers_rate', \n",
    "                             'dm_prison_occupancy_count_rate', 'dm_jail_occupancy_count_rate',\n",
    "                             'dm_drug_tot_arrests_rate', 'dm_disorder_arrests_tot_index_rate'],\n",
    "                groupby_var = 'ORI',\n",
    "               num_of_lags=2)"
   ]
  },
  {
   "cell_type": "code",
   "execution_count": null,
   "metadata": {},
   "outputs": [],
   "source": []
  },
  {
   "cell_type": "code",
   "execution_count": null,
   "metadata": {},
   "outputs": [],
   "source": []
  },
  {
   "cell_type": "code",
   "execution_count": 55,
   "metadata": {},
   "outputs": [
    {
     "name": "stdout",
     "output_type": "stream",
     "text": [
      "    lag2_dm_violent_crime_rate  lag2_dm_total_officers_rate\n",
      "0                          NaN                          NaN\n",
      "1                          NaN                          NaN\n",
      "2                  -217.777470                    -0.163062\n",
      "3                   -78.897099                    -0.122272\n",
      "4                    40.067695                    -0.138435\n",
      "5                   130.250108                    -0.103398\n",
      "6                   227.467281                    -0.194396\n",
      "7                   226.209430                     0.008953\n",
      "8                    36.907314                     0.060783\n",
      "9                   -50.094830                     0.083217\n",
      "10                 -161.592000                     0.132665\n",
      "11                 -150.246170                     0.071809\n",
      "12                 -219.493489                     0.035592\n",
      "13                 -141.858723                    -0.044121\n",
      "14                 -159.837496                    -0.058179\n",
      "15                 -158.859834                    -0.086737\n",
      "16                  -12.430346                     0.035604\n",
      "17                  -69.669934                     0.017494\n",
      "18                  122.943282                     0.082169\n",
      "19                   46.345968                     0.060403\n",
      "20                  121.694636                     0.109165\n",
      "21                   56.484516                     0.094508\n",
      "22                   27.979091                     0.045900\n",
      "23                    7.656538                     0.095588\n",
      "24                   33.264035                     0.026236\n",
      "25                   13.165263                    -0.075855\n",
      "26                         NaN                          NaN\n",
      "27                         NaN                          NaN\n",
      "28                  512.375497                    -0.114442\n",
      "29                  154.636513                    -0.051780\n",
      "30                  130.722776                    -0.046947\n",
      "31                   62.220490                    -0.123860\n",
      "32                   31.844643                    -0.233501\n",
      "33                  -61.882964                    -0.133538\n",
      "34                  -67.660205                    -0.048277\n",
      "35                  -65.413208                    -0.076740\n",
      "36                  -46.797934                    -0.064718\n",
      "37                 -168.145089                     0.120856\n",
      "38                 -155.806201                     0.147114\n",
      "39                 -199.170144                    -0.128941\n",
      "40                 -110.599807                     0.267717\n",
      "41                   15.910439                     0.410006\n",
      "42                   15.869259                     0.472609\n",
      "43                  -72.902540                     0.288396\n",
      "44                 -178.880365                     0.219705\n",
      "45                  -27.762359                    -0.236278\n",
      "46                   45.518368                    -0.320628\n",
      "47                         NaN                          NaN\n",
      "48                         NaN                          NaN\n",
      "49                  -60.529038                    -0.944046\n"
     ]
    }
   ],
   "source": [
    "print(fnl_large_core_rates_dm.loc[:, ['lag2_dm_violent_crime_rate', 'lag2_dm_total_officers_rate']].head(50))"
   ]
  },
  {
   "cell_type": "code",
   "execution_count": null,
   "metadata": {},
   "outputs": [],
   "source": [
    "count_df.pop_lag = count_df.groupby('COWname')['SP.POP.TOTL'].shift(2)"
   ]
  }
 ],
 "metadata": {
  "kernelspec": {
   "display_name": "us_crime_data_analysis",
   "language": "python",
   "name": "us_crime_data_analysis"
  },
  "language_info": {
   "codemirror_mode": {
    "name": "ipython",
    "version": 3
   },
   "file_extension": ".py",
   "mimetype": "text/x-python",
   "name": "python",
   "nbconvert_exporter": "python",
   "pygments_lexer": "ipython3",
   "version": "3.8.1"
  }
 },
 "nbformat": 4,
 "nbformat_minor": 4
}

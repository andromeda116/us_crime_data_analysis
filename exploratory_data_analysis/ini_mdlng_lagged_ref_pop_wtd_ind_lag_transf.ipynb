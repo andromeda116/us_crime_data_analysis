{
 "cells": [
  {
   "cell_type": "markdown",
   "metadata": {},
   "source": [
    "#### Import the required libraries"
   ]
  },
  {
   "cell_type": "code",
   "execution_count": 12,
   "metadata": {},
   "outputs": [],
   "source": [
    "import pandas as pd\n",
    "import numpy as np\n",
    "import statsmodels.api as sm\n",
    "import matplotlib.pyplot as plt"
   ]
  },
  {
   "cell_type": "markdown",
   "metadata": {},
   "source": [
    "#### Read in the required datasets"
   ]
  },
  {
   "cell_type": "code",
   "execution_count": 13,
   "metadata": {},
   "outputs": [],
   "source": [
    "fnl_core_rates_dm_pop_ref_wt_lag_90_02 = pd.read_csv('/Users/salma/Research/us_crime_data_analysis/data/final_core_dm_pop_ref_lag/fnl_core_rates_dm_pop_ref_wt_lag_90_02.csv')\n",
    "fnl_core_rates_dm_pop_ref_wt_lag_03_15 = pd.read_csv('/Users/salma/Research/us_crime_data_analysis/data/final_core_dm_pop_ref_lag/fnl_core_rates_dm_pop_ref_wt_lag_03_15.csv')\n",
    "fnl_core_rates_dm_pop_ref_wt_lag_90_15 = pd.read_csv('/Users/salma/Research/us_crime_data_analysis/data/final_core_dm_pop_ref_lag/fnl_core_rates_dm_pop_ref_wt_lag_90_15.csv')\n",
    "\n",
    "\n",
    "fnl_large_core_dm_rates_lag_90_15 = pd.read_csv('/Users/salma/Research/us_crime_data_analysis/data/final_core_dm_pop_ref_lag/fnl_large_core_dm_rates_90_15.csv')\n",
    "fnl_medium_core_dm_rates_lag_90_15 = pd.read_csv('/Users/salma/Research/us_crime_data_analysis/data/final_core_dm_pop_ref_lag/fnl_medium_core_dm_rates_90_15.csv')\n",
    "fnl_small_core_dm_rates_lag_90_15 = pd.read_csv('/Users/salma/Research/us_crime_data_analysis/data/final_core_dm_pop_ref_lag/fnl_small_core_dm_rates_90_15.csv')\n",
    "\n",
    "\n",
    "fnl_large_core_dm_rates_lag_90_02 = pd.read_csv('/Users/salma/Research/us_crime_data_analysis/data/final_core_dm_pop_ref_lag/fnl_large_core_dm_rates_lag_90_02.csv')\n",
    "fnl_medium_core_dm_rates_lag_90_02 = pd.read_csv('/Users/salma/Research/us_crime_data_analysis/data/final_core_dm_pop_ref_lag/fnl_medium_core_dm_rates_lag_90_02.csv')\n",
    "fnl_small_core_dm_rates_lag_90_02 = pd.read_csv('/Users/salma/Research/us_crime_data_analysis/data/final_core_dm_pop_ref_lag/fnl_small_core_dm_rates_lag_90_02.csv')\n",
    "\n",
    "\n",
    "fnl_large_core_dm_rates_lag_03_15 = pd.read_csv('/Users/salma/Research/us_crime_data_analysis/data/final_core_dm_pop_ref_lag/fnl_large_core_dm_rates_lag_03_15.csv')\n",
    "fnl_medium_core_dm_rates_lag_03_15 = pd.read_csv('/Users/salma/Research/us_crime_data_analysis/data/final_core_dm_pop_ref_lag/fnl_medium_core_dm_rates_lag_03_15.csv')\n",
    "fnl_small_core_dm_rates_lag_03_15 = pd.read_csv('/Users/salma/Research/us_crime_data_analysis/data/final_core_dm_pop_ref_lag/fnl_small_core_dm_rates_lag_03_15.csv')"
   ]
  },
  {
   "cell_type": "markdown",
   "metadata": {},
   "source": [
    "#### define function for log transform of ind var"
   ]
  },
  {
   "cell_type": "code",
   "execution_count": 16,
   "metadata": {},
   "outputs": [],
   "source": [
    "def wols_lagged_ind_log_trans_uni(req_dfs, dep_var, ind_vars, weights_var, dataset_names=False):\n",
    "    for df in req_dfs:\n",
    "        df[f'{dep_var}'] = np.log(df[f'{dep_var}'])\n",
    "        \n",
    "        for var in ind_vars:\n",
    "            model = sm.WLS.from_formula(f'{dep_var} ~ {var} + lag1_{var} + lag2_{var}', data=df, weights=df[f'{weights_var}'])\n",
    "            results = model.fit()\n",
    "            if dataset_names:\n",
    "                print(dataset_names[df_count])\n",
    "            print(results.summary(), '\\n', '\\n')"
   ]
  },
  {
   "cell_type": "code",
   "execution_count": 17,
   "metadata": {},
   "outputs": [],
   "source": [
    "dm_dep_var_rates = 'dm_violent_crime_rate'\n",
    "dm_ind_vars_rates = ['dm_total_officers_rate', 'dm_prison_occupancy_count_rate', 'dm_jail_occupancy_count_rate',\n",
    "               'dm_drug_tot_arrests_rate', 'dm_disorder_arrests_tot_index_rate']"
   ]
  },
  {
   "cell_type": "markdown",
   "metadata": {},
   "source": [
    "#### All: 90-15"
   ]
  },
  {
   "cell_type": "code",
   "execution_count": 18,
   "metadata": {},
   "outputs": [
    {
     "name": "stdout",
     "output_type": "stream",
     "text": [
      "                              WLS Regression Results                             \n",
      "=================================================================================\n",
      "Dep. Variable:     dm_violent_crime_rate   R-squared:                       0.005\n",
      "Model:                               WLS   Adj. R-squared:                  0.005\n",
      "Method:                    Least Squares   F-statistic:                     68.46\n",
      "Date:                   Sat, 04 Apr 2020   Prob (F-statistic):           3.81e-44\n",
      "Time:                           23:56:43   Log-Likelihood:                -80878.\n",
      "No. Observations:                  38144   AIC:                         1.618e+05\n",
      "Df Residuals:                      38140   BIC:                         1.618e+05\n",
      "Df Model:                              3                                         \n",
      "Covariance Type:               nonrobust                                         \n",
      "===============================================================================================\n",
      "                                  coef    std err          t      P>|t|      [0.025      0.975]\n",
      "-----------------------------------------------------------------------------------------------\n",
      "Intercept                       4.1197      0.008    529.127      0.000       4.104       4.135\n",
      "dm_total_officers_rate          0.0095      0.019      0.497      0.619      -0.028       0.047\n",
      "lag1_dm_total_officers_rate    -0.0344      0.021     -1.622      0.105      -0.076       0.007\n",
      "lag2_dm_total_officers_rate    -0.1434      0.017     -8.345      0.000      -0.177      -0.110\n",
      "==============================================================================\n",
      "Omnibus:                    12032.917   Durbin-Watson:                   0.972\n",
      "Prob(Omnibus):                  0.000   Jarque-Bera (JB):          1703706.008\n",
      "Skew:                           0.394   Prob(JB):                         0.00\n",
      "Kurtosis:                      35.731   Cond. No.                         3.68\n",
      "==============================================================================\n",
      "\n",
      "Warnings:\n",
      "[1] Standard Errors assume that the covariance matrix of the errors is correctly specified. \n",
      " \n",
      "\n",
      "                              WLS Regression Results                             \n",
      "=================================================================================\n",
      "Dep. Variable:     dm_violent_crime_rate   R-squared:                       0.065\n",
      "Model:                               WLS   Adj. R-squared:                  0.065\n",
      "Method:                    Least Squares   F-statistic:                     759.7\n",
      "Date:                   Sat, 04 Apr 2020   Prob (F-statistic):               0.00\n",
      "Time:                           23:56:43   Log-Likelihood:                -69115.\n",
      "No. Observations:                  32876   AIC:                         1.382e+05\n",
      "Df Residuals:                      32872   BIC:                         1.383e+05\n",
      "Df Model:                              3                                         \n",
      "Covariance Type:               nonrobust                                         \n",
      "=======================================================================================================\n",
      "                                          coef    std err          t      P>|t|      [0.025      0.975]\n",
      "-------------------------------------------------------------------------------------------------------\n",
      "Intercept                               3.9875      0.009    454.136      0.000       3.970       4.005\n",
      "dm_prison_occupancy_count_rate          0.0287      0.002     12.817      0.000       0.024       0.033\n",
      "lag1_dm_prison_occupancy_count_rate     0.0105      0.003      3.080      0.002       0.004       0.017\n",
      "lag2_dm_prison_occupancy_count_rate    -0.0587      0.002    -27.129      0.000      -0.063      -0.054\n",
      "==============================================================================\n",
      "Omnibus:                    10587.766   Durbin-Watson:                   1.013\n",
      "Prob(Omnibus):                  0.000   Jarque-Bera (JB):          1498610.959\n",
      "Skew:                           0.440   Prob(JB):                         0.00\n",
      "Kurtosis:                      36.064   Cond. No.                         21.5\n",
      "==============================================================================\n",
      "\n",
      "Warnings:\n",
      "[1] Standard Errors assume that the covariance matrix of the errors is correctly specified. \n",
      " \n",
      "\n",
      "                              WLS Regression Results                             \n",
      "=================================================================================\n",
      "Dep. Variable:     dm_violent_crime_rate   R-squared:                       0.021\n",
      "Model:                               WLS   Adj. R-squared:                  0.020\n",
      "Method:                    Least Squares   F-statistic:                     258.7\n",
      "Date:                   Sat, 04 Apr 2020   Prob (F-statistic):          3.66e-166\n",
      "Time:                           23:56:43   Log-Likelihood:                -77986.\n",
      "No. Observations:                  36948   AIC:                         1.560e+05\n",
      "Df Residuals:                      36944   BIC:                         1.560e+05\n",
      "Df Model:                              3                                         \n",
      "Covariance Type:               nonrobust                                         \n",
      "=====================================================================================================\n",
      "                                        coef    std err          t      P>|t|      [0.025      0.975]\n",
      "-----------------------------------------------------------------------------------------------------\n",
      "Intercept                             4.0850      0.008    502.192      0.000       4.069       4.101\n",
      "dm_jail_occupancy_count_rate          0.0270      0.006      4.820      0.000       0.016       0.038\n",
      "lag1_dm_jail_occupancy_count_rate     0.0284      0.010      2.895      0.004       0.009       0.048\n",
      "lag2_dm_jail_occupancy_count_rate    -0.0697      0.005    -12.974      0.000      -0.080      -0.059\n",
      "==============================================================================\n",
      "Omnibus:                    13195.319   Durbin-Watson:                   0.979\n",
      "Prob(Omnibus):                  0.000   Jarque-Bera (JB):          2271435.373\n",
      "Skew:                           0.593   Prob(JB):                         0.00\n",
      "Kurtosis:                      41.393   Cond. No.                         21.5\n",
      "==============================================================================\n",
      "\n",
      "Warnings:\n",
      "[1] Standard Errors assume that the covariance matrix of the errors is correctly specified. \n",
      " \n",
      "\n",
      "                              WLS Regression Results                             \n",
      "=================================================================================\n",
      "Dep. Variable:     dm_violent_crime_rate   R-squared:                       0.002\n",
      "Model:                               WLS   Adj. R-squared:                  0.002\n",
      "Method:                    Least Squares   F-statistic:                     30.26\n",
      "Date:                   Sat, 04 Apr 2020   Prob (F-statistic):           1.58e-19\n",
      "Time:                           23:56:43   Log-Likelihood:                -80935.\n",
      "No. Observations:                  38144   AIC:                         1.619e+05\n",
      "Df Residuals:                      38140   BIC:                         1.619e+05\n",
      "Df Model:                              3                                         \n",
      "Covariance Type:               nonrobust                                         \n",
      "=================================================================================================\n",
      "                                    coef    std err          t      P>|t|      [0.025      0.975]\n",
      "-------------------------------------------------------------------------------------------------\n",
      "Intercept                         4.1193      0.008    524.733      0.000       4.104       4.135\n",
      "dm_drug_tot_arrests_rate          0.0039      0.000      8.693      0.000       0.003       0.005\n",
      "lag1_dm_drug_tot_arrests_rate    -0.0030      0.001     -5.758      0.000      -0.004      -0.002\n",
      "lag2_dm_drug_tot_arrests_rate     0.0013      0.000      3.219      0.001       0.001       0.002\n",
      "==============================================================================\n",
      "Omnibus:                    12617.402   Durbin-Watson:                   0.973\n",
      "Prob(Omnibus):                  0.000   Jarque-Bera (JB):          1978612.126\n",
      "Skew:                           0.461   Prob(JB):                         0.00\n",
      "Kurtosis:                      38.272   Cond. No.                         37.5\n",
      "==============================================================================\n",
      "\n",
      "Warnings:\n",
      "[1] Standard Errors assume that the covariance matrix of the errors is correctly specified. \n",
      " \n",
      "\n",
      "                              WLS Regression Results                             \n",
      "=================================================================================\n",
      "Dep. Variable:     dm_violent_crime_rate   R-squared:                       0.023\n",
      "Model:                               WLS   Adj. R-squared:                  0.023\n",
      "Method:                    Least Squares   F-statistic:                     275.9\n",
      "Date:                   Sat, 04 Apr 2020   Prob (F-statistic):          4.97e-177\n",
      "Time:                           23:56:43   Log-Likelihood:                -73634.\n",
      "No. Observations:                  34928   AIC:                         1.473e+05\n",
      "Df Residuals:                      34924   BIC:                         1.473e+05\n",
      "Df Model:                              3                                         \n",
      "Covariance Type:               nonrobust                                         \n",
      "===========================================================================================================\n",
      "                                              coef    std err          t      P>|t|      [0.025      0.975]\n",
      "-----------------------------------------------------------------------------------------------------------\n",
      "Intercept                                   4.0722      0.008    493.917      0.000       4.056       4.088\n",
      "dm_disorder_arrests_tot_index_rate          0.0023      0.000      6.530      0.000       0.002       0.003\n",
      "lag1_dm_disorder_arrests_tot_index_rate     0.0007      0.000      1.530      0.126      -0.000       0.001\n",
      "lag2_dm_disorder_arrests_tot_index_rate     0.0038      0.000     11.669      0.000       0.003       0.004\n",
      "==============================================================================\n",
      "Omnibus:                    11528.652   Durbin-Watson:                   0.986\n",
      "Prob(Omnibus):                  0.000   Jarque-Bera (JB):          1943508.174\n",
      "Skew:                           0.428   Prob(JB):                         0.00\n",
      "Kurtosis:                      39.534   Cond. No.                         62.0\n",
      "==============================================================================\n",
      "\n",
      "Warnings:\n",
      "[1] Standard Errors assume that the covariance matrix of the errors is correctly specified. \n",
      " \n",
      "\n"
     ]
    },
    {
     "name": "stderr",
     "output_type": "stream",
     "text": [
      "/Users/salma/anaconda3/envs/us_crime_data_analysis/lib/python3.8/site-packages/pandas/core/series.py:679: RuntimeWarning: divide by zero encountered in log\n",
      "  result = getattr(ufunc, method)(*inputs, **kwargs)\n",
      "/Users/salma/anaconda3/envs/us_crime_data_analysis/lib/python3.8/site-packages/pandas/core/series.py:679: RuntimeWarning: invalid value encountered in log\n",
      "  result = getattr(ufunc, method)(*inputs, **kwargs)\n"
     ]
    }
   ],
   "source": [
    "wols_lagged_ind_log_trans_uni(req_dfs=[fnl_core_rates_dm_pop_ref_wt_lag_90_15], \n",
    "                dep_var=dm_dep_var_rates,\n",
    "               ind_vars=dm_ind_vars_rates,\n",
    "               weights_var='fnl_population_wt')\n",
    "# fig = plt.figure(figsize =(15,8))\n",
    "# fig = sm.graphics.plot_regress_exog(model, 'sqft_living', fig=fig"
   ]
  },
  {
   "cell_type": "code",
   "execution_count": null,
   "metadata": {},
   "outputs": [],
   "source": []
  }
 ],
 "metadata": {
  "kernelspec": {
   "display_name": "us_crime_data_analysis",
   "language": "python",
   "name": "us_crime_data_analysis"
  },
  "language_info": {
   "codemirror_mode": {
    "name": "ipython",
    "version": 3
   },
   "file_extension": ".py",
   "mimetype": "text/x-python",
   "name": "python",
   "nbconvert_exporter": "python",
   "pygments_lexer": "ipython3",
   "version": "3.8.1"
  }
 },
 "nbformat": 4,
 "nbformat_minor": 4
}

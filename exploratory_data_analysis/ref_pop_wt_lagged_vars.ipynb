{
 "cells": [
  {
   "cell_type": "code",
   "execution_count": 56,
   "metadata": {},
   "outputs": [],
   "source": [
    "import pandas as pd\n",
    "import statsmodels.api as sm\n",
    "import numpy as np\n",
    "import os\n",
    "\n",
    "pd.set_option('display.max_rows', 500)\n",
    "pd.set_option('display.max_columns', 500)\n",
    "pd.set_option('display.width', 1000)"
   ]
  },
  {
   "cell_type": "markdown",
   "metadata": {},
   "source": [
    "### Create ref weight col with median pop"
   ]
  },
  {
   "cell_type": "code",
   "execution_count": 87,
   "metadata": {},
   "outputs": [],
   "source": [
    "def create_pop_wt_col_by_median(dir_path, op_path, orig=False):\n",
    "    os.chdir(dir_path)\n",
    "    for fl in os.listdir():\n",
    "        if fl != '.DS_Store':\n",
    "            fl_name = os.path.basename(fl).split('.')[0]\n",
    "            df = pd.read_csv(fl)\n",
    "            pop = 0\n",
    "            if orig:\n",
    "                pop = 'population'\n",
    "            else:\n",
    "                pop = 'fnl_population'\n",
    "            df_req = df.loc[:, ['ORI', f'{pop}']]\n",
    "            df_req_med = df_req.groupby('ORI').agg({f'{pop}':np.median})\n",
    "            df_req_med.rename({f'{pop}': f'{pop}_wt'}, axis=1, inplace=True)\n",
    "            df = df.merge(df_req_med, on='ORI', how='left')\n",
    "            df.to_csv(f'{op_path}/{fl_name}_ref_pop.csv', index=False)"
   ]
  },
  {
   "cell_type": "markdown",
   "metadata": {},
   "source": [
    "#### Create pop wt col for all dm"
   ]
  },
  {
   "cell_type": "code",
   "execution_count": 67,
   "metadata": {},
   "outputs": [],
   "source": [
    "create_pop_wt_col_by_median(dir_path='/Users/salma/Research/us_crime_data_analysis/data/final_core_dm',\n",
    "                            op_path='/Users/salma/Research/us_crime_data_analysis/data/final_core_dm_pop_ref')"
   ]
  },
  {
   "cell_type": "markdown",
   "metadata": {},
   "source": [
    "#### Create pop wt col for 90-02 dm"
   ]
  },
  {
   "cell_type": "code",
   "execution_count": 68,
   "metadata": {},
   "outputs": [],
   "source": [
    "create_pop_wt_col_by_median(dir_path='/Users/salma/Research/us_crime_data_analysis/data/final_core_dm_90_02',\n",
    "                            op_path='/Users/salma/Research/us_crime_data_analysis/data/final_core_dm_pop_ref_90_02')"
   ]
  },
  {
   "cell_type": "markdown",
   "metadata": {},
   "source": [
    "#### Create pop wt col for 03-15 dm"
   ]
  },
  {
   "cell_type": "code",
   "execution_count": 69,
   "metadata": {},
   "outputs": [],
   "source": [
    "create_pop_wt_col_by_median(dir_path='/Users/salma/Research/us_crime_data_analysis/data/final_core_dm_03_15',\n",
    "                            op_path='/Users/salma/Research/us_crime_data_analysis/data/final_core_dm_pop_ref_03_15')"
   ]
  },
  {
   "cell_type": "markdown",
   "metadata": {},
   "source": [
    "#### Create pop wt col for orig 90-02"
   ]
  },
  {
   "cell_type": "code",
   "execution_count": 88,
   "metadata": {},
   "outputs": [],
   "source": [
    "create_pop_wt_col_by_median(dir_path='/Users/salma/Research/us_crime_data_analysis/data/final_core_90_02',\n",
    "                            op_path='/Users/salma/Research/us_crime_data_analysis/data/final_core_pop_ref_90_02',\n",
    "                           orig=True)"
   ]
  },
  {
   "cell_type": "markdown",
   "metadata": {},
   "source": [
    "#### Create pop wt col for orig 03-15"
   ]
  },
  {
   "cell_type": "code",
   "execution_count": 89,
   "metadata": {},
   "outputs": [],
   "source": [
    "create_pop_wt_col_by_median(dir_path='/Users/salma/Research/us_crime_data_analysis/data/final_core_03_15',\n",
    "                            op_path='/Users/salma/Research/us_crime_data_analysis/data/final_core_pop_ref_03_15',\n",
    "                           orig=True)"
   ]
  },
  {
   "cell_type": "markdown",
   "metadata": {},
   "source": [
    "#### Create pop wt col for orig 90-15"
   ]
  },
  {
   "cell_type": "code",
   "execution_count": 90,
   "metadata": {},
   "outputs": [],
   "source": [
    "create_pop_wt_col_by_median(dir_path='/Users/salma/Research/us_crime_data_analysis/data/final_core',\n",
    "                            op_path='/Users/salma/Research/us_crime_data_analysis/data/final_core_pop_ref',\n",
    "                           orig=True)"
   ]
  },
  {
   "cell_type": "markdown",
   "metadata": {},
   "source": [
    "### Create lagged vars with reqd shift"
   ]
  },
  {
   "cell_type": "code",
   "execution_count": 77,
   "metadata": {},
   "outputs": [],
   "source": [
    "vars_lag_list_counts = ['dm_violent_crime', 'dm_total_officers', 'dm_prison_occupancy_count', 'dm_jail_occupancy_count', 'dm_drug_tot_arrests', \n",
    "               'dm_disorder_arrests_tot_index']\n",
    "\n",
    "vars_lag_list_rates = ['dm_violent_crime_rate', 'dm_total_officers_rate', 'dm_prison_occupancy_count_rate', 'dm_jail_occupancy_count_rate',\n",
    "               'dm_drug_tot_arrests_rate', 'dm_disorder_arrests_tot_index_rate']"
   ]
  },
  {
   "cell_type": "code",
   "execution_count": 80,
   "metadata": {},
   "outputs": [],
   "source": [
    "def create_lag_vars(dir_path, op_path, groupby_var, num_of_lags):\n",
    "    os.chdir(dir_path)\n",
    "    for fl in os.listdir():\n",
    "        if fl != '.DS_Store':\n",
    "            fl_name = os.path.basename(fl).split('.')[0]\n",
    "            if 'counts' in fl_name.split('_'):\n",
    "                vars_to_lag = vars_lag_list_counts\n",
    "            elif 'rates' in fl_name.split('_'):\n",
    "                vars_to_lag = vars_lag_list_rates\n",
    "            df = pd.read_csv(fl)\n",
    "            count=1\n",
    "            for lag_num in range(num_of_lags):\n",
    "                for var in vars_to_lag:\n",
    "                    df[f'lag{count}_{var}'] = df.groupby(f'{groupby_var}')[f'{var}'].shift(count)\n",
    "                count+=1\n",
    "            df.to_csv(f'{op_path}/{fl_name}_lag.csv', index=False)"
   ]
  },
  {
   "cell_type": "markdown",
   "metadata": {},
   "source": [
    "#### create lags for all dm ref pop counts"
   ]
  },
  {
   "cell_type": "code",
   "execution_count": 81,
   "metadata": {},
   "outputs": [],
   "source": [
    "create_lag_vars(dir_path='/Users/salma/Research/us_crime_data_analysis/data/final_core_dm_pop_ref',\n",
    "                op_path='/Users/salma/Research/us_crime_data_analysis/data/final_core_dm_pop_ref_lag',\n",
    "               groupby_var='ORI',\n",
    "               num_of_lags=2)"
   ]
  },
  {
   "cell_type": "markdown",
   "metadata": {},
   "source": [
    "#### create lags for 90-02 dm ref pop counts"
   ]
  },
  {
   "cell_type": "code",
   "execution_count": 82,
   "metadata": {},
   "outputs": [],
   "source": [
    "create_lag_vars(dir_path='/Users/salma/Research/us_crime_data_analysis/data/final_core_dm_pop_ref_90_02',\n",
    "                            op_path='/Users/salma/Research/us_crime_data_analysis/data/final_core_dm_pop_ref_lag_90_02',\n",
    "               groupby_var='ORI',\n",
    "               num_of_lags=2)"
   ]
  },
  {
   "cell_type": "markdown",
   "metadata": {},
   "source": [
    "#### create lags for 03-15 dm ref pop counts\n"
   ]
  },
  {
   "cell_type": "code",
   "execution_count": 83,
   "metadata": {},
   "outputs": [],
   "source": [
    "create_lag_vars(dir_path='/Users/salma/Research/us_crime_data_analysis/data/final_core_dm_pop_ref_03_15',\n",
    "                            op_path='/Users/salma/Research/us_crime_data_analysis/data/final_core_dm_pop_ref_lag_03_15',\n",
    "               groupby_var='ORI',\n",
    "               num_of_lags=2)"
   ]
  }
 ],
 "metadata": {
  "kernelspec": {
   "display_name": "us_crime_data_analysis",
   "language": "python",
   "name": "us_crime_data_analysis"
  },
  "language_info": {
   "codemirror_mode": {
    "name": "ipython",
    "version": 3
   },
   "file_extension": ".py",
   "mimetype": "text/x-python",
   "name": "python",
   "nbconvert_exporter": "python",
   "pygments_lexer": "ipython3",
   "version": "3.8.1"
  }
 },
 "nbformat": 4,
 "nbformat_minor": 4
}

{
 "cells": [
  {
   "cell_type": "code",
   "execution_count": 191,
   "metadata": {},
   "outputs": [],
   "source": [
    "import pandas as pd\n",
    "import statsmodels.api as sm\n",
    "import numpy as np"
   ]
  },
  {
   "cell_type": "markdown",
   "metadata": {},
   "source": [
    "### Read in the required datasets"
   ]
  },
  {
   "cell_type": "code",
   "execution_count": 192,
   "metadata": {},
   "outputs": [],
   "source": [
    "#### read the required data files\n",
    "\n",
    "## counts\n",
    "fnl_large_core_dm_counts_90_02 = pd.read_csv('/Users/salma/Research/us_crime_data_analysis/data/final_core_dm_90_02/final_main_large_cities_core_counts_dm_1990_2002.csv')\n",
    "fnl_medium_core_dm_counts_90_02 = pd.read_csv('/Users/salma/Research/us_crime_data_analysis/data/final_core_dm_90_02/final_main_medium_cities_core_counts_dm_1990_2002.csv')\n",
    "fnl_small_core_dm_counts_90_02 = pd.read_csv('/Users/salma/Research/us_crime_data_analysis/data/final_core_dm_90_02/final_main_small_cities_core_counts_dm_1990_2002.csv')\n",
    "\n",
    "fnl_large_core_dm_counts_03_15 = pd.read_csv('/Users/salma/Research/us_crime_data_analysis/data/final_core_dm_03_15/final_main_large_cities_core_counts_dm_2003_2015.csv')\n",
    "fnl_medium_core_dm_counts_03_15 = pd.read_csv('/Users/salma/Research/us_crime_data_analysis/data/final_core_dm_03_15/final_main_medium_cities_core_counts_dm_2003_2015.csv')\n",
    "fnl_small_core_dm_counts_03_15 = pd.read_csv('/Users/salma/Research/us_crime_data_analysis/data/final_core_dm_03_15/final_main_small_cities_core_counts_dm_2003_2015.csv')\n",
    "\n",
    "## rates\n",
    "fnl_large_core_dm_rates_90_02 = pd.read_csv('/Users/salma/Research/us_crime_data_analysis/data/final_core_dm_90_02/final_main_large_cities_core_rates_dm_1990_2002.csv')\n",
    "fnl_medium_core_dm_rates_90_02 = pd.read_csv('/Users/salma/Research/us_crime_data_analysis/data/final_core_dm_90_02/final_main_medium_cities_core_rates_dm_1990_2002.csv')\n",
    "fnl_small_core_dm_rates_90_02 = pd.read_csv('/Users/salma/Research/us_crime_data_analysis/data/final_core_dm_90_02/final_main_small_cities_core_rates_dm_1990_2002.csv')\n",
    "\n",
    "fnl_large_core_dm_rates_03_15 = pd.read_csv('/Users/salma/Research/us_crime_data_analysis/data/final_core_dm_03_15/final_main_large_cities_core_rates_dm_2003_2015.csv')\n",
    "fnl_medium_core_dm_rates_03_15 = pd.read_csv('/Users/salma/Research/us_crime_data_analysis/data/final_core_dm_03_15/final_main_medium_cities_core_rates_dm_2003_2015.csv')\n",
    "fnl_small_core_dm_rates_03_15 = pd.read_csv('/Users/salma/Research/us_crime_data_analysis/data/final_core_dm_03_15/final_main_small_cities_core_rates_dm_2003_2015.csv')"
   ]
  },
  {
   "cell_type": "markdown",
   "metadata": {},
   "source": [
    "#### get median pop to be used as weights"
   ]
  },
  {
   "cell_type": "code",
   "execution_count": 193,
   "metadata": {},
   "outputs": [],
   "source": [
    "def create_pop_wt_col_by_median(req_dfs):\n",
    "    for df in req_dfs:\n",
    "        # returns a df pop_med\n",
    "        df_req = df.loc[:, ['ORI', 'fnl_population']]\n",
    "        df_req_med = df_req.groupby('ORI').agg({'fnl_population':np.median})\n",
    "        df_req_med.rename({'fnl_population': 'fnl_population_wt'}, axis=1, inplace=True)\n",
    "        df = df.merge(df_req_med, on='ORI', how='left')\n",
    "        return df"
   ]
  },
  {
   "cell_type": "code",
   "execution_count": 194,
   "metadata": {},
   "outputs": [],
   "source": [
    "#### Create pop wt col for dm counts\n",
    "fnl_large_core_dm_counts_90_02 = create_pop_wt_col_by_median(req_dfs=[fnl_large_core_dm_counts_90_02])\n",
    "fnl_medium_core_dm_counts_90_02 = create_pop_wt_col_by_median(req_dfs=[fnl_medium_core_dm_counts_90_02])\n",
    "fnl_small_core_dm_counts_90_02 = create_pop_wt_col_by_median(req_dfs=[fnl_small_core_dm_counts_90_02])\n",
    "\n",
    "fnl_large_core_dm_counts_03_15 = create_pop_wt_col_by_median(req_dfs=[fnl_large_core_dm_counts_03_15])\n",
    "fnl_medium_core_dm_counts_03_15 = create_pop_wt_col_by_median(req_dfs=[fnl_medium_core_dm_counts_03_15])\n",
    "fnl_small_core_dm_counts_03_15 = create_pop_wt_col_by_median(req_dfs=[fnl_small_core_dm_counts_03_15])"
   ]
  },
  {
   "cell_type": "code",
   "execution_count": 195,
   "metadata": {},
   "outputs": [],
   "source": [
    "#### Create pop wt col for dm rates\n",
    "fnl_large_core_dm_rates_90_02 = create_pop_wt_col_by_median(req_dfs=[fnl_large_core_dm_rates_90_02])\n",
    "fnl_medium_core_dm_rates_90_02 = create_pop_wt_col_by_median(req_dfs=[fnl_medium_core_dm_rates_90_02])\n",
    "fnl_small_core_dm_rates_90_02 = create_pop_wt_col_by_median(req_dfs=[fnl_small_core_dm_rates_90_02])\n",
    "\n",
    "fnl_large_core_dm_rates_03_15 = create_pop_wt_col_by_median(req_dfs=[fnl_large_core_dm_rates_03_15])\n",
    "fnl_medium_core_dm_rates_03_15 = create_pop_wt_col_by_median(req_dfs=[fnl_medium_core_dm_rates_03_15])\n",
    "fnl_small_core_dm_rates_03_15 = create_pop_wt_col_by_median(req_dfs=[fnl_small_core_dm_rates_03_15])"
   ]
  },
  {
   "cell_type": "markdown",
   "metadata": {},
   "source": [
    "#### func to create lagged vars with reqd shift"
   ]
  },
  {
   "cell_type": "code",
   "execution_count": 196,
   "metadata": {},
   "outputs": [],
   "source": [
    "def create_lag_vars(req_dfs, vars_to_lag, groupby_var, num_of_lags):\n",
    "    for df in req_dfs:\n",
    "        count=1\n",
    "        for lag_num in range(num_of_lags):\n",
    "            for var in vars_to_lag:\n",
    "                df[f'lag{count}_{var}'] = df.groupby(f'{groupby_var}')[f'{var}'].shift(count)\n",
    "            count+=1\n",
    "        return df"
   ]
  },
  {
   "cell_type": "code",
   "execution_count": 197,
   "metadata": {},
   "outputs": [],
   "source": [
    "#### create lags for counts\n",
    "vars_lag_list_counts = ['dm_violent_crime', 'dm_total_officers', 'dm_prison_occupancy_count', 'dm_jail_occupancy_count', 'dm_drug_tot_arrests', \n",
    "               'dm_disorder_arrests_tot_index']\n",
    "\n",
    "fnl_large_core_dm_counts_90_02 = create_lag_vars(req_dfs=[fnl_large_core_dm_counts_90_02],\n",
    "                         vars_to_lag=vars_lag_list_counts,\n",
    "                         groupby_var = 'ORI',\n",
    "                         num_of_lags=2)\n",
    "                                                     \n",
    "fnl_medium_core_dm_counts_90_02 = create_lag_vars(req_dfs=[fnl_medium_core_dm_counts_90_02],\n",
    "                         vars_to_lag=vars_lag_list_counts,\n",
    "                         groupby_var = 'ORI',\n",
    "                         num_of_lags=2)\n",
    "                                                          \n",
    "fnl_small_core_dm_counts_90_02 = create_lag_vars(req_dfs=[fnl_small_core_dm_counts_90_02],\n",
    "                         vars_to_lag=vars_lag_list_counts,\n",
    "                         groupby_var = 'ORI',\n",
    "                         num_of_lags=2)\n",
    "                \n",
    "fnl_large_core_dm_counts_03_15 = create_lag_vars(req_dfs=[fnl_large_core_dm_counts_03_15],\n",
    "                         vars_to_lag=vars_lag_list_counts,\n",
    "                         groupby_var = 'ORI',\n",
    "                         num_of_lags=2)\n",
    "                                                     \n",
    "fnl_medium_core_dm_counts_03_15 = create_lag_vars(req_dfs=[fnl_medium_core_dm_counts_03_15],\n",
    "                         vars_to_lag=vars_lag_list_counts,\n",
    "                         groupby_var = 'ORI',\n",
    "                         num_of_lags=2)\n",
    "                                                          \n",
    "fnl_small_core_dm_counts_03_15 = create_lag_vars(req_dfs=[fnl_small_core_dm_counts_03_15],\n",
    "                         vars_to_lag=vars_lag_list_counts,\n",
    "                         groupby_var = 'ORI',\n",
    "                         num_of_lags=2)"
   ]
  },
  {
   "cell_type": "code",
   "execution_count": 198,
   "metadata": {},
   "outputs": [],
   "source": [
    "#### create lags for rates\n",
    "vars_lag_list_rates = ['dm_violent_crime_rate', 'dm_total_officers_rate', 'dm_prison_occupancy_count_rate', 'dm_jail_occupancy_count_rate',\n",
    "               'dm_drug_tot_arrests_rate', 'dm_disorder_arrests_tot_index_rate']\n",
    "\n",
    "fnl_large_core_dm_rates_90_02 = create_lag_vars(req_dfs=[fnl_large_core_dm_rates_90_02],\n",
    "                         vars_to_lag=vars_lag_list_rates,\n",
    "                         groupby_var = 'ORI',\n",
    "                         num_of_lags=2)\n",
    "                                                     \n",
    "fnl_medium_core_dm_rates_90_02 = create_lag_vars(req_dfs=[fnl_medium_core_dm_rates_90_02],\n",
    "                         vars_to_lag=vars_lag_list_rates,\n",
    "                         groupby_var = 'ORI',\n",
    "                         num_of_lags=2)\n",
    "                                                          \n",
    "fnl_small_core_dm_rates_90_02 = create_lag_vars(req_dfs=[fnl_small_core_dm_rates_90_02],\n",
    "                         vars_to_lag=vars_lag_list_rates,\n",
    "                         groupby_var = 'ORI',\n",
    "                         num_of_lags=2)\n",
    "                \n",
    "fnl_large_core_dm_rates_03_15 = create_lag_vars(req_dfs=[fnl_large_core_dm_rates_03_15],\n",
    "                         vars_to_lag=vars_lag_list_rates,\n",
    "                         groupby_var = 'ORI',\n",
    "                         num_of_lags=2)\n",
    "                                                     \n",
    "fnl_medium_core_dm_rates_03_15 = create_lag_vars(req_dfs=[fnl_medium_core_dm_rates_03_15],\n",
    "                         vars_to_lag=vars_lag_list_rates,\n",
    "                         groupby_var = 'ORI',\n",
    "                         num_of_lags=2)\n",
    "                                                          \n",
    "fnl_small_core_dm_rates_03_15 = create_lag_vars(req_dfs=[fnl_small_core_dm_rates_03_15],\n",
    "                         vars_to_lag=vars_lag_list_rates,\n",
    "                         groupby_var = 'ORI',\n",
    "                         num_of_lags=2)"
   ]
  },
  {
   "cell_type": "markdown",
   "metadata": {},
   "source": [
    "#### append all individual counts files to get top level final files"
   ]
  },
  {
   "cell_type": "code",
   "execution_count": 199,
   "metadata": {},
   "outputs": [],
   "source": [
    "fnl_core_counts_dm_pop_ref_wt_lag_90_02 = fnl_large_core_dm_counts_90_02.append([fnl_medium_core_dm_counts_90_02, fnl_small_core_dm_counts_90_02], sort=False)\n",
    "\n",
    "fnl_core_counts_dm_pop_ref_wt_lag_90_02.sort_values(['ORI', 'YEAR'], inplace=True)\n",
    "\n",
    "fnl_core_counts_dm_pop_ref_wt_lag_90_02.to_csv('/Users/salma/Research/us_crime_data_analysis/data/final_core_dm_pop_ref_lag/fnl_core_counts_dm_pop_ref_wt_lag_90_02.csv',\n",
    "                               index=False)\n",
    "\n",
    "\n",
    "fnl_core_counts_dm_pop_ref_wt_lag_03_15 = fnl_large_core_dm_counts_03_15.append([fnl_medium_core_dm_counts_03_15, fnl_small_core_dm_counts_03_15], sort=False)\n",
    "\n",
    "fnl_core_counts_dm_pop_ref_wt_lag_03_15.sort_values(['ORI', 'YEAR'], inplace=True)\n",
    "\n",
    "fnl_core_counts_dm_pop_ref_wt_lag_03_15.to_csv('/Users/salma/Research/us_crime_data_analysis/data/final_core_dm_pop_ref_lag/fnl_core_counts_dm_pop_ref_wt_lag_03_15.csv',\n",
    "                               index=False)\n",
    "\n",
    "\n",
    "fnl_core_counts_dm_pop_ref_wt_lag_90_15 = fnl_core_counts_dm_pop_ref_wt_lag_90_02.append([fnl_core_counts_dm_pop_ref_wt_lag_03_15], sort=False)\n",
    "\n",
    "fnl_core_counts_dm_pop_ref_wt_lag_90_15.sort_values(['ORI', 'YEAR'], inplace=True)\n",
    "\n",
    "fnl_core_counts_dm_pop_ref_wt_lag_90_15.to_csv('/Users/salma/Research/us_crime_data_analysis/data/final_core_dm_pop_ref_lag/fnl_core_counts_dm_pop_ref_wt_lag_90_15.csv',\n",
    "                               index=False)"
   ]
  },
  {
   "cell_type": "markdown",
   "metadata": {},
   "source": [
    "#### append all individual rates files to get top level final files\n"
   ]
  },
  {
   "cell_type": "code",
   "execution_count": 200,
   "metadata": {},
   "outputs": [],
   "source": [
    "fnl_core_rates_dm_pop_ref_wt_lag_90_02 = fnl_large_core_dm_rates_90_02.append([fnl_medium_core_dm_rates_90_02, fnl_small_core_dm_rates_90_02], sort=False)\n",
    "\n",
    "fnl_core_rates_dm_pop_ref_wt_lag_90_02.sort_values(['ORI', 'YEAR'], inplace=True)\n",
    "\n",
    "fnl_core_rates_dm_pop_ref_wt_lag_90_02.to_csv('/Users/salma/Research/us_crime_data_analysis/data/final_core_dm_pop_ref_lag/fnl_core_rates_dm_pop_ref_wt_lag_90_02.csv',\n",
    "                               index=False)\n",
    "\n",
    "\n",
    "fnl_core_rates_dm_pop_ref_wt_lag_03_15 = fnl_large_core_dm_rates_03_15.append([fnl_medium_core_dm_rates_03_15, fnl_small_core_dm_rates_03_15], sort=False)\n",
    "\n",
    "fnl_core_rates_dm_pop_ref_wt_lag_03_15.sort_values(['ORI', 'YEAR'], inplace=True)\n",
    "\n",
    "fnl_core_rates_dm_pop_ref_wt_lag_03_15.to_csv('/Users/salma/Research/us_crime_data_analysis/data/final_core_dm_pop_ref_lag/fnl_core_rates_dm_pop_ref_wt_lag_03_15.csv',\n",
    "                               index=False)\n",
    "\n",
    "\n",
    "fnl_core_rates_dm_pop_ref_wt_lag_90_15 = fnl_core_rates_dm_pop_ref_wt_lag_90_02.append([fnl_core_rates_dm_pop_ref_wt_lag_03_15], sort=False)\n",
    "\n",
    "fnl_core_rates_dm_pop_ref_wt_lag_90_15.sort_values(['ORI', 'YEAR'], inplace=True)\n",
    "\n",
    "fnl_core_rates_dm_pop_ref_wt_lag_90_15.to_csv('/Users/salma/Research/us_crime_data_analysis/data/final_core_dm_pop_ref_lag/fnl_core_rates_dm_pop_ref_wt_lag_90_15.csv',\n",
    "                               index=False)"
   ]
  },
  {
   "cell_type": "markdown",
   "metadata": {},
   "source": [
    "#### create a func to automate weighted lagged regression - univariate for now"
   ]
  },
  {
   "cell_type": "code",
   "execution_count": 201,
   "metadata": {},
   "outputs": [],
   "source": [
    "def wols_lagged_uni(req_dfs, dep_var, ind_vars, weights_var, dataset_names=False):\n",
    "    for df in req_dfs:\n",
    "        for var in ind_vars:\n",
    "            model = sm.WLS.from_formula(f'{dep_var} ~ {var} + lag1_{var} + lag2_{var}', data=df, weights=df[f'{weights_var}'])\n",
    "            results = model.fit()\n",
    "            if dataset_names:\n",
    "                print(dataset_names[df_count])\n",
    "            print(results.summary(), '\\n', '\\n')\n"
   ]
  },
  {
   "cell_type": "markdown",
   "metadata": {},
   "source": [
    "#### Rates - Perform wls with ref pop wts and lag for fnl_core_rates_dm_pop_ref_wt_lag_90_15.csv file"
   ]
  },
  {
   "cell_type": "code",
   "execution_count": 202,
   "metadata": {},
   "outputs": [],
   "source": [
    "dm_dep_var_rates = 'dm_violent_crime_rate'\n",
    "dm_ind_vars_rates = ['dm_total_officers_rate', 'dm_prison_occupancy_count_rate', 'dm_jail_occupancy_count_rate',\n",
    "               'dm_drug_tot_arrests_rate', 'dm_disorder_arrests_tot_index_rate']"
   ]
  },
  {
   "cell_type": "code",
   "execution_count": 203,
   "metadata": {},
   "outputs": [
    {
     "name": "stdout",
     "output_type": "stream",
     "text": [
      "                              WLS Regression Results                             \n",
      "=================================================================================\n",
      "Dep. Variable:     dm_violent_crime_rate   R-squared:                       0.008\n",
      "Model:                               WLS   Adj. R-squared:                  0.008\n",
      "Method:                    Least Squares   F-statistic:                     230.8\n",
      "Date:                   Sat, 04 Apr 2020   Prob (F-statistic):          3.70e-149\n",
      "Time:                           00:10:52   Log-Likelihood:            -6.5339e+05\n",
      "No. Observations:                  91031   AIC:                         1.307e+06\n",
      "Df Residuals:                      91027   BIC:                         1.307e+06\n",
      "Df Model:                              3                                         \n",
      "Covariance Type:               nonrobust                                         \n",
      "===============================================================================================\n",
      "                                  coef    std err          t      P>|t|      [0.025      0.975]\n",
      "-----------------------------------------------------------------------------------------------\n",
      "Intercept                     -19.6846      0.788    -24.971      0.000     -21.230     -18.140\n",
      "dm_total_officers_rate          6.0365      1.914      3.154      0.002       2.286       9.787\n",
      "lag1_dm_total_officers_rate    -7.6466      2.423     -3.156      0.002     -12.396      -2.897\n",
      "lag2_dm_total_officers_rate   -33.1947      2.055    -16.157      0.000     -37.221     -29.168\n",
      "==============================================================================\n",
      "Omnibus:                    76365.397   Durbin-Watson:                   0.518\n",
      "Prob(Omnibus):                  0.000   Jarque-Bera (JB):        339586757.876\n",
      "Skew:                           2.484   Prob(JB):                         0.00\n",
      "Kurtosis:                     302.176   Cond. No.                         3.74\n",
      "==============================================================================\n",
      "\n",
      "Warnings:\n",
      "[1] Standard Errors assume that the covariance matrix of the errors is correctly specified. \n",
      " \n",
      "\n",
      "                              WLS Regression Results                             \n",
      "=================================================================================\n",
      "Dep. Variable:     dm_violent_crime_rate   R-squared:                       0.087\n",
      "Model:                               WLS   Adj. R-squared:                  0.087\n",
      "Method:                    Least Squares   F-statistic:                     2497.\n",
      "Date:                   Sat, 04 Apr 2020   Prob (F-statistic):               0.00\n",
      "Time:                           00:10:52   Log-Likelihood:            -5.6355e+05\n",
      "No. Observations:                  78854   AIC:                         1.127e+06\n",
      "Df Residuals:                      78850   BIC:                         1.127e+06\n",
      "Df Model:                              3                                         \n",
      "Covariance Type:               nonrobust                                         \n",
      "=======================================================================================================\n",
      "                                          coef    std err          t      P>|t|      [0.025      0.975]\n",
      "-------------------------------------------------------------------------------------------------------\n",
      "Intercept                             -28.9206      0.829    -34.906      0.000     -30.544     -27.297\n",
      "dm_prison_occupancy_count_rate          7.8271      0.223     35.036      0.000       7.389       8.265\n",
      "lag1_dm_prison_occupancy_count_rate     0.0770      0.351      0.219      0.827      -0.611       0.765\n",
      "lag2_dm_prison_occupancy_count_rate   -10.8176      0.220    -49.132      0.000     -11.249     -10.386\n",
      "==============================================================================\n",
      "Omnibus:                    61649.912   Durbin-Watson:                   0.558\n",
      "Prob(Omnibus):                  0.000   Jarque-Bera (JB):        306222065.668\n",
      "Skew:                           2.120   Prob(JB):                         0.00\n",
      "Kurtosis:                     308.260   Cond. No.                         18.6\n",
      "==============================================================================\n",
      "\n",
      "Warnings:\n",
      "[1] Standard Errors assume that the covariance matrix of the errors is correctly specified. \n",
      " \n",
      "\n",
      "                              WLS Regression Results                             \n",
      "=================================================================================\n",
      "Dep. Variable:     dm_violent_crime_rate   R-squared:                       0.031\n",
      "Model:                               WLS   Adj. R-squared:                  0.031\n",
      "Method:                    Least Squares   F-statistic:                     933.4\n",
      "Date:                   Sat, 04 Apr 2020   Prob (F-statistic):               0.00\n",
      "Time:                           00:10:52   Log-Likelihood:            -6.3225e+05\n",
      "No. Observations:                  88168   AIC:                         1.265e+06\n",
      "Df Residuals:                      88164   BIC:                         1.265e+06\n",
      "Df Model:                              3                                         \n",
      "Covariance Type:               nonrobust                                         \n",
      "=====================================================================================================\n",
      "                                        coef    std err          t      P>|t|      [0.025      0.975]\n",
      "-----------------------------------------------------------------------------------------------------\n",
      "Intercept                           -25.0067      0.805    -31.056      0.000     -26.585     -23.429\n",
      "dm_jail_occupancy_count_rate          4.8413      0.584      8.297      0.000       3.698       5.985\n",
      "lag1_dm_jail_occupancy_count_rate     8.7493      1.082      8.086      0.000       6.629      10.870\n",
      "lag2_dm_jail_occupancy_count_rate   -16.2323      0.606    -26.766      0.000     -17.421     -15.044\n",
      "==============================================================================\n",
      "Omnibus:                    78556.841   Durbin-Watson:                   0.514\n",
      "Prob(Omnibus):                  0.000   Jarque-Bera (JB):        383988319.285\n",
      "Skew:                           2.796   Prob(JB):                         0.00\n",
      "Kurtosis:                     326.254   Cond. No.                         22.0\n",
      "==============================================================================\n",
      "\n",
      "Warnings:\n",
      "[1] Standard Errors assume that the covariance matrix of the errors is correctly specified. \n",
      " \n",
      "\n",
      "                              WLS Regression Results                             \n",
      "=================================================================================\n",
      "Dep. Variable:     dm_violent_crime_rate   R-squared:                       0.022\n",
      "Model:                               WLS   Adj. R-squared:                  0.022\n",
      "Method:                    Least Squares   F-statistic:                     668.7\n",
      "Date:                   Sat, 04 Apr 2020   Prob (F-statistic):               0.00\n",
      "Time:                           00:10:52   Log-Likelihood:            -6.5274e+05\n",
      "No. Observations:                  91031   AIC:                         1.305e+06\n",
      "Df Residuals:                      91027   BIC:                         1.306e+06\n",
      "Df Model:                              3                                         \n",
      "Covariance Type:               nonrobust                                         \n",
      "=================================================================================================\n",
      "                                    coef    std err          t      P>|t|      [0.025      0.975]\n",
      "-------------------------------------------------------------------------------------------------\n",
      "Intercept                       -20.1390      0.783    -25.724      0.000     -21.673     -18.605\n",
      "dm_drug_tot_arrests_rate          1.7229      0.046     37.257      0.000       1.632       1.814\n",
      "lag1_dm_drug_tot_arrests_rate    -0.4699      0.056     -8.327      0.000      -0.580      -0.359\n",
      "lag2_dm_drug_tot_arrests_rate    -0.0098      0.045     -0.215      0.830      -0.099       0.079\n",
      "==============================================================================\n",
      "Omnibus:                    86199.803   Durbin-Watson:                   0.521\n",
      "Prob(Omnibus):                  0.000   Jarque-Bera (JB):        345032038.875\n",
      "Skew:                           3.214   Prob(JB):                         0.00\n",
      "Kurtosis:                     304.538   Cond. No.                         38.0\n",
      "==============================================================================\n",
      "\n",
      "Warnings:\n",
      "[1] Standard Errors assume that the covariance matrix of the errors is correctly specified. \n",
      " \n",
      "\n",
      "                              WLS Regression Results                             \n",
      "=================================================================================\n",
      "Dep. Variable:     dm_violent_crime_rate   R-squared:                       0.063\n",
      "Model:                               WLS   Adj. R-squared:                  0.063\n",
      "Method:                    Least Squares   F-statistic:                     1847.\n",
      "Date:                   Sat, 04 Apr 2020   Prob (F-statistic):               0.00\n",
      "Time:                           00:10:52   Log-Likelihood:            -5.8954e+05\n",
      "No. Observations:                  82696   AIC:                         1.179e+06\n",
      "Df Residuals:                      82692   BIC:                         1.179e+06\n",
      "Df Model:                              3                                         \n",
      "Covariance Type:               nonrobust                                         \n",
      "===========================================================================================================\n",
      "                                              coef    std err          t      P>|t|      [0.025      0.975]\n",
      "-----------------------------------------------------------------------------------------------------------\n",
      "Intercept                                 -14.2839      0.800    -17.859      0.000     -15.852     -12.716\n",
      "dm_disorder_arrests_tot_index_rate          1.1303      0.037     30.843      0.000       1.059       1.202\n",
      "lag1_dm_disorder_arrests_tot_index_rate     0.1267      0.046      2.766      0.006       0.037       0.216\n",
      "lag2_dm_disorder_arrests_tot_index_rate     0.4922      0.035     14.088      0.000       0.424       0.561\n",
      "==============================================================================\n",
      "Omnibus:                    76017.609   Durbin-Watson:                   0.506\n",
      "Prob(Omnibus):                  0.000   Jarque-Bera (JB):        308295832.712\n",
      "Skew:                           3.021   Prob(JB):                         0.00\n",
      "Kurtosis:                     302.060   Cond. No.                         58.7\n",
      "==============================================================================\n",
      "\n",
      "Warnings:\n",
      "[1] Standard Errors assume that the covariance matrix of the errors is correctly specified. \n",
      " \n",
      "\n"
     ]
    }
   ],
   "source": [
    "wols_lagged_uni(req_dfs=[fnl_core_rates_dm_pop_ref_wt_lag_90_15], \n",
    "                dep_var=dm_dep_var_rates,\n",
    "               ind_vars=dm_ind_vars_rates,\n",
    "               weights_var='fnl_population_wt')"
   ]
  },
  {
   "cell_type": "code",
   "execution_count": 204,
   "metadata": {},
   "outputs": [
    {
     "name": "stdout",
     "output_type": "stream",
     "text": [
      "['ORI', 'AGENCY', 'YEAR', 'Govt_level', 'POP100', 'place_fips', 'STATEFP', 'CNTY', 'fnl_population', 'population_mean', 'ncrp_incarc_rep_code', 'dm_POP100', 'dm_White_count', 'dm_Black_count', 'dm_Hispanic_count', 'dm_Age1524_WhiteM', 'dm_White_Males_All', 'dm_Age1524_WhiteF', 'dm_White_Females_All', 'dm_Age1524_BlackM', 'dm_Black_Males_All', 'dm_Age1524_BlackF', 'dm_Black_Females_All', 'dm_Hispanic_Males_All', 'dm_Age1524_HispanicM', 'dm_Age1524_HispanicF', 'dm_Hispanic_Females_All', 'dm_Pct_WYM', 'dm_Pct_WYF', 'dm_total_count_county', 'dm_population', 'dm_murder', 'dm_rape', 'dm_robbery', 'dm_agg_assault', 'dm_simple_assault', 'dm_burglary', 'dm_larceny', 'dm_motor_vehicle_theft', 'dm_violent_crime', 'dm_total_crime', 'dm_property_crime', 'dm_main_crime', 'dm_murder_tot_arrests', 'dm_murder_tot_arrests_black', 'dm_murder_tot_arrests_white', 'dm_rape_tot_arrests', 'dm_rape_tot_arrests_black', 'dm_rape_tot_arrests_white', 'dm_robbery_tot_arrests', 'dm_robbery_tot_arrests_black', 'dm_robbery_tot_arrests_white', 'dm_agg_assault_tot_arrests', 'dm_agg_assault_tot_arrests_white', 'dm_agg_assault_tot_arrests_black', 'dm_larceny_theft_tot_arrests', 'dm_larceny_theft_tot_arrests_black', 'dm_larceny_theft_tot_arrests_white', 'dm_burglary_tot_arrests', 'dm_burglary_tot_arrests_black', 'dm_burglary_tot_arrests_white', 'dm_mtr_veh_theft_tot_arrests', 'dm_mtr_veh_theft_tot_arrests_black', 'dm_mtr_veh_theft_tot_arrests_white', 'dm_violent_tot_arrests', 'dm_property_tot_arrests', 'dm_main_tot_arrests', 'dm_violent_tot_arrests_black', 'dm_property_tot_arrests_black', 'dm_main_arrests_tot_black', 'dm_violent_tot_arrests_white', 'dm_property_tot_arrests_white', 'dm_main_arrests_tot_white', 'dm_sale_drug_tot_arrests', 'dm_sale_drug_tot_arrests_black', 'dm_sale_drug_tot_arrests_white', 'dm_drug_tot_arrests', 'dm_drug_tot_arrests_black', 'dm_drug_tot_arrests_white', 'dm_poss_drug_tot_arrests', 'dm_poss_drug_tot_arrests_black', 'dm_poss_drug_tot_arrests_white', 'dm_disorder_arrests_tot_index', 'dm_disorder_tot_arrests_black_index', 'dm_disorder_tot_arrests_white_index', 'dm_total_officers', 'dm_pci_total_pop', 'dm_pci_white', 'dm_pci_black', 'dm_emp_total', 'dm_emp_total_white', 'dm_emp_total_black', 'dm_tot_felonies_agency', 'dm_tot_misdemeanors_agency', 'dm_perc_felonies', 'dm_perc_misdemeanors', 'dm_prison_occupancy_count', 'dm_jail_occupancy_count', 'dm_fnl_population', 'fnl_population_wt', 'lag1_dm_violent_crime', 'lag1_dm_total_officers', 'lag1_dm_prison_occupancy_count', 'lag1_dm_jail_occupancy_count', 'lag1_dm_drug_tot_arrests', 'lag1_dm_disorder_arrests_tot_index', 'lag2_dm_violent_crime', 'lag2_dm_total_officers', 'lag2_dm_prison_occupancy_count', 'lag2_dm_jail_occupancy_count', 'lag2_dm_drug_tot_arrests', 'lag2_dm_disorder_arrests_tot_index']\n"
     ]
    }
   ],
   "source": [
    "print(list(fnl_large_core_dm_counts_90_02))"
   ]
  },
  {
   "cell_type": "code",
   "execution_count": null,
   "metadata": {},
   "outputs": [],
   "source": []
  }
 ],
 "metadata": {
  "kernelspec": {
   "display_name": "us_crime_data_analysis",
   "language": "python",
   "name": "us_crime_data_analysis"
  },
  "language_info": {
   "codemirror_mode": {
    "name": "ipython",
    "version": 3
   },
   "file_extension": ".py",
   "mimetype": "text/x-python",
   "name": "python",
   "nbconvert_exporter": "python",
   "pygments_lexer": "ipython3",
   "version": "3.8.1"
  }
 },
 "nbformat": 4,
 "nbformat_minor": 4
}

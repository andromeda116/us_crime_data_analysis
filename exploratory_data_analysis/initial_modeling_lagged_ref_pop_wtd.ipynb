{
 "cells": [
  {
   "cell_type": "code",
   "execution_count": 76,
   "metadata": {},
   "outputs": [],
   "source": [
    "import pandas as pd\n",
    "import statsmodels.api as sm\n",
    "import numpy as np\n",
    "\n",
    "from ipynb.fs.defs.initial_modeling_fnl_dm_weighted import wols_multiple_data_multiple_ind_vars"
   ]
  },
  {
   "cell_type": "markdown",
   "metadata": {},
   "source": [
    "### Read in the required datasets"
   ]
  },
  {
   "cell_type": "code",
   "execution_count": 86,
   "metadata": {},
   "outputs": [],
   "source": [
    "#### read the required data files\n",
    "\n",
    "## counts\n",
    "fnl_large_core_dm_counts_90_02 = pd.read_csv('/Users/salma/Research/us_crime_data_analysis/data/final_core_dm_90_02/final_main_large_cities_core_counts_dm_1990_2002.csv')\n",
    "fnl_medium_core_dm_counts_90_02 = pd.read_csv('/Users/salma/Research/us_crime_data_analysis/data/final_core_dm_90_02/final_main_medium_cities_core_counts_dm_1990_2002.csv')\n",
    "fnl_small_core_dm_counts_90_02 = pd.read_csv('/Users/salma/Research/us_crime_data_analysis/data/final_core_dm_90_02/final_main_small_cities_core_counts_dm_1990_2002.csv')\n",
    "\n",
    "fnl_large_core_dm_counts_03_15 = pd.read_csv('/Users/salma/Research/us_crime_data_analysis/data/final_core_dm_03_15/final_main_large_cities_core_counts_dm_2003_2015.csv')\n",
    "fnl_medium_core_dm_counts_03_15 = pd.read_csv('/Users/salma/Research/us_crime_data_analysis/data/final_core_dm_03_15/final_main_medium_cities_core_counts_dm_2003_2015.csv')\n",
    "fnl_small_core_dm_counts_03_15 = pd.read_csv('/Users/salma/Research/us_crime_data_analysis/data/final_core_dm_03_15/final_main_small_cities_core_counts_dm_2003_2015.csv')\n",
    "\n",
    "## rates\n",
    "fnl_large_core_dm_rates_90_02 = pd.read_csv('/Users/salma/Research/us_crime_data_analysis/data/final_core_dm_90_02/final_main_large_cities_core_rates_dm_1990_2002.csv')\n",
    "fnl_medium_core_dm_rates_90_02 = pd.read_csv('/Users/salma/Research/us_crime_data_analysis/data/final_core_dm_90_02/final_main_medium_cities_core_rates_dm_1990_2002.csv')\n",
    "fnl_small_core_dm_rates_90_02 = pd.read_csv('/Users/salma/Research/us_crime_data_analysis/data/final_core_dm_90_02/final_main_small_cities_core_rates_dm_1990_2002.csv')\n",
    "\n",
    "fnl_large_core_dm_rates_03_15 = pd.read_csv('/Users/salma/Research/us_crime_data_analysis/data/final_core_dm_03_15/final_main_large_cities_core_rates_dm_2003_2015.csv')\n",
    "fnl_medium_core_dm_rates_03_15 = pd.read_csv('/Users/salma/Research/us_crime_data_analysis/data/final_core_dm_03_15/final_main_medium_cities_core_rates_dm_2003_2015.csv')\n",
    "fnl_small_core_dm_rates_03_15 = pd.read_csv('/Users/salma/Research/us_crime_data_analysis/data/final_core_dm_03_15/final_main_small_cities_core_rates_dm_2003_2015.csv')"
   ]
  },
  {
   "cell_type": "markdown",
   "metadata": {},
   "source": [
    "#### get median pop to be used as weights"
   ]
  },
  {
   "cell_type": "code",
   "execution_count": 88,
   "metadata": {},
   "outputs": [],
   "source": [
    "def create_pop_wt_col_by_median(req_dfs):\n",
    "    for df in req_dfs:\n",
    "        # returns a df pop_med\n",
    "        pop_med = df.groupby('ORI').agg({'fnl_population':np.median})\n",
    "        pop_med.rename({'fnl_population': 'fnl_population_wt'}, axis=1, inplace=True)\n",
    "        df = df.merge(pop_med, on='ORI', how='left')"
   ]
  },
  {
   "cell_type": "code",
   "execution_count": 89,
   "metadata": {},
   "outputs": [],
   "source": [
    "#### Create pop wt col for dm counts\n",
    "create_pop_wt_col_by_median(req_dfs=[fnl_large_core_dm_counts_90_02, fnl_medium_core_dm_counts_90_02, fnl_small_core_dm_counts_90_02,\n",
    "                                    fnl_large_core_dm_counts_03_15, fnl_medium_core_dm_counts_03_15, fnl_small_core_dm_counts_03_15])"
   ]
  },
  {
   "cell_type": "code",
   "execution_count": 90,
   "metadata": {},
   "outputs": [],
   "source": [
    "#### Create pop wt col for dm rates\n",
    "create_pop_wt_col_by_median(req_dfs=[fnl_large_core_dm_rates_90_02, fnl_medium_core_dm_rates_90_02, fnl_small_core_dm_rates_90_02,\n",
    "                                     fnl_large_core_dm_rates_03_15, fnl_medium_core_dm_rates_03_15, fnl_small_core_dm_rates_03_15])"
   ]
  },
  {
   "cell_type": "markdown",
   "metadata": {},
   "source": [
    "#### func to create lagged vars with reqd shift"
   ]
  },
  {
   "cell_type": "code",
   "execution_count": 81,
   "metadata": {},
   "outputs": [],
   "source": [
    "def create_lag_vars(req_dfs, vars_to_lag, groupby_var, num_of_lags):\n",
    "    for df in req_dfs:\n",
    "        count=1\n",
    "        for lag_num in range(num_of_lags):\n",
    "            for var in vars_to_lag:\n",
    "                df[f'lag{count}_{var}'] = df.groupby(f'{groupby_var}')[f'{var}'].shift(count)\n",
    "            count+=1"
   ]
  },
  {
   "cell_type": "markdown",
   "metadata": {},
   "source": [
    "#### create lags for counts"
   ]
  },
  {
   "cell_type": "code",
   "execution_count": 91,
   "metadata": {},
   "outputs": [],
   "source": [
    "create_lag_vars(req_dfs=[fnl_large_core_dm_counts_90_02, fnl_medium_core_dm_counts_90_02, fnl_small_core_dm_counts_90_02,\n",
    "                                    fnl_large_core_dm_counts_03_15, fnl_medium_core_dm_counts_03_15, fnl_small_core_dm_counts_03_15], \n",
    "                vars_to_lag=['dm_violent_crime', 'dm_total_officers', \n",
    "                             'dm_prison_occupancy_count', 'dm_jail_occupancy_count', \n",
    "                             'dm_drug_tot_arrests', 'dm_disorder_arrests_tot_index'],\n",
    "                groupby_var = 'ORI',\n",
    "               num_of_lags=2)"
   ]
  },
  {
   "cell_type": "markdown",
   "metadata": {},
   "source": [
    "#### create lags for rates"
   ]
  },
  {
   "cell_type": "code",
   "execution_count": 93,
   "metadata": {},
   "outputs": [],
   "source": [
    "create_lag_vars(req_dfs=[fnl_large_core_dm_rates_90_02, fnl_medium_core_dm_rates_90_02, fnl_small_core_dm_rates_90_02,\n",
    "                                     fnl_large_core_dm_rates_03_15, fnl_medium_core_dm_rates_03_15, fnl_small_core_dm_rates_03_15], \n",
    "                vars_to_lag=['dm_violent_crime_rate', 'dm_total_officers_rate', \n",
    "                             'dm_prison_occupancy_count_rate', 'dm_jail_occupancy_count_rate',\n",
    "                             'dm_drug_tot_arrests_rate', 'dm_disorder_arrests_tot_index_rate'],\n",
    "                groupby_var = 'ORI',\n",
    "               num_of_lags=2)"
   ]
  },
  {
   "cell_type": "code",
   "execution_count": null,
   "metadata": {},
   "outputs": [],
   "source": [
    "def wols_multiple_data_multiple_ind_vars(req_dfs, dep_vars, ind_vars, weights_var, dataset_names=False, counts=True):\n",
    "\n"
   ]
  },
  {
   "cell_type": "code",
   "execution_count": null,
   "metadata": {},
   "outputs": [],
   "source": []
  }
 ],
 "metadata": {
  "kernelspec": {
   "display_name": "us_crime_data_analysis",
   "language": "python",
   "name": "us_crime_data_analysis"
  },
  "language_info": {
   "codemirror_mode": {
    "name": "ipython",
    "version": 3
   },
   "file_extension": ".py",
   "mimetype": "text/x-python",
   "name": "python",
   "nbconvert_exporter": "python",
   "pygments_lexer": "ipython3",
   "version": "3.8.1"
  }
 },
 "nbformat": 4,
 "nbformat_minor": 4
}

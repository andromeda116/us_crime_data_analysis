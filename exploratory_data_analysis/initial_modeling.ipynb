{
 "cells": [
  {
   "cell_type": "code",
   "execution_count": 1,
   "metadata": {},
   "outputs": [],
   "source": [
    "import pandas as pd\n",
    "import statsmodels.api as sm"
   ]
  },
  {
   "cell_type": "code",
   "execution_count": 2,
   "metadata": {},
   "outputs": [],
   "source": [
    "#### Read in the required counts datasets ####\n",
    "fnl_mn_large = pd.read_csv('/Users/salma/Research/us_crime_data_analysis/data/final_all_wdt_3z_core/counts/final_main_large_cities_core_counts.csv')\n",
    "fnl_mn_med = pd.read_csv('/Users/salma/Research/us_crime_data_analysis/data/final_all_wdt_3z_core/counts/final_main_medium_cities_core_counts.csv')\n",
    "fnl_mn_sml = pd.read_csv('/Users/salma/Research/us_crime_data_analysis/data/final_all_wdt_3z_core/counts/final_main_small_cities_core_counts.csv')\n",
    "\n",
    "fnl_mn_wdt_low_3z_large = pd.read_csv('/Users/salma/Research/us_crime_data_analysis/data/final_all_wdt_3z_core/counts/final_main_without_lower_3z_large_cities_core_counts.csv')\n",
    "fnl_mn_wdt_low_3z_med = pd.read_csv('/Users/salma/Research/us_crime_data_analysis/data/final_all_wdt_3z_core/counts/final_main_without_lower_3z_medium_cities_core_counts.csv')\n",
    "fnl_mn_wdt_low_3z_sml = pd.read_csv('/Users/salma/Research/us_crime_data_analysis/data/final_all_wdt_3z_core/counts/final_main_without_lower_3z_small_cities_core_counts.csv')\n",
    "\n",
    "#### Read in the required rates datasets ####\n",
    "fnl_mn_large_rates = pd.read_csv('/Users/salma/Research/us_crime_data_analysis/data/final_all_wdt_3z_core/rates/final_main_large_cities_core_rates.csv')\n",
    "fnl_mn_med_rates = pd.read_csv('/Users/salma/Research/us_crime_data_analysis/data/final_all_wdt_3z_core/rates/final_main_medium_cities_core_rates.csv')\n",
    "fnl_mn_sml_rates = pd.read_csv('/Users/salma/Research/us_crime_data_analysis/data/final_all_wdt_3z_core/rates/final_main_small_cities_core_rates.csv')\n",
    "\n",
    "fnl_mn_wdt_low_3z_large_rates = pd.read_csv('/Users/salma/Research/us_crime_data_analysis/data/final_all_wdt_3z_core/rates/final_main_without_lower_3z_large_cities_core_rates.csv')\n",
    "fnl_mn_wdt_low_3z_med_rates = pd.read_csv('/Users/salma/Research/us_crime_data_analysis/data/final_all_wdt_3z_core/rates/final_main_without_lower_3z_medium_cities_core_rates.csv')\n",
    "fnl_mn_wdt_low_3z_sml_rates = pd.read_csv('/Users/salma/Research/us_crime_data_analysis/data/final_all_wdt_3z_core/rates/final_main_without_lower_3z_small_cities_core_rates.csv')"
   ]
  },
  {
   "cell_type": "code",
   "execution_count": 3,
   "metadata": {},
   "outputs": [
    {
     "data": {
      "text/plain": [
       "ORI\n",
       "AK00101    266927.0\n",
       "AL00100    147178.0\n",
       "AL00102    231624.0\n",
       "AL00201    237960.0\n",
       "AL00301    197330.0\n",
       "             ...   \n",
       "WA03400    119971.0\n",
       "WASPD00    582353.0\n",
       "WI00502    101903.0\n",
       "WI01301    216463.0\n",
       "WIMPD00    603336.0\n",
       "Name: population, Length: 380, dtype: float64"
      ]
     },
     "execution_count": 3,
     "metadata": {},
     "output_type": "execute_result"
    }
   ],
   "source": [
    "fnl_mn_large.groupby('ORI')['population'].mean().round()"
   ]
  },
  {
   "cell_type": "code",
   "execution_count": null,
   "metadata": {},
   "outputs": [],
   "source": []
  },
  {
   "cell_type": "markdown",
   "metadata": {},
   "source": [
    "### REGRESSION MODELS - LARGE AGENCIES"
   ]
  },
  {
   "cell_type": "markdown",
   "metadata": {},
   "source": [
    "### OLS for core var counts with all"
   ]
  },
  {
   "cell_type": "code",
   "execution_count": 4,
   "metadata": {},
   "outputs": [
    {
     "name": "stdout",
     "output_type": "stream",
     "text": [
      "                            OLS Regression Results                            \n",
      "==============================================================================\n",
      "Dep. Variable:          violent_crime   R-squared:                       0.830\n",
      "Model:                            OLS   Adj. R-squared:                  0.830\n",
      "Method:                 Least Squares   F-statistic:                     3966.\n",
      "Date:                Fri, 27 Mar 2020   Prob (F-statistic):               0.00\n",
      "Time:                        23:04:41   Log-Likelihood:                -68719.\n",
      "No. Observations:                7324   AIC:                         1.375e+05\n",
      "Df Residuals:                    7314   BIC:                         1.375e+05\n",
      "Df Model:                           9                                         \n",
      "Covariance Type:            nonrobust                                         \n",
      "====================================================================================================\n",
      "                                       coef    std err          t      P>|t|      [0.025      0.975]\n",
      "----------------------------------------------------------------------------------------------------\n",
      "Intercept                         -337.5808     41.149     -8.204      0.000    -418.244    -256.918\n",
      "total_officers                       0.4540      0.056      8.178      0.000       0.345       0.563\n",
      "jail_occupancy_count                 1.0974      0.077     14.273      0.000       0.947       1.248\n",
      "prison_occupancy_count               0.6498      0.034     19.036      0.000       0.583       0.717\n",
      "drug_tot_arrests                   -23.6407      1.087    -21.746      0.000     -25.772     -21.510\n",
      "drug_tot_arrests_black              23.6147      1.089     21.682      0.000      21.480      25.750\n",
      "drug_tot_arrests_white              24.5446      1.100     22.320      0.000      22.389      26.700\n",
      "disorder_arrests_tot_index           1.3296      0.397      3.347      0.001       0.551       2.108\n",
      "disorder_tot_arrests_black_index    -0.6083      0.402     -1.511      0.131      -1.397       0.181\n",
      "disorder_tot_arrests_white_index    -1.6750      0.404     -4.150      0.000      -2.466      -0.884\n",
      "==============================================================================\n",
      "Omnibus:                    10518.209   Durbin-Watson:                   0.300\n",
      "Prob(Omnibus):                  0.000   Jarque-Bera (JB):         12513715.416\n",
      "Skew:                           8.020   Prob(JB):                         0.00\n",
      "Kurtosis:                     204.864   Cond. No.                     1.16e+04\n",
      "==============================================================================\n",
      "\n",
      "Warnings:\n",
      "[1] Standard Errors assume that the covariance matrix of the errors is correctly specified.\n",
      "[2] The condition number is large, 1.16e+04. This might indicate that there are\n",
      "strong multicollinearity or other numerical problems.\n"
     ]
    }
   ],
   "source": [
    "model = sm.OLS.from_formula('violent_crime ~ total_officers + jail_occupancy_count + prison_occupancy_count + drug_tot_arrests + drug_tot_arrests_black + drug_tot_arrests_white + disorder_arrests_tot_index + disorder_tot_arrests_black_index + disorder_tot_arrests_white_index',\n",
    "                           data = fnl_mn_large)\n",
    "res = model.fit()\n",
    "print(res.summary())"
   ]
  },
  {
   "cell_type": "markdown",
   "metadata": {},
   "source": [
    "#### !!!! Since OLS assumes errors to be ND, it works only for continuous variables. \n",
    "####      For counts which are discrete vars, need to use poisson or negative binomial distribution. \n",
    "####      Poisson assumes equal mean and variances, which may not be the case for us so use NB.\n",
    "####      Doing this also helps to see the difference in regression results with OLS and NB !!!! ####"
   ]
  },
  {
   "cell_type": "markdown",
   "metadata": {},
   "source": [
    "### NB for core counts all"
   ]
  },
  {
   "cell_type": "code",
   "execution_count": 5,
   "metadata": {},
   "outputs": [
    {
     "name": "stdout",
     "output_type": "stream",
     "text": [
      "                 Generalized Linear Model Regression Results                  \n",
      "==============================================================================\n",
      "Dep. Variable:          violent_crime   No. Observations:                 7324\n",
      "Model:                            GLM   Df Residuals:                     7314\n",
      "Model Family:        NegativeBinomial   Df Model:                            9\n",
      "Link Function:                    log   Scale:                          1.0000\n",
      "Method:                          IRLS   Log-Likelihood:                -59879.\n",
      "Date:                Fri, 27 Mar 2020   Deviance:                       5101.8\n",
      "Time:                        23:04:41   Pearson chi2:                 4.66e+03\n",
      "No. Iterations:                    81                                         \n",
      "Covariance Type:            nonrobust                                         \n",
      "====================================================================================================\n",
      "                                       coef    std err          z      P>|z|      [0.025      0.975]\n",
      "----------------------------------------------------------------------------------------------------\n",
      "Intercept                            6.4940      0.014    453.809      0.000       6.466       6.522\n",
      "total_officers                    5.789e-05   1.93e-05      2.999      0.003    2.01e-05    9.57e-05\n",
      "jail_occupancy_count                 0.0004   2.67e-05     14.534      0.000       0.000       0.000\n",
      "prison_occupancy_count               0.0001   1.19e-05      9.259      0.000    8.66e-05       0.000\n",
      "drug_tot_arrests                    -0.0002      0.000     -0.529      0.597      -0.001       0.001\n",
      "drug_tot_arrests_black               0.0004      0.000      1.102      0.270      -0.000       0.001\n",
      "drug_tot_arrests_white               0.0002      0.000      0.441      0.659      -0.001       0.001\n",
      "disorder_arrests_tot_index           0.0008      0.000      6.137      0.000       0.001       0.001\n",
      "disorder_tot_arrests_black_index    -0.0009      0.000     -6.396      0.000      -0.001      -0.001\n",
      "disorder_tot_arrests_white_index    -0.0008      0.000     -5.796      0.000      -0.001      -0.001\n",
      "====================================================================================================\n"
     ]
    }
   ],
   "source": [
    "model = sm.GLM.from_formula('violent_crime ~ total_officers + jail_occupancy_count + prison_occupancy_count + drug_tot_arrests + drug_tot_arrests_black + drug_tot_arrests_white + disorder_arrests_tot_index + disorder_tot_arrests_black_index + disorder_tot_arrests_white_index',\n",
    "                           data = fnl_mn_large, family=sm.families.NegativeBinomial())\n",
    "res = model.fit()\n",
    "print(res.summary())"
   ]
  },
  {
   "cell_type": "code",
   "execution_count": 6,
   "metadata": {},
   "outputs": [
    {
     "name": "stdout",
     "output_type": "stream",
     "text": [
      "                 Generalized Linear Model Regression Results                  \n",
      "==============================================================================\n",
      "Dep. Variable:          violent_crime   No. Observations:                 8306\n",
      "Model:                            GLM   Df Residuals:                     8302\n",
      "Model Family:        NegativeBinomial   Df Model:                            3\n",
      "Link Function:                    log   Scale:                          1.0000\n",
      "Method:                          IRLS   Log-Likelihood:                -68095.\n",
      "Date:                Fri, 27 Mar 2020   Deviance:                       6129.9\n",
      "Time:                        23:04:41   Pearson chi2:                 6.04e+03\n",
      "No. Iterations:                    78                                         \n",
      "Covariance Type:            nonrobust                                         \n",
      "==========================================================================================\n",
      "                             coef    std err          z      P>|z|      [0.025      0.975]\n",
      "------------------------------------------------------------------------------------------\n",
      "Intercept                  6.5850      0.012    537.398      0.000       6.561       6.609\n",
      "total_officers           2.88e-05   1.29e-05      2.238      0.025    3.57e-06     5.4e-05\n",
      "prison_occupancy_count     0.0003   6.92e-06     42.129      0.000       0.000       0.000\n",
      "drug_tot_arrests        9.162e-05    3.7e-06     24.737      0.000    8.44e-05    9.89e-05\n",
      "==========================================================================================\n"
     ]
    }
   ],
   "source": [
    "model = sm.GLM.from_formula('violent_crime ~ total_officers + prison_occupancy_count + drug_tot_arrests',\n",
    "                           data = fnl_mn_large, family=sm.families.NegativeBinomial())\n",
    "res = model.fit()\n",
    "print(res.summary())"
   ]
  },
  {
   "cell_type": "markdown",
   "metadata": {},
   "source": [
    "#### !!!! As we can see the significant factors are different with NB when compared to OLS.\n",
    "####      drug_tot_arrests, drug_tot_arrests_black, drug_tot_arrests_white are not significant with NB\n",
    "####      whereas they are significant with OLS !!!! \n",
    "\n",
    "#### OBS: When perc_felonies, perc_misdemeanors were added, the significance of drug arrests(all, black, white) further decreased. Next trying to add total_felonies_agency, total_misdemeanors_agency in place of perc. But doesn't make sense to add fel, misd in this regr coz its a subset of dependent var violent cri so take out of regression.\n",
    "\n",
    "#### Goind forward will only use NB for counts"
   ]
  },
  {
   "cell_type": "markdown",
   "metadata": {},
   "source": [
    "### NB for core counts without low 3z"
   ]
  },
  {
   "cell_type": "code",
   "execution_count": 7,
   "metadata": {},
   "outputs": [
    {
     "name": "stdout",
     "output_type": "stream",
     "text": [
      "                 Generalized Linear Model Regression Results                  \n",
      "==============================================================================\n",
      "Dep. Variable:          violent_crime   No. Observations:                 7285\n",
      "Model:                            GLM   Df Residuals:                     7275\n",
      "Model Family:        NegativeBinomial   Df Model:                            9\n",
      "Link Function:                    log   Scale:                          1.0000\n",
      "Method:                          IRLS   Log-Likelihood:                -59554.\n",
      "Date:                Fri, 27 Mar 2020   Deviance:                       5061.8\n",
      "Time:                        23:04:42   Pearson chi2:                 4.62e+03\n",
      "No. Iterations:                    81                                         \n",
      "Covariance Type:            nonrobust                                         \n",
      "====================================================================================================\n",
      "                                       coef    std err          z      P>|z|      [0.025      0.975]\n",
      "----------------------------------------------------------------------------------------------------\n",
      "Intercept                            6.4935      0.014    452.538      0.000       6.465       6.522\n",
      "total_officers                    5.801e-05   1.94e-05      2.995      0.003    2.01e-05     9.6e-05\n",
      "jail_occupancy_count                 0.0004   2.67e-05     14.552      0.000       0.000       0.000\n",
      "prison_occupancy_count               0.0001   1.19e-05      9.282      0.000    8.71e-05       0.000\n",
      "drug_tot_arrests                    -0.0002      0.000     -0.476      0.634      -0.001       0.001\n",
      "drug_tot_arrests_black               0.0004      0.000      1.047      0.295      -0.000       0.001\n",
      "drug_tot_arrests_white               0.0001      0.000      0.385      0.701      -0.001       0.001\n",
      "disorder_arrests_tot_index           0.0008      0.000      6.062      0.000       0.001       0.001\n",
      "disorder_tot_arrests_black_index    -0.0009      0.000     -6.321      0.000      -0.001      -0.001\n",
      "disorder_tot_arrests_white_index    -0.0008      0.000     -5.717      0.000      -0.001      -0.001\n",
      "====================================================================================================\n"
     ]
    }
   ],
   "source": [
    "model = sm.GLM.from_formula('violent_crime ~ total_officers + jail_occupancy_count + prison_occupancy_count + drug_tot_arrests + drug_tot_arrests_black + drug_tot_arrests_white + disorder_arrests_tot_index + disorder_tot_arrests_black_index + disorder_tot_arrests_white_index',\n",
    "                           data = fnl_mn_wdt_low_3z_large, family=sm.families.NegativeBinomial())\n",
    "res = model.fit()\n",
    "print(res.summary())"
   ]
  },
  {
   "cell_type": "markdown",
   "metadata": {},
   "source": [
    "### OLS for core rates all"
   ]
  },
  {
   "cell_type": "code",
   "execution_count": 8,
   "metadata": {},
   "outputs": [
    {
     "name": "stdout",
     "output_type": "stream",
     "text": [
      "                            OLS Regression Results                            \n",
      "==============================================================================\n",
      "Dep. Variable:     violent_crime_rate   R-squared:                       0.445\n",
      "Model:                            OLS   Adj. R-squared:                  0.444\n",
      "Method:                 Least Squares   F-statistic:                     652.0\n",
      "Date:                Fri, 27 Mar 2020   Prob (F-statistic):               0.00\n",
      "Time:                        23:04:42   Log-Likelihood:                -53984.\n",
      "No. Observations:                7323   AIC:                         1.080e+05\n",
      "Df Residuals:                    7313   BIC:                         1.081e+05\n",
      "Df Model:                           9                                         \n",
      "Covariance Type:            nonrobust                                         \n",
      "=========================================================================================================\n",
      "                                            coef    std err          t      P>|t|      [0.025      0.975]\n",
      "---------------------------------------------------------------------------------------------------------\n",
      "Intercept                                37.4518     11.238      3.333      0.001      15.423      59.481\n",
      "total_officers_rate                      29.9495      4.024      7.442      0.000      22.061      37.838\n",
      "jail_occupancy_count_rate                -0.4466      0.438     -1.020      0.308      -1.305       0.412\n",
      "prison_occupancy_count_rate               6.8601      0.219     31.364      0.000       6.431       7.289\n",
      "drug_tot_arrests_rate                     3.8199      0.226     16.868      0.000       3.376       4.264\n",
      "drug_tot_arrests_black_rate               0.2508      0.061      4.143      0.000       0.132       0.369\n",
      "drug_tot_arrests_white_rate              -1.6456      0.144    -11.428      0.000      -1.928      -1.363\n",
      "disorder_arrests_tot_index_rate           1.5146      0.172      8.820      0.000       1.178       1.851\n",
      "disorder_tot_arrests_black_index_rate    -0.3314      0.046     -7.193      0.000      -0.422      -0.241\n",
      "disorder_tot_arrests_white_index_rate     0.2808      0.090      3.123      0.002       0.105       0.457\n",
      "==============================================================================\n",
      "Omnibus:                     2808.558   Durbin-Watson:                   0.257\n",
      "Prob(Omnibus):                  0.000   Jarque-Bera (JB):            16289.172\n",
      "Skew:                           1.738   Prob(JB):                         0.00\n",
      "Kurtosis:                       9.427   Cond. No.                         746.\n",
      "==============================================================================\n",
      "\n",
      "Warnings:\n",
      "[1] Standard Errors assume that the covariance matrix of the errors is correctly specified.\n"
     ]
    }
   ],
   "source": [
    "model = sm.OLS.from_formula('violent_crime_rate ~ total_officers_rate + jail_occupancy_count_rate + prison_occupancy_count_rate + drug_tot_arrests_rate + drug_tot_arrests_black_rate + drug_tot_arrests_white_rate + disorder_arrests_tot_index_rate + disorder_tot_arrests_black_index_rate + disorder_tot_arrests_white_index_rate',\n",
    "                            data=fnl_mn_large_rates)\n",
    "result = model.fit()\n",
    "print(result.summary())"
   ]
  },
  {
   "cell_type": "markdown",
   "metadata": {},
   "source": [
    "### OLS for core rates without low 3z"
   ]
  },
  {
   "cell_type": "code",
   "execution_count": 9,
   "metadata": {
    "scrolled": true
   },
   "outputs": [
    {
     "name": "stdout",
     "output_type": "stream",
     "text": [
      "                            OLS Regression Results                            \n",
      "==============================================================================\n",
      "Dep. Variable:     violent_crime_rate   R-squared:                       0.450\n",
      "Model:                            OLS   Adj. R-squared:                  0.449\n",
      "Method:                 Least Squares   F-statistic:                     660.0\n",
      "Date:                Fri, 27 Mar 2020   Prob (F-statistic):               0.00\n",
      "Time:                        23:04:42   Log-Likelihood:                -53673.\n",
      "No. Observations:                7284   AIC:                         1.074e+05\n",
      "Df Residuals:                    7274   BIC:                         1.074e+05\n",
      "Df Model:                           9                                         \n",
      "Covariance Type:            nonrobust                                         \n",
      "=========================================================================================================\n",
      "                                            coef    std err          t      P>|t|      [0.025      0.975]\n",
      "---------------------------------------------------------------------------------------------------------\n",
      "Intercept                                18.9629     11.467      1.654      0.098      -3.516      41.442\n",
      "total_officers_rate                      41.3221      4.271      9.674      0.000      32.949      49.695\n",
      "jail_occupancy_count_rate                -0.3331      0.437     -0.762      0.446      -1.190       0.524\n",
      "prison_occupancy_count_rate               6.8882      0.218     31.561      0.000       6.460       7.316\n",
      "drug_tot_arrests_rate                     3.7880      0.234     16.214      0.000       3.330       4.246\n",
      "drug_tot_arrests_black_rate               0.2515      0.061      4.155      0.000       0.133       0.370\n",
      "drug_tot_arrests_white_rate              -1.7384      0.155    -11.217      0.000      -2.042      -1.435\n",
      "disorder_arrests_tot_index_rate           1.1955      0.203      5.900      0.000       0.798       1.593\n",
      "disorder_tot_arrests_black_index_rate    -0.3068      0.047     -6.588      0.000      -0.398      -0.216\n",
      "disorder_tot_arrests_white_index_rate     0.5186      0.126      4.105      0.000       0.271       0.766\n",
      "==============================================================================\n",
      "Omnibus:                     2825.535   Durbin-Watson:                   0.245\n",
      "Prob(Omnibus):                  0.000   Jarque-Bera (JB):            15387.003\n",
      "Skew:                           1.786   Prob(JB):                         0.00\n",
      "Kurtosis:                       9.160   Cond. No.                         762.\n",
      "==============================================================================\n",
      "\n",
      "Warnings:\n",
      "[1] Standard Errors assume that the covariance matrix of the errors is correctly specified.\n"
     ]
    }
   ],
   "source": [
    "model = sm.OLS.from_formula('violent_crime_rate ~ total_officers_rate + jail_occupancy_count_rate + prison_occupancy_count_rate + drug_tot_arrests_rate + drug_tot_arrests_black_rate + drug_tot_arrests_white_rate + disorder_arrests_tot_index_rate + disorder_tot_arrests_black_index_rate + disorder_tot_arrests_white_index_rate',\n",
    "                            data=fnl_mn_wdt_low_3z_large_rates)\n",
    "result = model.fit()\n",
    "print(result.summary())"
   ]
  },
  {
   "cell_type": "code",
   "execution_count": null,
   "metadata": {},
   "outputs": [],
   "source": []
  },
  {
   "cell_type": "markdown",
   "metadata": {},
   "source": [
    "### REGRESSION MODELS - MEDIUM AGENCIES"
   ]
  },
  {
   "cell_type": "markdown",
   "metadata": {},
   "source": [
    "### NB for core counts all"
   ]
  },
  {
   "cell_type": "code",
   "execution_count": 10,
   "metadata": {},
   "outputs": [
    {
     "name": "stdout",
     "output_type": "stream",
     "text": [
      "                 Generalized Linear Model Regression Results                  \n",
      "==============================================================================\n",
      "Dep. Variable:          violent_crime   No. Observations:                12187\n",
      "Model:                            GLM   Df Residuals:                    12177\n",
      "Model Family:        NegativeBinomial   Df Model:                            9\n",
      "Link Function:                    log   Scale:                          1.0000\n",
      "Method:                          IRLS   Log-Likelihood:                -78539.\n",
      "Date:                Fri, 27 Mar 2020   Deviance:                       5987.9\n",
      "Time:                        23:04:42   Pearson chi2:                 6.24e+03\n",
      "No. Iterations:                    20                                         \n",
      "Covariance Type:            nonrobust                                         \n",
      "====================================================================================================\n",
      "                                       coef    std err          z      P>|z|      [0.025      0.975]\n",
      "----------------------------------------------------------------------------------------------------\n",
      "Intercept                            4.5405      0.019    236.871      0.000       4.503       4.578\n",
      "total_officers                       0.0005      0.000      3.419      0.001       0.000       0.001\n",
      "jail_occupancy_count                 0.0003      0.000      3.138      0.002       0.000       0.001\n",
      "prison_occupancy_count               0.0018   6.01e-05     30.311      0.000       0.002       0.002\n",
      "drug_tot_arrests                     0.0007      0.001      0.979      0.327      -0.001       0.002\n",
      "drug_tot_arrests_black               0.0004      0.001      0.559      0.576      -0.001       0.002\n",
      "drug_tot_arrests_white              -0.0002      0.001     -0.281      0.779      -0.002       0.001\n",
      "disorder_arrests_tot_index           0.0008      0.000      4.771      0.000       0.000       0.001\n",
      "disorder_tot_arrests_black_index    -0.0004      0.000     -2.167      0.030      -0.001   -3.93e-05\n",
      "disorder_tot_arrests_white_index    -0.0006      0.000     -3.539      0.000      -0.001      -0.000\n",
      "====================================================================================================\n"
     ]
    }
   ],
   "source": [
    "model = sm.GLM.from_formula('violent_crime ~ total_officers + jail_occupancy_count + prison_occupancy_count + drug_tot_arrests + drug_tot_arrests_black + drug_tot_arrests_white + disorder_arrests_tot_index + disorder_tot_arrests_black_index + disorder_tot_arrests_white_index',\n",
    "                           data = fnl_mn_med, family=sm.families.NegativeBinomial())\n",
    "res = model.fit()\n",
    "print(res.summary())"
   ]
  },
  {
   "cell_type": "markdown",
   "metadata": {},
   "source": [
    "### NB for core counts all without low 3z"
   ]
  },
  {
   "cell_type": "code",
   "execution_count": 11,
   "metadata": {},
   "outputs": [
    {
     "name": "stdout",
     "output_type": "stream",
     "text": [
      "                 Generalized Linear Model Regression Results                  \n",
      "==============================================================================\n",
      "Dep. Variable:          violent_crime   No. Observations:                12130\n",
      "Model:                            GLM   Df Residuals:                    12120\n",
      "Model Family:        NegativeBinomial   Df Model:                            9\n",
      "Link Function:                    log   Scale:                          1.0000\n",
      "Method:                          IRLS   Log-Likelihood:                -78167.\n",
      "Date:                Fri, 27 Mar 2020   Deviance:                       5936.1\n",
      "Time:                        23:04:42   Pearson chi2:                 6.20e+03\n",
      "No. Iterations:                    20                                         \n",
      "Covariance Type:            nonrobust                                         \n",
      "====================================================================================================\n",
      "                                       coef    std err          z      P>|z|      [0.025      0.975]\n",
      "----------------------------------------------------------------------------------------------------\n",
      "Intercept                            4.5405      0.019    236.339      0.000       4.503       4.578\n",
      "total_officers                       0.0005      0.000      3.384      0.001       0.000       0.001\n",
      "jail_occupancy_count                 0.0004      0.000      3.329      0.001       0.000       0.001\n",
      "prison_occupancy_count               0.0018   6.03e-05     30.185      0.000       0.002       0.002\n",
      "drug_tot_arrests                     0.0007      0.001      0.967      0.333      -0.001       0.002\n",
      "drug_tot_arrests_black               0.0004      0.001      0.571      0.568      -0.001       0.002\n",
      "drug_tot_arrests_white              -0.0002      0.001     -0.270      0.787      -0.002       0.001\n",
      "disorder_arrests_tot_index           0.0008      0.000      4.798      0.000       0.000       0.001\n",
      "disorder_tot_arrests_black_index    -0.0004      0.000     -2.235      0.025      -0.001   -5.23e-05\n",
      "disorder_tot_arrests_white_index    -0.0007      0.000     -3.597      0.000      -0.001      -0.000\n",
      "====================================================================================================\n"
     ]
    }
   ],
   "source": [
    "model = sm.GLM.from_formula('violent_crime ~ total_officers + jail_occupancy_count + prison_occupancy_count + drug_tot_arrests + drug_tot_arrests_black + drug_tot_arrests_white + disorder_arrests_tot_index + disorder_tot_arrests_black_index + disorder_tot_arrests_white_index',\n",
    "                            data=fnl_mn_wdt_low_3z_med, family=sm.families.NegativeBinomial())\n",
    "result = model.fit()\n",
    "print(result.summary())"
   ]
  },
  {
   "cell_type": "markdown",
   "metadata": {},
   "source": [
    "### OLS for core rates all"
   ]
  },
  {
   "cell_type": "code",
   "execution_count": 12,
   "metadata": {},
   "outputs": [
    {
     "name": "stdout",
     "output_type": "stream",
     "text": [
      "                            OLS Regression Results                            \n",
      "==============================================================================\n",
      "Dep. Variable:     violent_crime_rate   R-squared:                       0.460\n",
      "Model:                            OLS   Adj. R-squared:                  0.459\n",
      "Method:                 Least Squares   F-statistic:                     1150.\n",
      "Date:                Fri, 27 Mar 2020   Prob (F-statistic):               0.00\n",
      "Time:                        23:04:42   Log-Likelihood:                -87019.\n",
      "No. Observations:               12187   AIC:                         1.741e+05\n",
      "Df Residuals:                   12177   BIC:                         1.741e+05\n",
      "Df Model:                           9                                         \n",
      "Covariance Type:            nonrobust                                         \n",
      "=========================================================================================================\n",
      "                                            coef    std err          t      P>|t|      [0.025      0.975]\n",
      "---------------------------------------------------------------------------------------------------------\n",
      "Intercept                               -26.1329      6.379     -4.097      0.000     -38.637     -13.629\n",
      "total_officers_rate                      42.7695      3.333     12.832      0.000      36.236      49.303\n",
      "jail_occupancy_count_rate                -1.7767      0.252     -7.045      0.000      -2.271      -1.282\n",
      "prison_occupancy_count_rate               7.1997      0.130     55.498      0.000       6.945       7.454\n",
      "drug_tot_arrests_rate                     1.6020      0.152     10.572      0.000       1.305       1.899\n",
      "drug_tot_arrests_black_rate              -0.1238      0.025     -4.985      0.000      -0.172      -0.075\n",
      "drug_tot_arrests_white_rate               0.8836      0.080     11.094      0.000       0.727       1.040\n",
      "disorder_arrests_tot_index_rate           0.8134      0.092      8.818      0.000       0.633       0.994\n",
      "disorder_tot_arrests_black_index_rate    -0.1020      0.016     -6.387      0.000      -0.133      -0.071\n",
      "disorder_tot_arrests_white_index_rate     0.0511      0.050      1.030      0.303      -0.046       0.148\n",
      "==============================================================================\n",
      "Omnibus:                     5857.349   Durbin-Watson:                   0.285\n",
      "Prob(Omnibus):                  0.000   Jarque-Bera (JB):            57879.997\n",
      "Skew:                           2.075   Prob(JB):                         0.00\n",
      "Kurtosis:                      12.836   Cond. No.                         878.\n",
      "==============================================================================\n",
      "\n",
      "Warnings:\n",
      "[1] Standard Errors assume that the covariance matrix of the errors is correctly specified.\n"
     ]
    }
   ],
   "source": [
    "model = sm.OLS.from_formula('violent_crime_rate ~ total_officers_rate + jail_occupancy_count_rate + prison_occupancy_count_rate + drug_tot_arrests_rate + drug_tot_arrests_black_rate + drug_tot_arrests_white_rate + disorder_arrests_tot_index_rate + disorder_tot_arrests_black_index_rate + disorder_tot_arrests_white_index_rate',\n",
    "                            data=fnl_mn_med_rates)\n",
    "result = model.fit()\n",
    "print(result.summary())"
   ]
  },
  {
   "cell_type": "markdown",
   "metadata": {},
   "source": [
    "### OLS for core rates without low 3z"
   ]
  },
  {
   "cell_type": "code",
   "execution_count": 13,
   "metadata": {
    "scrolled": true
   },
   "outputs": [
    {
     "name": "stdout",
     "output_type": "stream",
     "text": [
      "                            OLS Regression Results                            \n",
      "==============================================================================\n",
      "Dep. Variable:     violent_crime_rate   R-squared:                       0.460\n",
      "Model:                            OLS   Adj. R-squared:                  0.460\n",
      "Method:                 Least Squares   F-statistic:                     1148.\n",
      "Date:                Fri, 27 Mar 2020   Prob (F-statistic):               0.00\n",
      "Time:                        23:04:42   Log-Likelihood:                -86605.\n",
      "No. Observations:               12130   AIC:                         1.732e+05\n",
      "Df Residuals:                   12120   BIC:                         1.733e+05\n",
      "Df Model:                           9                                         \n",
      "Covariance Type:            nonrobust                                         \n",
      "=========================================================================================================\n",
      "                                            coef    std err          t      P>|t|      [0.025      0.975]\n",
      "---------------------------------------------------------------------------------------------------------\n",
      "Intercept                               -26.5730      6.386     -4.161      0.000     -39.090     -14.056\n",
      "total_officers_rate                      42.8584      3.337     12.845      0.000      36.318      49.399\n",
      "jail_occupancy_count_rate                -1.7454      0.253     -6.899      0.000      -2.241      -1.250\n",
      "prison_occupancy_count_rate               7.1966      0.130     55.413      0.000       6.942       7.451\n",
      "drug_tot_arrests_rate                     1.6145      0.152     10.640      0.000       1.317       1.912\n",
      "drug_tot_arrests_black_rate              -0.1273      0.025     -5.106      0.000      -0.176      -0.078\n",
      "drug_tot_arrests_white_rate               0.8833      0.080     11.068      0.000       0.727       1.040\n",
      "disorder_arrests_tot_index_rate           0.7952      0.092      8.605      0.000       0.614       0.976\n",
      "disorder_tot_arrests_black_index_rate    -0.1012      0.016     -6.291      0.000      -0.133      -0.070\n",
      "disorder_tot_arrests_white_index_rate     0.0549      0.050      1.106      0.269      -0.042       0.152\n",
      "==============================================================================\n",
      "Omnibus:                     5841.015   Durbin-Watson:                   0.285\n",
      "Prob(Omnibus):                  0.000   Jarque-Bera (JB):            58010.102\n",
      "Skew:                           2.079   Prob(JB):                         0.00\n",
      "Kurtosis:                      12.874   Cond. No.                         875.\n",
      "==============================================================================\n",
      "\n",
      "Warnings:\n",
      "[1] Standard Errors assume that the covariance matrix of the errors is correctly specified.\n"
     ]
    }
   ],
   "source": [
    "model = sm.OLS.from_formula('violent_crime_rate ~ total_officers_rate + jail_occupancy_count_rate + prison_occupancy_count_rate + drug_tot_arrests_rate + drug_tot_arrests_black_rate + drug_tot_arrests_white_rate + disorder_arrests_tot_index_rate + disorder_tot_arrests_black_index_rate + disorder_tot_arrests_white_index_rate',\n",
    "                            data=fnl_mn_wdt_low_3z_med_rates)\n",
    "result = model.fit()\n",
    "print(result.summary())"
   ]
  },
  {
   "cell_type": "markdown",
   "metadata": {},
   "source": [
    "### REGRESSION MODELS - SMALL AGENCIES"
   ]
  },
  {
   "cell_type": "markdown",
   "metadata": {},
   "source": [
    "### NB for core counts all"
   ]
  },
  {
   "cell_type": "code",
   "execution_count": 14,
   "metadata": {},
   "outputs": [
    {
     "name": "stdout",
     "output_type": "stream",
     "text": [
      "                 Generalized Linear Model Regression Results                  \n",
      "==============================================================================\n",
      "Dep. Variable:          violent_crime   No. Observations:                69480\n",
      "Model:                            GLM   Df Residuals:                    69470\n",
      "Model Family:        NegativeBinomial   Df Model:                            9\n",
      "Link Function:                    log   Scale:                          1.0000\n",
      "Method:                          IRLS   Log-Likelihood:            -3.4319e+05\n",
      "Date:                Fri, 27 Mar 2020   Deviance:                       49565.\n",
      "Time:                        23:04:42   Pearson chi2:                 5.41e+04\n",
      "No. Iterations:                    23                                         \n",
      "Covariance Type:            nonrobust                                         \n",
      "====================================================================================================\n",
      "                                       coef    std err          z      P>|z|      [0.025      0.975]\n",
      "----------------------------------------------------------------------------------------------------\n",
      "Intercept                            3.0360      0.007    459.010      0.000       3.023       3.049\n",
      "total_officers                       0.0055      0.000     37.933      0.000       0.005       0.006\n",
      "jail_occupancy_count                 0.0007   9.63e-05      7.092      0.000       0.000       0.001\n",
      "prison_occupancy_count               0.0044   5.85e-05     76.042      0.000       0.004       0.005\n",
      "drug_tot_arrests                    -0.0018      0.001     -3.287      0.001      -0.003      -0.001\n",
      "drug_tot_arrests_black               0.0037      0.001      6.571      0.000       0.003       0.005\n",
      "drug_tot_arrests_white               0.0036      0.001      6.272      0.000       0.002       0.005\n",
      "disorder_arrests_tot_index           0.0012      0.000      5.002      0.000       0.001       0.002\n",
      "disorder_tot_arrests_black_index     0.0014      0.000      5.772      0.000       0.001       0.002\n",
      "disorder_tot_arrests_white_index    -0.0004      0.000     -1.788      0.074      -0.001    4.19e-05\n",
      "====================================================================================================\n"
     ]
    }
   ],
   "source": [
    "model = sm.GLM.from_formula('violent_crime ~ total_officers + jail_occupancy_count + prison_occupancy_count + drug_tot_arrests + drug_tot_arrests_black + drug_tot_arrests_white + disorder_arrests_tot_index + disorder_tot_arrests_black_index + disorder_tot_arrests_white_index',\n",
    "                           data=fnl_mn_sml, family=sm.families.NegativeBinomial())\n",
    "result = model.fit()\n",
    "print(result.summary())"
   ]
  },
  {
   "cell_type": "markdown",
   "metadata": {},
   "source": [
    "### NB for core counts without low 3z"
   ]
  },
  {
   "cell_type": "code",
   "execution_count": 15,
   "metadata": {},
   "outputs": [
    {
     "name": "stdout",
     "output_type": "stream",
     "text": [
      "                 Generalized Linear Model Regression Results                  \n",
      "==============================================================================\n",
      "Dep. Variable:          violent_crime   No. Observations:                69193\n",
      "Model:                            GLM   Df Residuals:                    69183\n",
      "Model Family:        NegativeBinomial   Df Model:                            9\n",
      "Link Function:                    log   Scale:                          1.0000\n",
      "Method:                          IRLS   Log-Likelihood:            -3.4179e+05\n",
      "Date:                Fri, 27 Mar 2020   Deviance:                       49237.\n",
      "Time:                        23:04:43   Pearson chi2:                 5.38e+04\n",
      "No. Iterations:                    23                                         \n",
      "Covariance Type:            nonrobust                                         \n",
      "====================================================================================================\n",
      "                                       coef    std err          z      P>|z|      [0.025      0.975]\n",
      "----------------------------------------------------------------------------------------------------\n",
      "Intercept                            3.0368      0.007    458.124      0.000       3.024       3.050\n",
      "total_officers                       0.0055      0.000     37.707      0.000       0.005       0.006\n",
      "jail_occupancy_count                 0.0007   9.64e-05      7.048      0.000       0.000       0.001\n",
      "prison_occupancy_count               0.0045   5.85e-05     76.076      0.000       0.004       0.005\n",
      "drug_tot_arrests                    -0.0018      0.001     -3.255      0.001      -0.003      -0.001\n",
      "drug_tot_arrests_black               0.0037      0.001      6.535      0.000       0.003       0.005\n",
      "drug_tot_arrests_white               0.0035      0.001      6.237      0.000       0.002       0.005\n",
      "disorder_arrests_tot_index           0.0012      0.000      4.940      0.000       0.001       0.002\n",
      "disorder_tot_arrests_black_index     0.0014      0.000      5.802      0.000       0.001       0.002\n",
      "disorder_tot_arrests_white_index    -0.0004      0.000     -1.740      0.082      -0.001    5.37e-05\n",
      "====================================================================================================\n"
     ]
    }
   ],
   "source": [
    "model = sm.GLM.from_formula('violent_crime ~ total_officers + jail_occupancy_count + prison_occupancy_count + drug_tot_arrests + drug_tot_arrests_black + drug_tot_arrests_white + disorder_arrests_tot_index + disorder_tot_arrests_black_index + disorder_tot_arrests_white_index',\n",
    "                           data=fnl_mn_wdt_low_3z_sml, family=sm.families.NegativeBinomial())\n",
    "result = model.fit()\n",
    "print(result.summary())"
   ]
  },
  {
   "cell_type": "markdown",
   "metadata": {},
   "source": [
    "### OLS for core rates all"
   ]
  },
  {
   "cell_type": "code",
   "execution_count": 16,
   "metadata": {},
   "outputs": [
    {
     "name": "stdout",
     "output_type": "stream",
     "text": [
      "                            OLS Regression Results                            \n",
      "==============================================================================\n",
      "Dep. Variable:     violent_crime_rate   R-squared:                       0.301\n",
      "Model:                            OLS   Adj. R-squared:                  0.301\n",
      "Method:                 Least Squares   F-statistic:                     3322.\n",
      "Date:                Fri, 27 Mar 2020   Prob (F-statistic):               0.00\n",
      "Time:                        23:04:43   Log-Likelihood:            -4.9523e+05\n",
      "No. Observations:               69449   AIC:                         9.905e+05\n",
      "Df Residuals:                   69439   BIC:                         9.906e+05\n",
      "Df Model:                           9                                         \n",
      "Covariance Type:            nonrobust                                         \n",
      "=========================================================================================================\n",
      "                                            coef    std err          t      P>|t|      [0.025      0.975]\n",
      "---------------------------------------------------------------------------------------------------------\n",
      "Intercept                                41.1198      2.220     18.523      0.000      36.769      45.471\n",
      "total_officers_rate                      28.4292      0.984     28.886      0.000      26.500      30.358\n",
      "jail_occupancy_count_rate                -0.4160      0.060     -6.881      0.000      -0.535      -0.298\n",
      "prison_occupancy_count_rate               2.5900      0.038     67.890      0.000       2.515       2.665\n",
      "drug_tot_arrests_rate                     1.5642      0.051     30.941      0.000       1.465       1.663\n",
      "drug_tot_arrests_black_rate              -0.0725      0.004    -18.852      0.000      -0.080      -0.065\n",
      "drug_tot_arrests_white_rate               0.3463      0.033     10.492      0.000       0.282       0.411\n",
      "disorder_arrests_tot_index_rate           1.1332      0.023     50.312      0.000       1.089       1.177\n",
      "disorder_tot_arrests_black_index_rate    -0.0487      0.003    -15.154      0.000      -0.055      -0.042\n",
      "disorder_tot_arrests_white_index_rate    -0.0934      0.012     -7.707      0.000      -0.117      -0.070\n",
      "==============================================================================\n",
      "Omnibus:                    55846.024   Durbin-Watson:                   0.351\n",
      "Prob(Omnibus):                  0.000   Jarque-Bera (JB):          3888419.190\n",
      "Skew:                           3.384   Prob(JB):                         0.00\n",
      "Kurtosis:                      39.027   Cond. No.                         968.\n",
      "==============================================================================\n",
      "\n",
      "Warnings:\n",
      "[1] Standard Errors assume that the covariance matrix of the errors is correctly specified.\n"
     ]
    }
   ],
   "source": [
    "model = sm.OLS.from_formula('violent_crime_rate ~ total_officers_rate + jail_occupancy_count_rate + prison_occupancy_count_rate + drug_tot_arrests_rate + drug_tot_arrests_black_rate + drug_tot_arrests_white_rate + disorder_arrests_tot_index_rate + disorder_tot_arrests_black_index_rate + disorder_tot_arrests_white_index_rate',\n",
    "                            data=fnl_mn_sml_rates)\n",
    "result = model.fit()\n",
    "print(result.summary())"
   ]
  },
  {
   "cell_type": "markdown",
   "metadata": {},
   "source": [
    "### OLS for core rates without low 3z"
   ]
  },
  {
   "cell_type": "code",
   "execution_count": 17,
   "metadata": {},
   "outputs": [
    {
     "name": "stdout",
     "output_type": "stream",
     "text": [
      "                            OLS Regression Results                            \n",
      "==============================================================================\n",
      "Dep. Variable:     violent_crime_rate   R-squared:                       0.301\n",
      "Model:                            OLS   Adj. R-squared:                  0.301\n",
      "Method:                 Least Squares   F-statistic:                     3309.\n",
      "Date:                Fri, 27 Mar 2020   Prob (F-statistic):               0.00\n",
      "Time:                        23:04:43   Log-Likelihood:            -4.9313e+05\n",
      "No. Observations:               69162   AIC:                         9.863e+05\n",
      "Df Residuals:                   69152   BIC:                         9.864e+05\n",
      "Df Model:                           9                                         \n",
      "Covariance Type:            nonrobust                                         \n",
      "=========================================================================================================\n",
      "                                            coef    std err          t      P>|t|      [0.025      0.975]\n",
      "---------------------------------------------------------------------------------------------------------\n",
      "Intercept                                41.4098      2.223     18.631      0.000      37.053      45.766\n",
      "total_officers_rate                      28.3170      0.985     28.762      0.000      26.387      30.247\n",
      "jail_occupancy_count_rate                -0.4134      0.060     -6.833      0.000      -0.532      -0.295\n",
      "prison_occupancy_count_rate               2.5876      0.038     67.809      0.000       2.513       2.662\n",
      "drug_tot_arrests_rate                     1.5611      0.051     30.863      0.000       1.462       1.660\n",
      "drug_tot_arrests_black_rate              -0.0737      0.004    -18.986      0.000      -0.081      -0.066\n",
      "drug_tot_arrests_white_rate               0.3496      0.033     10.595      0.000       0.285       0.414\n",
      "disorder_arrests_tot_index_rate           1.1302      0.023     50.121      0.000       1.086       1.174\n",
      "disorder_tot_arrests_black_index_rate    -0.0486      0.003    -15.094      0.000      -0.055      -0.042\n",
      "disorder_tot_arrests_white_index_rate    -0.0924      0.012     -7.625      0.000      -0.116      -0.069\n",
      "==============================================================================\n",
      "Omnibus:                    55736.329   Durbin-Watson:                   0.350\n",
      "Prob(Omnibus):                  0.000   Jarque-Bera (JB):          3914723.229\n",
      "Skew:                           3.393   Prob(JB):                         0.00\n",
      "Kurtosis:                      39.227   Cond. No.                         968.\n",
      "==============================================================================\n",
      "\n",
      "Warnings:\n",
      "[1] Standard Errors assume that the covariance matrix of the errors is correctly specified.\n"
     ]
    }
   ],
   "source": [
    "model = sm.OLS.from_formula('violent_crime_rate ~ total_officers_rate + jail_occupancy_count_rate + prison_occupancy_count_rate + drug_tot_arrests_rate + drug_tot_arrests_black_rate + drug_tot_arrests_white_rate + disorder_arrests_tot_index_rate + disorder_tot_arrests_black_index_rate + disorder_tot_arrests_white_index_rate',\n",
    "                            data=fnl_mn_wdt_low_3z_sml_rates)\n",
    "result = model.fit()\n",
    "print(result.summary())"
   ]
  },
  {
   "cell_type": "code",
   "execution_count": null,
   "metadata": {},
   "outputs": [],
   "source": []
  }
 ],
 "metadata": {
  "kernelspec": {
   "display_name": "us_crime_data_analysis",
   "language": "python",
   "name": "us_crime_data_analysis"
  },
  "language_info": {
   "codemirror_mode": {
    "name": "ipython",
    "version": 3
   },
   "file_extension": ".py",
   "mimetype": "text/x-python",
   "name": "python",
   "nbconvert_exporter": "python",
   "pygments_lexer": "ipython3",
   "version": "3.8.1"
  }
 },
 "nbformat": 4,
 "nbformat_minor": 4
}

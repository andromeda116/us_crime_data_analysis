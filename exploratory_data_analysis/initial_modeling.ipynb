{
 "cells": [
  {
   "cell_type": "code",
   "execution_count": 8,
   "metadata": {},
   "outputs": [],
   "source": [
    "import pandas as pd\n",
    "import statsmodels.api as sm"
   ]
  },
  {
   "cell_type": "code",
   "execution_count": 9,
   "metadata": {},
   "outputs": [],
   "source": [
    "#### Read in the required counts datasets ####\n",
    "fnl_mn_large = pd.read_csv('/Users/salma/Research/us_crime_data_analysis/data/trends/counts/final_main_large_cities_core_counts.csv')\n",
    "fnl_mn_med = pd.read_csv('/Users/salma/Research/us_crime_data_analysis/data/trends/counts/final_main_medium_cities_core_counts.csv')\n",
    "fnl_mn_sml = pd.read_csv('/Users/salma/Research/us_crime_data_analysis/data/trends/counts/final_main_small_cities_core_counts.csv')\n",
    "\n",
    "fnl_mn_wdt_low_3z_large = pd.read_csv('/Users/salma/Research/us_crime_data_analysis/data/trends/counts/final_main_without_lower_3z_large_cities_core_counts.csv')\n",
    "fnl_mn_wdt_low_3z_med = pd.read_csv('/Users/salma/Research/us_crime_data_analysis/data/trends/counts/final_main_without_lower_3z_medium_cities_core_counts.csv')\n",
    "fnl_mn_wdt_low_3z_sml = pd.read_csv('/Users/salma/Research/us_crime_data_analysis/data/trends/counts/final_main_without_lower_3z_small_cities_core_counts.csv')\n",
    "\n",
    "#### Read in the required rates datasets ####\n",
    "fnl_mn_large_rates = pd.read_csv('/Users/salma/Research/us_crime_data_analysis/data/trends/rates/final_main_large_cities_core_rates.csv')\n",
    "fnl_mn_med_rates = pd.read_csv('/Users/salma/Research/us_crime_data_analysis/data/trends/rates/final_main_medium_cities_core_rates.csv')\n",
    "fnl_mn_sml_rates = pd.read_csv('/Users/salma/Research/us_crime_data_analysis/data/trends/rates/final_main_small_cities_core_rates.csv')\n",
    "\n",
    "fnl_mn_wdt_low_3z_large_rates = pd.read_csv('/Users/salma/Research/us_crime_data_analysis/data/trends/rates/final_main_without_lower_3z_large_cities_core_rates.csv')\n",
    "fnl_mn_wdt_low_3z_med_rates = pd.read_csv('/Users/salma/Research/us_crime_data_analysis/data/trends/rates/final_main_without_lower_3z_medium_cities_core_rates.csv')\n",
    "fnl_mn_wdt_low_3z_sml_rates = pd.read_csv('/Users/salma/Research/us_crime_data_analysis/data/trends/rates/final_main_without_lower_3z_small_cities_core_rates.csv')"
   ]
  },
  {
   "cell_type": "code",
   "execution_count": 26,
   "metadata": {},
   "outputs": [
    {
     "data": {
      "text/plain": [
       "ORI\n",
       "AK00101    266927.0\n",
       "AL00100    147178.0\n",
       "AL00102    231624.0\n",
       "AL00201    237960.0\n",
       "AL00301    197330.0\n",
       "             ...   \n",
       "WA03400    119971.0\n",
       "WASPD00    582353.0\n",
       "WI00502    101903.0\n",
       "WI01301    216463.0\n",
       "WIMPD00    603336.0\n",
       "Name: population, Length: 380, dtype: float64"
      ]
     },
     "execution_count": 26,
     "metadata": {},
     "output_type": "execute_result"
    }
   ],
   "source": [
    "fnl_mn_large.groupby('ORI')['population'].mean().round()"
   ]
  },
  {
   "cell_type": "code",
   "execution_count": null,
   "metadata": {},
   "outputs": [],
   "source": []
  },
  {
   "cell_type": "markdown",
   "metadata": {},
   "source": [
    "### REGRESSION MODELS - LARGE AGENCIES"
   ]
  },
  {
   "cell_type": "markdown",
   "metadata": {},
   "source": [
    "### OLS for core var counts with all"
   ]
  },
  {
   "cell_type": "code",
   "execution_count": 11,
   "metadata": {},
   "outputs": [
    {
     "name": "stdout",
     "output_type": "stream",
     "text": [
      "                            OLS Regression Results                            \n",
      "==============================================================================\n",
      "Dep. Variable:          violent_crime   R-squared:                       0.830\n",
      "Model:                            OLS   Adj. R-squared:                  0.830\n",
      "Method:                 Least Squares   F-statistic:                     3966.\n",
      "Date:                Sun, 22 Mar 2020   Prob (F-statistic):               0.00\n",
      "Time:                        09:59:57   Log-Likelihood:                -68719.\n",
      "No. Observations:                7324   AIC:                         1.375e+05\n",
      "Df Residuals:                    7314   BIC:                         1.375e+05\n",
      "Df Model:                           9                                         \n",
      "Covariance Type:            nonrobust                                         \n",
      "====================================================================================================\n",
      "                                       coef    std err          t      P>|t|      [0.025      0.975]\n",
      "----------------------------------------------------------------------------------------------------\n",
      "Intercept                         -337.5808     41.149     -8.204      0.000    -418.244    -256.918\n",
      "total_officers                       0.4540      0.056      8.178      0.000       0.345       0.563\n",
      "jail_occupancy_count                 1.0974      0.077     14.273      0.000       0.947       1.248\n",
      "prison_occupancy_count               0.6498      0.034     19.036      0.000       0.583       0.717\n",
      "drug_tot_arrests                   -23.6407      1.087    -21.746      0.000     -25.772     -21.510\n",
      "drug_tot_arrests_black              23.6147      1.089     21.682      0.000      21.480      25.750\n",
      "drug_tot_arrests_white              24.5446      1.100     22.320      0.000      22.389      26.700\n",
      "disorder_arrests_tot_index           1.3296      0.397      3.347      0.001       0.551       2.108\n",
      "disorder_tot_arrests_black_index    -0.6083      0.402     -1.511      0.131      -1.397       0.181\n",
      "disorder_tot_arrests_white_index    -1.6750      0.404     -4.150      0.000      -2.466      -0.884\n",
      "==============================================================================\n",
      "Omnibus:                    10518.209   Durbin-Watson:                   0.300\n",
      "Prob(Omnibus):                  0.000   Jarque-Bera (JB):         12513715.416\n",
      "Skew:                           8.020   Prob(JB):                         0.00\n",
      "Kurtosis:                     204.864   Cond. No.                     1.16e+04\n",
      "==============================================================================\n",
      "\n",
      "Warnings:\n",
      "[1] Standard Errors assume that the covariance matrix of the errors is correctly specified.\n",
      "[2] The condition number is large, 1.16e+04. This might indicate that there are\n",
      "strong multicollinearity or other numerical problems.\n"
     ]
    }
   ],
   "source": [
    "model = sm.OLS.from_formula('violent_crime ~ total_officers + jail_occupancy_count + prison_occupancy_count + drug_tot_arrests + drug_tot_arrests_black + drug_tot_arrests_white + disorder_arrests_tot_index + disorder_tot_arrests_black_index + disorder_tot_arrests_white_index',\n",
    "                           data = fnl_mn_large)\n",
    "res = model.fit()\n",
    "print(res.summary())"
   ]
  },
  {
   "cell_type": "markdown",
   "metadata": {},
   "source": [
    "#### !!!! Since OLS assumes errors to be ND, it works only for continuous variables. \n",
    "####      For counts which are discrete vars, need to use poisson or negative binomial distribution. \n",
    "####      Poisson assumes equal mean and variances, which may not be the case for us so use NB.\n",
    "####      Doing this also helps to see the difference in regression results with OLS and NB !!!! ####"
   ]
  },
  {
   "cell_type": "markdown",
   "metadata": {},
   "source": [
    "### NB for core counts all"
   ]
  },
  {
   "cell_type": "code",
   "execution_count": 18,
   "metadata": {},
   "outputs": [
    {
     "name": "stdout",
     "output_type": "stream",
     "text": [
      "                 Generalized Linear Model Regression Results                  \n",
      "==============================================================================\n",
      "Dep. Variable:          violent_crime   No. Observations:                 7324\n",
      "Model:                            GLM   Df Residuals:                     7314\n",
      "Model Family:        NegativeBinomial   Df Model:                            9\n",
      "Link Function:                    log   Scale:                          1.0000\n",
      "Method:                          IRLS   Log-Likelihood:                -59879.\n",
      "Date:                Sun, 22 Mar 2020   Deviance:                       5101.8\n",
      "Time:                        10:35:21   Pearson chi2:                 4.66e+03\n",
      "No. Iterations:                    81                                         \n",
      "Covariance Type:            nonrobust                                         \n",
      "====================================================================================================\n",
      "                                       coef    std err          z      P>|z|      [0.025      0.975]\n",
      "----------------------------------------------------------------------------------------------------\n",
      "Intercept                            6.4940      0.014    453.809      0.000       6.466       6.522\n",
      "total_officers                    5.789e-05   1.93e-05      2.999      0.003    2.01e-05    9.57e-05\n",
      "jail_occupancy_count                 0.0004   2.67e-05     14.534      0.000       0.000       0.000\n",
      "prison_occupancy_count               0.0001   1.19e-05      9.259      0.000    8.66e-05       0.000\n",
      "drug_tot_arrests                    -0.0002      0.000     -0.529      0.597      -0.001       0.001\n",
      "drug_tot_arrests_black               0.0004      0.000      1.102      0.270      -0.000       0.001\n",
      "drug_tot_arrests_white               0.0002      0.000      0.441      0.659      -0.001       0.001\n",
      "disorder_arrests_tot_index           0.0008      0.000      6.137      0.000       0.001       0.001\n",
      "disorder_tot_arrests_black_index    -0.0009      0.000     -6.396      0.000      -0.001      -0.001\n",
      "disorder_tot_arrests_white_index    -0.0008      0.000     -5.796      0.000      -0.001      -0.001\n",
      "====================================================================================================\n"
     ]
    }
   ],
   "source": [
    "model = sm.GLM.from_formula('violent_crime ~ total_officers + jail_occupancy_count + prison_occupancy_count + drug_tot_arrests + drug_tot_arrests_black + drug_tot_arrests_white + disorder_arrests_tot_index + disorder_tot_arrests_black_index + disorder_tot_arrests_white_index',\n",
    "                           data = fnl_mn_large, family=sm.families.NegativeBinomial())\n",
    "res = model.fit()\n",
    "print(res.summary())"
   ]
  },
  {
   "cell_type": "markdown",
   "metadata": {},
   "source": [
    "#### !!!! As we can see the significant factors are different with NB when compared to OLS.\n",
    "####      drug_tot_arrests, drug_tot_arrests_black, drug_tot_arrests_white are not significant with NB\n",
    "####      whereas they are significant with OLS !!!! \n",
    "\n",
    "#### OBS: When perc_felonies, perc_misdemeanors were added, the significance of drug arrests(all, black, white) further decreased. Next trying to add total_felonies_agency, total_misdemeanors_agency in place of perc. But doesn't make sense to add fel, misd in this regr coz its a subset of dependent var violent cri so take out of regression.\n",
    "\n",
    "#### Goind forward will only use NB for counts"
   ]
  },
  {
   "cell_type": "markdown",
   "metadata": {},
   "source": [
    "### NB for core counts without low 3z"
   ]
  },
  {
   "cell_type": "code",
   "execution_count": 19,
   "metadata": {},
   "outputs": [
    {
     "name": "stdout",
     "output_type": "stream",
     "text": [
      "                 Generalized Linear Model Regression Results                  \n",
      "==============================================================================\n",
      "Dep. Variable:          violent_crime   No. Observations:                 7285\n",
      "Model:                            GLM   Df Residuals:                     7275\n",
      "Model Family:        NegativeBinomial   Df Model:                            9\n",
      "Link Function:                    log   Scale:                          1.0000\n",
      "Method:                          IRLS   Log-Likelihood:                -59554.\n",
      "Date:                Sun, 22 Mar 2020   Deviance:                       5061.8\n",
      "Time:                        10:36:06   Pearson chi2:                 4.62e+03\n",
      "No. Iterations:                    81                                         \n",
      "Covariance Type:            nonrobust                                         \n",
      "====================================================================================================\n",
      "                                       coef    std err          z      P>|z|      [0.025      0.975]\n",
      "----------------------------------------------------------------------------------------------------\n",
      "Intercept                            6.4935      0.014    452.538      0.000       6.465       6.522\n",
      "total_officers                    5.801e-05   1.94e-05      2.995      0.003    2.01e-05     9.6e-05\n",
      "jail_occupancy_count                 0.0004   2.67e-05     14.552      0.000       0.000       0.000\n",
      "prison_occupancy_count               0.0001   1.19e-05      9.282      0.000    8.71e-05       0.000\n",
      "drug_tot_arrests                    -0.0002      0.000     -0.476      0.634      -0.001       0.001\n",
      "drug_tot_arrests_black               0.0004      0.000      1.047      0.295      -0.000       0.001\n",
      "drug_tot_arrests_white               0.0001      0.000      0.385      0.701      -0.001       0.001\n",
      "disorder_arrests_tot_index           0.0008      0.000      6.062      0.000       0.001       0.001\n",
      "disorder_tot_arrests_black_index    -0.0009      0.000     -6.321      0.000      -0.001      -0.001\n",
      "disorder_tot_arrests_white_index    -0.0008      0.000     -5.717      0.000      -0.001      -0.001\n",
      "====================================================================================================\n"
     ]
    }
   ],
   "source": [
    "model = sm.GLM.from_formula('violent_crime ~ total_officers + jail_occupancy_count + prison_occupancy_count + drug_tot_arrests + drug_tot_arrests_black + drug_tot_arrests_white + disorder_arrests_tot_index + disorder_tot_arrests_black_index + disorder_tot_arrests_white_index',\n",
    "                           data = fnl_mn_wdt_low_3z_large, family=sm.families.NegativeBinomial())\n",
    "res = model.fit()\n",
    "print(res.summary())"
   ]
  },
  {
   "cell_type": "markdown",
   "metadata": {},
   "source": [
    "### OLS for core rates all"
   ]
  },
  {
   "cell_type": "code",
   "execution_count": 22,
   "metadata": {},
   "outputs": [
    {
     "name": "stdout",
     "output_type": "stream",
     "text": [
      "                            OLS Regression Results                            \n",
      "==============================================================================\n",
      "Dep. Variable:     violent_crime_rate   R-squared:                       0.373\n",
      "Model:                            OLS   Adj. R-squared:                  0.373\n",
      "Method:                 Least Squares   F-statistic:                     484.2\n",
      "Date:                Sun, 22 Mar 2020   Prob (F-statistic):               0.00\n",
      "Time:                        10:38:59   Log-Likelihood:                -54430.\n",
      "No. Observations:                7323   AIC:                         1.089e+05\n",
      "Df Residuals:                    7313   BIC:                         1.089e+05\n",
      "Df Model:                           9                                         \n",
      "Covariance Type:            nonrobust                                         \n",
      "=========================================================================================================\n",
      "                                            coef    std err          t      P>|t|      [0.025      0.975]\n",
      "---------------------------------------------------------------------------------------------------------\n",
      "Intercept                               164.0843     10.853     15.119      0.000     142.810     185.358\n",
      "total_officers_rate                      42.9074      4.253     10.089      0.000      34.570      51.244\n",
      "jail_occupancy_count_rate                -0.3897      0.069     -5.626      0.000      -0.525      -0.254\n",
      "prison_occupancy_count_rate               0.5303      0.036     14.556      0.000       0.459       0.602\n",
      "drug_tot_arrests_rate                     5.0871      0.238     21.337      0.000       4.620       5.554\n",
      "drug_tot_arrests_black_rate               0.1553      0.064      2.417      0.016       0.029       0.281\n",
      "drug_tot_arrests_white_rate              -1.7853      0.156    -11.409      0.000      -2.092      -1.479\n",
      "disorder_arrests_tot_index_rate           2.1616      0.181     11.917      0.000       1.806       2.517\n",
      "disorder_tot_arrests_black_index_rate    -0.3940      0.049     -8.046      0.000      -0.490      -0.298\n",
      "disorder_tot_arrests_white_index_rate     0.2690      0.096      2.815      0.005       0.082       0.456\n",
      "==============================================================================\n",
      "Omnibus:                     2752.684   Durbin-Watson:                   0.239\n",
      "Prob(Omnibus):                  0.000   Jarque-Bera (JB):            14249.977\n",
      "Skew:                           1.741   Prob(JB):                         0.00\n",
      "Kurtosis:                       8.881   Cond. No.                     1.01e+03\n",
      "==============================================================================\n",
      "\n",
      "Warnings:\n",
      "[1] Standard Errors assume that the covariance matrix of the errors is correctly specified.\n",
      "[2] The condition number is large, 1.01e+03. This might indicate that there are\n",
      "strong multicollinearity or other numerical problems.\n"
     ]
    }
   ],
   "source": [
    "model = sm.OLS.from_formula('violent_crime_rate ~ total_officers_rate + jail_occupancy_count_rate + prison_occupancy_count_rate + drug_tot_arrests_rate + drug_tot_arrests_black_rate + drug_tot_arrests_white_rate + disorder_arrests_tot_index_rate + disorder_tot_arrests_black_index_rate + disorder_tot_arrests_white_index_rate',\n",
    "                            data=fnl_mn_large_rates)\n",
    "result = model.fit()\n",
    "print(result.summary())"
   ]
  },
  {
   "cell_type": "markdown",
   "metadata": {},
   "source": [
    "### OLS for core rates without low 3z"
   ]
  },
  {
   "cell_type": "code",
   "execution_count": 24,
   "metadata": {
    "scrolled": true
   },
   "outputs": [
    {
     "name": "stdout",
     "output_type": "stream",
     "text": [
      "                            OLS Regression Results                            \n",
      "==============================================================================\n",
      "Dep. Variable:     violent_crime_rate   R-squared:                       0.375\n",
      "Model:                            OLS   Adj. R-squared:                  0.375\n",
      "Method:                 Least Squares   F-statistic:                     485.9\n",
      "Date:                Sun, 22 Mar 2020   Prob (F-statistic):               0.00\n",
      "Time:                        10:40:35   Log-Likelihood:                -54132.\n",
      "No. Observations:                7284   AIC:                         1.083e+05\n",
      "Df Residuals:                    7274   BIC:                         1.084e+05\n",
      "Df Model:                           9                                         \n",
      "Covariance Type:            nonrobust                                         \n",
      "=========================================================================================================\n",
      "                                            coef    std err          t      P>|t|      [0.025      0.975]\n",
      "---------------------------------------------------------------------------------------------------------\n",
      "Intercept                               152.4493     11.078     13.762      0.000     130.734     174.165\n",
      "total_officers_rate                      51.4211      4.546     11.310      0.000      42.509      60.333\n",
      "jail_occupancy_count_rate                -0.3893      0.069     -5.624      0.000      -0.525      -0.254\n",
      "prison_occupancy_count_rate               0.5254      0.036     14.418      0.000       0.454       0.597\n",
      "drug_tot_arrests_rate                     5.1559      0.246     20.979      0.000       4.674       5.638\n",
      "drug_tot_arrests_black_rate               0.1504      0.064      2.337      0.019       0.024       0.277\n",
      "drug_tot_arrests_white_rate              -1.9263      0.168    -11.485      0.000      -2.255      -1.598\n",
      "disorder_arrests_tot_index_rate           1.8321      0.215      8.508      0.000       1.410       2.254\n",
      "disorder_tot_arrests_black_index_rate    -0.3697      0.050     -7.449      0.000      -0.467      -0.272\n",
      "disorder_tot_arrests_white_index_rate     0.5395      0.135      4.006      0.000       0.276       0.804\n",
      "==============================================================================\n",
      "Omnibus:                     2737.652   Durbin-Watson:                   0.234\n",
      "Prob(Omnibus):                  0.000   Jarque-Bera (JB):            14001.666\n",
      "Skew:                           1.745   Prob(JB):                         0.00\n",
      "Kurtosis:                       8.827   Cond. No.                     1.04e+03\n",
      "==============================================================================\n",
      "\n",
      "Warnings:\n",
      "[1] Standard Errors assume that the covariance matrix of the errors is correctly specified.\n",
      "[2] The condition number is large, 1.04e+03. This might indicate that there are\n",
      "strong multicollinearity or other numerical problems.\n"
     ]
    }
   ],
   "source": [
    "model = sm.OLS.from_formula('violent_crime_rate ~ total_officers_rate + jail_occupancy_count_rate + prison_occupancy_count_rate + drug_tot_arrests_rate + drug_tot_arrests_black_rate + drug_tot_arrests_white_rate + disorder_arrests_tot_index_rate + disorder_tot_arrests_black_index_rate + disorder_tot_arrests_white_index_rate',\n",
    "                            data=fnl_mn_wdt_low_3z_large_rates)\n",
    "result = model.fit()\n",
    "print(result.summary())"
   ]
  },
  {
   "cell_type": "code",
   "execution_count": null,
   "metadata": {},
   "outputs": [],
   "source": []
  },
  {
   "cell_type": "markdown",
   "metadata": {},
   "source": [
    "### REGRESSION MODELS - MEDIUM AGENCIES"
   ]
  },
  {
   "cell_type": "markdown",
   "metadata": {},
   "source": [
    "### NB for core counts all"
   ]
  },
  {
   "cell_type": "code",
   "execution_count": 27,
   "metadata": {},
   "outputs": [
    {
     "name": "stdout",
     "output_type": "stream",
     "text": [
      "                 Generalized Linear Model Regression Results                  \n",
      "==============================================================================\n",
      "Dep. Variable:          violent_crime   No. Observations:                12187\n",
      "Model:                            GLM   Df Residuals:                    12177\n",
      "Model Family:        NegativeBinomial   Df Model:                            9\n",
      "Link Function:                    log   Scale:                          1.0000\n",
      "Method:                          IRLS   Log-Likelihood:                -78539.\n",
      "Date:                Sun, 22 Mar 2020   Deviance:                       5987.9\n",
      "Time:                        13:24:32   Pearson chi2:                 6.24e+03\n",
      "No. Iterations:                    20                                         \n",
      "Covariance Type:            nonrobust                                         \n",
      "====================================================================================================\n",
      "                                       coef    std err          z      P>|z|      [0.025      0.975]\n",
      "----------------------------------------------------------------------------------------------------\n",
      "Intercept                            4.5405      0.019    236.871      0.000       4.503       4.578\n",
      "total_officers                       0.0005      0.000      3.419      0.001       0.000       0.001\n",
      "jail_occupancy_count                 0.0003      0.000      3.138      0.002       0.000       0.001\n",
      "prison_occupancy_count               0.0018   6.01e-05     30.311      0.000       0.002       0.002\n",
      "drug_tot_arrests                     0.0007      0.001      0.979      0.327      -0.001       0.002\n",
      "drug_tot_arrests_black               0.0004      0.001      0.559      0.576      -0.001       0.002\n",
      "drug_tot_arrests_white              -0.0002      0.001     -0.281      0.779      -0.002       0.001\n",
      "disorder_arrests_tot_index           0.0008      0.000      4.771      0.000       0.000       0.001\n",
      "disorder_tot_arrests_black_index    -0.0004      0.000     -2.167      0.030      -0.001   -3.93e-05\n",
      "disorder_tot_arrests_white_index    -0.0006      0.000     -3.539      0.000      -0.001      -0.000\n",
      "====================================================================================================\n"
     ]
    }
   ],
   "source": [
    "model = sm.GLM.from_formula('violent_crime ~ total_officers + jail_occupancy_count + prison_occupancy_count + drug_tot_arrests + drug_tot_arrests_black + drug_tot_arrests_white + disorder_arrests_tot_index + disorder_tot_arrests_black_index + disorder_tot_arrests_white_index',\n",
    "                           data = fnl_mn_med, family=sm.families.NegativeBinomial())\n",
    "res = model.fit()\n",
    "print(res.summary())"
   ]
  },
  {
   "cell_type": "markdown",
   "metadata": {},
   "source": [
    "### NB for core counts all without low 3z"
   ]
  },
  {
   "cell_type": "code",
   "execution_count": 29,
   "metadata": {},
   "outputs": [
    {
     "name": "stdout",
     "output_type": "stream",
     "text": [
      "                 Generalized Linear Model Regression Results                  \n",
      "==============================================================================\n",
      "Dep. Variable:          violent_crime   No. Observations:                12130\n",
      "Model:                            GLM   Df Residuals:                    12120\n",
      "Model Family:        NegativeBinomial   Df Model:                            9\n",
      "Link Function:                    log   Scale:                          1.0000\n",
      "Method:                          IRLS   Log-Likelihood:                -78167.\n",
      "Date:                Sun, 22 Mar 2020   Deviance:                       5936.1\n",
      "Time:                        13:37:52   Pearson chi2:                 6.20e+03\n",
      "No. Iterations:                    20                                         \n",
      "Covariance Type:            nonrobust                                         \n",
      "====================================================================================================\n",
      "                                       coef    std err          z      P>|z|      [0.025      0.975]\n",
      "----------------------------------------------------------------------------------------------------\n",
      "Intercept                            4.5405      0.019    236.339      0.000       4.503       4.578\n",
      "total_officers                       0.0005      0.000      3.384      0.001       0.000       0.001\n",
      "jail_occupancy_count                 0.0004      0.000      3.329      0.001       0.000       0.001\n",
      "prison_occupancy_count               0.0018   6.03e-05     30.185      0.000       0.002       0.002\n",
      "drug_tot_arrests                     0.0007      0.001      0.967      0.333      -0.001       0.002\n",
      "drug_tot_arrests_black               0.0004      0.001      0.571      0.568      -0.001       0.002\n",
      "drug_tot_arrests_white              -0.0002      0.001     -0.270      0.787      -0.002       0.001\n",
      "disorder_arrests_tot_index           0.0008      0.000      4.798      0.000       0.000       0.001\n",
      "disorder_tot_arrests_black_index    -0.0004      0.000     -2.235      0.025      -0.001   -5.23e-05\n",
      "disorder_tot_arrests_white_index    -0.0007      0.000     -3.597      0.000      -0.001      -0.000\n",
      "====================================================================================================\n"
     ]
    }
   ],
   "source": [
    "model = sm.GLM.from_formula('violent_crime ~ total_officers + jail_occupancy_count + prison_occupancy_count + drug_tot_arrests + drug_tot_arrests_black + drug_tot_arrests_white + disorder_arrests_tot_index + disorder_tot_arrests_black_index + disorder_tot_arrests_white_index',\n",
    "                            data=fnl_mn_wdt_low_3z_med, family=sm.families.NegativeBinomial())\n",
    "result = model.fit()\n",
    "print(result.summary())"
   ]
  },
  {
   "cell_type": "markdown",
   "metadata": {},
   "source": [
    "### OLS for core rates all"
   ]
  },
  {
   "cell_type": "code",
   "execution_count": 33,
   "metadata": {},
   "outputs": [
    {
     "name": "stdout",
     "output_type": "stream",
     "text": [
      "                            OLS Regression Results                            \n",
      "==============================================================================\n",
      "Dep. Variable:     violent_crime_rate   R-squared:                       0.328\n",
      "Model:                            OLS   Adj. R-squared:                  0.328\n",
      "Method:                 Least Squares   F-statistic:                     659.7\n",
      "Date:                Sun, 22 Mar 2020   Prob (F-statistic):               0.00\n",
      "Time:                        13:43:00   Log-Likelihood:                -88180.\n",
      "No. Observations:               12163   AIC:                         1.764e+05\n",
      "Df Residuals:                   12153   BIC:                         1.765e+05\n",
      "Df Model:                           9                                         \n",
      "Covariance Type:            nonrobust                                         \n",
      "=========================================================================================================\n",
      "                                            coef    std err          t      P>|t|      [0.025      0.975]\n",
      "---------------------------------------------------------------------------------------------------------\n",
      "Intercept                                54.5804      6.828      7.994      0.000      41.197      67.964\n",
      "total_officers_rate                      61.2417      3.687     16.608      0.000      54.014      68.470\n",
      "jail_occupancy_count_rate                -0.6888      0.049    -14.004      0.000      -0.785      -0.592\n",
      "prison_occupancy_count_rate               0.7159      0.032     22.519      0.000       0.654       0.778\n",
      "drug_tot_arrests_rate                     3.1369      0.165     19.004      0.000       2.813       3.461\n",
      "drug_tot_arrests_black_rate              -0.2863      0.028    -10.398      0.000      -0.340      -0.232\n",
      "drug_tot_arrests_white_rate               1.2425      0.089     13.920      0.000       1.068       1.418\n",
      "disorder_arrests_tot_index_rate           1.2989      0.103     12.660      0.000       1.098       1.500\n",
      "disorder_tot_arrests_black_index_rate    -0.1515      0.018     -8.505      0.000      -0.186      -0.117\n",
      "disorder_tot_arrests_white_index_rate    -0.0224      0.055     -0.404      0.686      -0.131       0.086\n",
      "==============================================================================\n",
      "Omnibus:                     6444.018   Durbin-Watson:                   0.261\n",
      "Prob(Omnibus):                  0.000   Jarque-Bera (JB):            66879.865\n",
      "Skew:                           2.338   Prob(JB):                         0.00\n",
      "Kurtosis:                      13.493   Cond. No.                         901.\n",
      "==============================================================================\n",
      "\n",
      "Warnings:\n",
      "[1] Standard Errors assume that the covariance matrix of the errors is correctly specified.\n"
     ]
    }
   ],
   "source": [
    "model = sm.OLS.from_formula('violent_crime_rate ~ total_officers_rate + jail_occupancy_count_rate + prison_occupancy_count_rate + drug_tot_arrests_rate + drug_tot_arrests_black_rate + drug_tot_arrests_white_rate + disorder_arrests_tot_index_rate + disorder_tot_arrests_black_index_rate + disorder_tot_arrests_white_index_rate',\n",
    "                            data=fnl_mn_med_rates)\n",
    "result = model.fit()\n",
    "print(result.summary())"
   ]
  },
  {
   "cell_type": "markdown",
   "metadata": {},
   "source": [
    "### OLS for core rates without low 3z"
   ]
  },
  {
   "cell_type": "code",
   "execution_count": 34,
   "metadata": {
    "scrolled": true
   },
   "outputs": [
    {
     "name": "stdout",
     "output_type": "stream",
     "text": [
      "                            OLS Regression Results                            \n",
      "==============================================================================\n",
      "Dep. Variable:     violent_crime_rate   R-squared:                       0.328\n",
      "Model:                            OLS   Adj. R-squared:                  0.328\n",
      "Method:                 Least Squares   F-statistic:                     657.2\n",
      "Date:                Sun, 22 Mar 2020   Prob (F-statistic):               0.00\n",
      "Time:                        13:43:58   Log-Likelihood:                -87763.\n",
      "No. Observations:               12106   AIC:                         1.755e+05\n",
      "Df Residuals:                   12096   BIC:                         1.756e+05\n",
      "Df Model:                           9                                         \n",
      "Covariance Type:            nonrobust                                         \n",
      "=========================================================================================================\n",
      "                                            coef    std err          t      P>|t|      [0.025      0.975]\n",
      "---------------------------------------------------------------------------------------------------------\n",
      "Intercept                                53.9978      6.839      7.896      0.000      40.593      67.403\n",
      "total_officers_rate                      61.3951      3.692     16.627      0.000      54.157      68.633\n",
      "jail_occupancy_count_rate                -0.6875      0.049    -13.910      0.000      -0.784      -0.591\n",
      "prison_occupancy_count_rate               0.7173      0.032     22.485      0.000       0.655       0.780\n",
      "drug_tot_arrests_rate                     3.1477      0.165     19.034      0.000       2.824       3.472\n",
      "drug_tot_arrests_black_rate              -0.2899      0.028    -10.491      0.000      -0.344      -0.236\n",
      "drug_tot_arrests_white_rate               1.2487      0.089     13.956      0.000       1.073       1.424\n",
      "disorder_arrests_tot_index_rate           1.2808      0.103     12.456      0.000       1.079       1.482\n",
      "disorder_tot_arrests_black_index_rate    -0.1507      0.018     -8.397      0.000      -0.186      -0.116\n",
      "disorder_tot_arrests_white_index_rate    -0.0173      0.055     -0.312      0.755      -0.126       0.091\n",
      "==============================================================================\n",
      "Omnibus:                     6420.834   Durbin-Watson:                   0.261\n",
      "Prob(Omnibus):                  0.000   Jarque-Bera (JB):            66932.760\n",
      "Skew:                           2.340   Prob(JB):                         0.00\n",
      "Kurtosis:                      13.526   Cond. No.                         898.\n",
      "==============================================================================\n",
      "\n",
      "Warnings:\n",
      "[1] Standard Errors assume that the covariance matrix of the errors is correctly specified.\n"
     ]
    }
   ],
   "source": [
    "model = sm.OLS.from_formula('violent_crime_rate ~ total_officers_rate + jail_occupancy_count_rate + prison_occupancy_count_rate + drug_tot_arrests_rate + drug_tot_arrests_black_rate + drug_tot_arrests_white_rate + disorder_arrests_tot_index_rate + disorder_tot_arrests_black_index_rate + disorder_tot_arrests_white_index_rate',\n",
    "                            data=fnl_mn_wdt_low_3z_med_rates)\n",
    "result = model.fit()\n",
    "print(result.summary())"
   ]
  },
  {
   "cell_type": "markdown",
   "metadata": {},
   "source": [
    "### REGRESSION MODELS - SMALL AGENCIES"
   ]
  },
  {
   "cell_type": "markdown",
   "metadata": {},
   "source": [
    "### NB for core counts all"
   ]
  },
  {
   "cell_type": "code",
   "execution_count": 36,
   "metadata": {},
   "outputs": [
    {
     "name": "stdout",
     "output_type": "stream",
     "text": [
      "                 Generalized Linear Model Regression Results                  \n",
      "==============================================================================\n",
      "Dep. Variable:          violent_crime   No. Observations:                69480\n",
      "Model:                            GLM   Df Residuals:                    69470\n",
      "Model Family:        NegativeBinomial   Df Model:                            9\n",
      "Link Function:                    log   Scale:                          1.0000\n",
      "Method:                          IRLS   Log-Likelihood:            -3.4319e+05\n",
      "Date:                Sun, 22 Mar 2020   Deviance:                       49565.\n",
      "Time:                        13:46:28   Pearson chi2:                 5.41e+04\n",
      "No. Iterations:                    23                                         \n",
      "Covariance Type:            nonrobust                                         \n",
      "====================================================================================================\n",
      "                                       coef    std err          z      P>|z|      [0.025      0.975]\n",
      "----------------------------------------------------------------------------------------------------\n",
      "Intercept                            3.0360      0.007    459.010      0.000       3.023       3.049\n",
      "total_officers                       0.0055      0.000     37.933      0.000       0.005       0.006\n",
      "jail_occupancy_count                 0.0007   9.63e-05      7.092      0.000       0.000       0.001\n",
      "prison_occupancy_count               0.0044   5.85e-05     76.042      0.000       0.004       0.005\n",
      "drug_tot_arrests                    -0.0018      0.001     -3.287      0.001      -0.003      -0.001\n",
      "drug_tot_arrests_black               0.0037      0.001      6.571      0.000       0.003       0.005\n",
      "drug_tot_arrests_white               0.0036      0.001      6.272      0.000       0.002       0.005\n",
      "disorder_arrests_tot_index           0.0012      0.000      5.002      0.000       0.001       0.002\n",
      "disorder_tot_arrests_black_index     0.0014      0.000      5.772      0.000       0.001       0.002\n",
      "disorder_tot_arrests_white_index    -0.0004      0.000     -1.788      0.074      -0.001    4.19e-05\n",
      "====================================================================================================\n"
     ]
    }
   ],
   "source": [
    "model = sm.GLM.from_formula('violent_crime ~ total_officers + jail_occupancy_count + prison_occupancy_count + drug_tot_arrests + drug_tot_arrests_black + drug_tot_arrests_white + disorder_arrests_tot_index + disorder_tot_arrests_black_index + disorder_tot_arrests_white_index',\n",
    "                           data=fnl_mn_sml, family=sm.families.NegativeBinomial())\n",
    "result = model.fit()\n",
    "print(result.summary())"
   ]
  },
  {
   "cell_type": "markdown",
   "metadata": {},
   "source": [
    "### NB for core counts without low 3z"
   ]
  },
  {
   "cell_type": "code",
   "execution_count": 38,
   "metadata": {},
   "outputs": [
    {
     "name": "stdout",
     "output_type": "stream",
     "text": [
      "                 Generalized Linear Model Regression Results                  \n",
      "==============================================================================\n",
      "Dep. Variable:          violent_crime   No. Observations:                69193\n",
      "Model:                            GLM   Df Residuals:                    69183\n",
      "Model Family:        NegativeBinomial   Df Model:                            9\n",
      "Link Function:                    log   Scale:                          1.0000\n",
      "Method:                          IRLS   Log-Likelihood:            -3.4179e+05\n",
      "Date:                Sun, 22 Mar 2020   Deviance:                       49237.\n",
      "Time:                        13:51:05   Pearson chi2:                 5.38e+04\n",
      "No. Iterations:                    23                                         \n",
      "Covariance Type:            nonrobust                                         \n",
      "====================================================================================================\n",
      "                                       coef    std err          z      P>|z|      [0.025      0.975]\n",
      "----------------------------------------------------------------------------------------------------\n",
      "Intercept                            3.0368      0.007    458.124      0.000       3.024       3.050\n",
      "total_officers                       0.0055      0.000     37.707      0.000       0.005       0.006\n",
      "jail_occupancy_count                 0.0007   9.64e-05      7.048      0.000       0.000       0.001\n",
      "prison_occupancy_count               0.0045   5.85e-05     76.076      0.000       0.004       0.005\n",
      "drug_tot_arrests                    -0.0018      0.001     -3.255      0.001      -0.003      -0.001\n",
      "drug_tot_arrests_black               0.0037      0.001      6.535      0.000       0.003       0.005\n",
      "drug_tot_arrests_white               0.0035      0.001      6.237      0.000       0.002       0.005\n",
      "disorder_arrests_tot_index           0.0012      0.000      4.940      0.000       0.001       0.002\n",
      "disorder_tot_arrests_black_index     0.0014      0.000      5.802      0.000       0.001       0.002\n",
      "disorder_tot_arrests_white_index    -0.0004      0.000     -1.740      0.082      -0.001    5.37e-05\n",
      "====================================================================================================\n"
     ]
    }
   ],
   "source": [
    "model = sm.GLM.from_formula('violent_crime ~ total_officers + jail_occupancy_count + prison_occupancy_count + drug_tot_arrests + drug_tot_arrests_black + drug_tot_arrests_white + disorder_arrests_tot_index + disorder_tot_arrests_black_index + disorder_tot_arrests_white_index',\n",
    "                           data=fnl_mn_wdt_low_3z_sml, family=sm.families.NegativeBinomial())\n",
    "result = model.fit()\n",
    "print(result.summary())"
   ]
  },
  {
   "cell_type": "markdown",
   "metadata": {},
   "source": [
    "### OLS for core rates all"
   ]
  },
  {
   "cell_type": "code",
   "execution_count": 41,
   "metadata": {},
   "outputs": [
    {
     "name": "stdout",
     "output_type": "stream",
     "text": [
      "                            OLS Regression Results                            \n",
      "==============================================================================\n",
      "Dep. Variable:     violent_crime_rate   R-squared:                       0.244\n",
      "Model:                            OLS   Adj. R-squared:                  0.244\n",
      "Method:                 Least Squares   F-statistic:                     2472.\n",
      "Date:                Sun, 22 Mar 2020   Prob (F-statistic):               0.00\n",
      "Time:                        13:52:37   Log-Likelihood:            -4.9493e+05\n",
      "No. Observations:               69022   AIC:                         9.899e+05\n",
      "Df Residuals:                   69012   BIC:                         9.900e+05\n",
      "Df Model:                           9                                         \n",
      "Covariance Type:            nonrobust                                         \n",
      "=========================================================================================================\n",
      "                                            coef    std err          t      P>|t|      [0.025      0.975]\n",
      "---------------------------------------------------------------------------------------------------------\n",
      "Intercept                                55.6436      2.382     23.357      0.000      50.974      60.313\n",
      "total_officers_rate                      36.3672      1.021     35.636      0.000      34.367      38.367\n",
      "jail_occupancy_count_rate                -0.0461      0.013     -3.609      0.000      -0.071      -0.021\n",
      "prison_occupancy_count_rate               0.2860      0.010     28.649      0.000       0.266       0.306\n",
      "drug_tot_arrests_rate                     2.0054      0.052     38.313      0.000       1.903       2.108\n",
      "drug_tot_arrests_black_rate              -0.0838      0.004    -20.935      0.000      -0.092      -0.076\n",
      "drug_tot_arrests_white_rate               0.3806      0.034     11.037      0.000       0.313       0.448\n",
      "disorder_arrests_tot_index_rate           1.3219      0.023     56.497      0.000       1.276       1.368\n",
      "disorder_tot_arrests_black_index_rate    -0.0584      0.003    -17.422      0.000      -0.065      -0.052\n",
      "disorder_tot_arrests_white_index_rate    -0.1158      0.013     -9.174      0.000      -0.140      -0.091\n",
      "==============================================================================\n",
      "Omnibus:                    60169.620   Durbin-Watson:                   0.340\n",
      "Prob(Omnibus):                  0.000   Jarque-Bera (JB):          3981600.810\n",
      "Skew:                           3.892   Prob(JB):                         0.00\n",
      "Kurtosis:                      39.385   Cond. No.                     1.00e+03\n",
      "==============================================================================\n",
      "\n",
      "Warnings:\n",
      "[1] Standard Errors assume that the covariance matrix of the errors is correctly specified.\n",
      "[2] The condition number is large,  1e+03. This might indicate that there are\n",
      "strong multicollinearity or other numerical problems.\n"
     ]
    }
   ],
   "source": [
    "model = sm.OLS.from_formula('violent_crime_rate ~ total_officers_rate + jail_occupancy_count_rate + prison_occupancy_count_rate + drug_tot_arrests_rate + drug_tot_arrests_black_rate + drug_tot_arrests_white_rate + disorder_arrests_tot_index_rate + disorder_tot_arrests_black_index_rate + disorder_tot_arrests_white_index_rate',\n",
    "                            data=fnl_mn_sml_rates)\n",
    "result = model.fit()\n",
    "print(result.summary())"
   ]
  },
  {
   "cell_type": "markdown",
   "metadata": {},
   "source": [
    "### OLS for core rates without low 3z"
   ]
  },
  {
   "cell_type": "code",
   "execution_count": 42,
   "metadata": {},
   "outputs": [
    {
     "name": "stdout",
     "output_type": "stream",
     "text": [
      "                            OLS Regression Results                            \n",
      "==============================================================================\n",
      "Dep. Variable:     violent_crime_rate   R-squared:                       0.244\n",
      "Model:                            OLS   Adj. R-squared:                  0.244\n",
      "Method:                 Least Squares   F-statistic:                     2459.\n",
      "Date:                Sun, 22 Mar 2020   Prob (F-statistic):               0.00\n",
      "Time:                        13:52:53   Log-Likelihood:            -4.9284e+05\n",
      "No. Observations:               68736   AIC:                         9.857e+05\n",
      "Df Residuals:                   68726   BIC:                         9.858e+05\n",
      "Df Model:                           9                                         \n",
      "Covariance Type:            nonrobust                                         \n",
      "=========================================================================================================\n",
      "                                            coef    std err          t      P>|t|      [0.025      0.975]\n",
      "---------------------------------------------------------------------------------------------------------\n",
      "Intercept                                55.9594      2.386     23.455      0.000      51.283      60.636\n",
      "total_officers_rate                      36.2259      1.021     35.478      0.000      34.225      38.227\n",
      "jail_occupancy_count_rate                -0.0452      0.013     -3.538      0.000      -0.070      -0.020\n",
      "prison_occupancy_count_rate               0.2850      0.010     28.542      0.000       0.265       0.305\n",
      "drug_tot_arrests_rate                     2.0018      0.052     38.222      0.000       1.899       2.104\n",
      "drug_tot_arrests_black_rate              -0.0849      0.004    -21.022      0.000      -0.093      -0.077\n",
      "drug_tot_arrests_white_rate               0.3838      0.034     11.132      0.000       0.316       0.451\n",
      "disorder_arrests_tot_index_rate           1.3196      0.023     56.328      0.000       1.274       1.365\n",
      "disorder_tot_arrests_black_index_rate    -0.0582      0.003    -17.367      0.000      -0.065      -0.052\n",
      "disorder_tot_arrests_white_index_rate    -0.1147      0.013     -9.087      0.000      -0.139      -0.090\n",
      "==============================================================================\n",
      "Omnibus:                    60052.567   Durbin-Watson:                   0.340\n",
      "Prob(Omnibus):                  0.000   Jarque-Bera (JB):          4005940.998\n",
      "Skew:                           3.903   Prob(JB):                         0.00\n",
      "Kurtosis:                      39.576   Cond. No.                     1.00e+03\n",
      "==============================================================================\n",
      "\n",
      "Warnings:\n",
      "[1] Standard Errors assume that the covariance matrix of the errors is correctly specified.\n",
      "[2] The condition number is large,  1e+03. This might indicate that there are\n",
      "strong multicollinearity or other numerical problems.\n"
     ]
    }
   ],
   "source": [
    "model = sm.OLS.from_formula('violent_crime_rate ~ total_officers_rate + jail_occupancy_count_rate + prison_occupancy_count_rate + drug_tot_arrests_rate + drug_tot_arrests_black_rate + drug_tot_arrests_white_rate + disorder_arrests_tot_index_rate + disorder_tot_arrests_black_index_rate + disorder_tot_arrests_white_index_rate',\n",
    "                            data=fnl_mn_wdt_low_3z_sml_rates)\n",
    "result = model.fit()\n",
    "print(result.summary())"
   ]
  },
  {
   "cell_type": "code",
   "execution_count": null,
   "metadata": {},
   "outputs": [],
   "source": []
  }
 ],
 "metadata": {
  "kernelspec": {
   "display_name": "us_crime_data_analysis",
   "language": "python",
   "name": "us_crime_data_analysis"
  },
  "language_info": {
   "codemirror_mode": {
    "name": "ipython",
    "version": 3
   },
   "file_extension": ".py",
   "mimetype": "text/x-python",
   "name": "python",
   "nbconvert_exporter": "python",
   "pygments_lexer": "ipython3",
   "version": "3.8.1"
  }
 },
 "nbformat": 4,
 "nbformat_minor": 4
}

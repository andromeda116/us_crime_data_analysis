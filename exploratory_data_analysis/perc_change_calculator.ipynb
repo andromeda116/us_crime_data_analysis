{
 "cells": [
  {
   "cell_type": "code",
   "execution_count": 199,
   "metadata": {},
   "outputs": [],
   "source": [
    "import pandas as pd\n",
    "\n",
    "pd.set_option('display.max_columns', 500)\n",
    "pd.set_option('display.width', 5000)\n",
    "\n",
    "import numpy as np\n",
    "import os"
   ]
  },
  {
   "cell_type": "code",
   "execution_count": 42,
   "metadata": {},
   "outputs": [],
   "source": [
    "test = pd.read_csv('/Users/salma/Research/us_crime_data_analysis/data/final_core/final_main_large_cities_core_counts.csv')"
   ]
  },
  {
   "cell_type": "markdown",
   "metadata": {},
   "source": [
    "#### groupby test with sorting by ori and year"
   ]
  },
  {
   "cell_type": "code",
   "execution_count": 17,
   "metadata": {
    "collapsed": true
   },
   "outputs": [
    {
     "name": "stdout",
     "output_type": "stream",
     "text": [
      "Before sort: \n",
      "        ORI  YEAR    POP100\n",
      "0  AK00101  1990  226338.0\n",
      "1  AK00101  1991  229732.5\n",
      "2  AK00101  1992  233127.0\n",
      "3  AK00101  1993  236521.5\n",
      "4  AK00101  1994  239916.0 \n",
      "\n",
      "After sort: \n",
      "    pc_POP100\n",
      "0   0.000000\n",
      "1   1.499748\n",
      "2   2.999496\n",
      "3   4.499244\n",
      "4   5.998993\n",
      "<class 'pandas.core.frame.DataFrame'>\n",
      "After concat: \n",
      "        ORI  YEAR    POP100  pc_POP100\n",
      "0  AK00101  1990  226338.0   0.000000\n",
      "1  AK00101  1991  229732.5   1.499748\n",
      "2  AK00101  1992  233127.0   2.999496\n",
      "3  AK00101  1993  236521.5   4.499244\n",
      "4  AK00101  1994  239916.0   5.998993\n"
     ]
    }
   ],
   "source": [
    "test_req = test.loc[:, ['ORI', 'YEAR', 'POP100']].head(5)\n",
    "\n",
    "test_req.sort_values(['ORI', 'YEAR'], ascending=[True, True], inplace=True)\n",
    "test_req_grpby = test_req.groupby('ORI').transform(lambda x: x.div(x.iloc[0]).subtract(1).mul(100))\n",
    "test_req_grpby.rename({'POP100': 'pc_POP100'}, axis=1, inplace=True)\n",
    "test_req_grpby.drop(['YEAR'], axis=1, inplace=True)\n",
    "\n",
    "print('Before sort: \\n', test_req.head(5), '\\n')\n",
    "print('After sort: \\n', test_req_grpby.head(5))\n",
    "\n",
    "print(type(test_req_grpby))\n",
    "\n",
    "\n",
    "test_req_res = pd.concat([test_req, test_req_grpby], axis=1)\n",
    "print('After concat: \\n', test_req_res.head(5))"
   ]
  },
  {
   "cell_type": "markdown",
   "metadata": {},
   "source": [
    "#### groupby test without sorting by ori and year"
   ]
  },
  {
   "cell_type": "code",
   "execution_count": 19,
   "metadata": {
    "collapsed": true
   },
   "outputs": [
    {
     "name": "stdout",
     "output_type": "stream",
     "text": [
      "Before pc calc: \n",
      "        ORI  YEAR    POP100\n",
      "0  AK00101  1990  226338.0\n",
      "1  AK00101  1991  229732.5\n",
      "2  AK00101  1992  233127.0\n",
      "3  AK00101  1993  236521.5\n",
      "4  AK00101  1994  239916.0 \n",
      "\n",
      "After pc calc: \n",
      "    pc_POP100\n",
      "0   0.000000\n",
      "1   1.499748\n",
      "2   2.999496\n",
      "3   4.499244\n",
      "4   5.998993\n",
      "<class 'pandas.core.frame.DataFrame'>\n",
      "After concat: \n",
      "        ORI  YEAR    POP100  pc_POP100\n",
      "0  AK00101  1990  226338.0   0.000000\n",
      "1  AK00101  1991  229732.5   1.499748\n",
      "2  AK00101  1992  233127.0   2.999496\n",
      "3  AK00101  1993  236521.5   4.499244\n",
      "4  AK00101  1994  239916.0   5.998993\n"
     ]
    }
   ],
   "source": [
    "test_req = test.loc[:, ['ORI', 'YEAR', 'POP100']].head(5)\n",
    "\n",
    "print('Before pc calc: \\n', test_req.head(5), '\\n')\n",
    "\n",
    "\n",
    "test_req_grpby = test_req.groupby('ORI').transform(lambda x: x.div(x.iloc[0]).subtract(1).mul(100))\n",
    "test_req_grpby.rename({'POP100': 'pc_POP100'}, axis=1, inplace=True)\n",
    "test_req_grpby.drop(['YEAR'], axis=1, inplace=True)\n",
    "\n",
    "print('After pc calc: \\n', test_req_grpby.head(5))\n",
    "\n",
    "print(type(test_req_grpby))\n",
    "\n",
    "\n",
    "test_req_res = pd.concat([test_req, test_req_grpby], axis=1)\n",
    "print('After concat: \\n', test_req_res.head(5))"
   ]
  },
  {
   "cell_type": "code",
   "execution_count": null,
   "metadata": {},
   "outputs": [],
   "source": [
    "## CA03332, CA03616"
   ]
  },
  {
   "cell_type": "code",
   "execution_count": null,
   "metadata": {},
   "outputs": [],
   "source": [
    "def first_non_zero(col):\n",
    "    \"\"\"Return the first non-zero value of a column, or nan if the column is all-zero\"\"\"\n",
    "    head = col[col != 0].head(1)\n",
    "    return np.nan if head.empty else head.values\n",
    "\n",
    "df.groupby('Month').apply(lambda group: group[['Data_1', 'Data_2', 'Data_3']].apply(first_non_zero)) \\\n",
    "    .reset_index(level=1, drop=True)"
   ]
  },
  {
   "cell_type": "code",
   "execution_count": 45,
   "metadata": {
    "collapsed": true
   },
   "outputs": [
    {
     "name": "stdout",
     "output_type": "stream",
     "text": [
      "      ORI AGENCY placename  YEAR    POP100  total_officers  prison_occupancy_count\n",
      "1531  NaN    NaN       NaN  1990  118779.0             NaN                   437.0\n",
      "1532  NaN    NaN       NaN  1991  121139.2             NaN                   463.0\n",
      "1533  NaN    NaN       NaN  1992  123499.4             NaN                   518.0\n",
      "1534  NaN    NaN       NaN  1994  128219.8             NaN                   676.0\n",
      "1535  NaN    NaN       NaN  1995  130580.0             NaN                   778.0\n",
      "1536  NaN    NaN       NaN  1996  132940.2           130.0                   880.0\n",
      "1537  NaN    NaN       NaN  1997  135300.4           130.0                  1008.0\n",
      "1538  NaN    NaN       NaN  1998  137660.6           130.0                  1059.0\n",
      "1539  NaN    NaN       NaN  1999  140020.8           130.0                  1082.0\n",
      "1540  NaN    NaN       NaN  2000  142381.0           130.0                  1110.0\n",
      "1541  NaN    NaN       NaN  2001  147479.4           130.0                  1121.0\n",
      "1542  NaN    NaN       NaN  2002  152577.8           130.0                  1210.0\n",
      "1543  NaN    NaN       NaN  2003  157676.2           130.0                  1252.0\n",
      "1544  NaN    NaN       NaN  2004  162774.6           130.0                  1283.0\n",
      "1545  NaN    NaN       NaN  2005  167873.0           130.0                  1395.0\n",
      "1546  NaN    NaN       NaN  2006  172971.4           130.0                  1413.0\n",
      "1547  NaN    NaN       NaN  2007  178069.8           130.0                  1385.0\n",
      "1548  NaN    NaN       NaN  2008  183168.2           130.0                  1407.0\n",
      "1549  NaN    NaN       NaN  2009  188266.6           130.0                  1385.0\n",
      "1550  NaN    NaN       NaN  2010  193365.0           130.0                  1366.0\n",
      "1551  NaN    NaN       NaN  2011  198463.4             1.0                  1291.0\n",
      "1552  NaN    NaN       NaN  2012  203561.8             0.0                  1207.0\n",
      "1553  NaN    NaN       NaN  2013  208660.2             0.0                  1264.0\n",
      "1554  NaN    NaN       NaN  2014  213758.6             1.0                  1297.0\n",
      "1555  NaN    NaN       NaN  2015  218857.0             1.0                  1194.0\n",
      "1710  NaN    NaN       NaN  1990  101409.0             NaN                   161.0\n",
      "1711  NaN    NaN       NaN  1991  104042.4             NaN                   173.0\n",
      "1712  NaN    NaN       NaN  1992  106675.8             NaN                   186.0\n",
      "1713  NaN    NaN       NaN  1994  111942.6             NaN                   247.0\n",
      "1714  NaN    NaN       NaN  1995  114576.0             NaN                   291.0\n",
      "1715  NaN    NaN       NaN  1996  117209.4            81.0                   324.0\n",
      "1716  NaN    NaN       NaN  1997  119842.8            86.0                   365.0\n",
      "1717  NaN    NaN       NaN  1998  122476.2            91.0                   376.0\n",
      "1718  NaN    NaN       NaN  1999  125109.6            91.0                   404.0\n",
      "1719  NaN    NaN       NaN  2000  127743.0            91.0                   430.0\n",
      "1720  NaN    NaN       NaN  2001  131495.6            91.0                   415.0\n",
      "1721  NaN    NaN       NaN  2002  135248.2            91.0                   437.0\n",
      "1722  NaN    NaN       NaN  2003  139000.8            91.0                   453.0\n",
      "1723  NaN    NaN       NaN  2004  142753.4            91.0                   464.0\n",
      "1724  NaN    NaN       NaN  2005  146506.0            91.0                   489.0\n",
      "1725  NaN    NaN       NaN  2006  150258.6            91.0                   519.0\n",
      "1726  NaN    NaN       NaN  2007  154011.2            91.0                   511.0\n",
      "1727  NaN    NaN       NaN  2008  157763.8            91.0                   523.0\n",
      "1728  NaN    NaN       NaN  2009  161516.4            91.0                   524.0\n",
      "1729  NaN    NaN       NaN  2010  165269.0            91.0                   510.0\n",
      "1730  NaN    NaN       NaN  2011  169021.6             1.0                   449.0\n",
      "1731  NaN    NaN       NaN  2012  172774.2             0.0                   388.0\n",
      "1732  NaN    NaN       NaN  2013  176526.8             0.0                   382.0\n",
      "1733  NaN    NaN       NaN  2014  180279.4             1.0                   382.0\n",
      "1734  NaN    NaN       NaN  2015  184032.0             1.0                   346.0\n"
     ]
    }
   ],
   "source": [
    "test_req = test[test.ORI.isin(['CA03332', 'CA03616'])].loc[:, ['ORI', 'AGENCY', 'placename', 'YEAR', 'POP100', 'total_officers', 'prison_occupancy_count']]\n",
    "# print(test_req)\n",
    "\n",
    "# test_req_grpby = test_req.sort_values('YEAR').groupby('ORI').first()\n",
    "\n",
    "# print(test_req.loc[test_req.total_officers.ne(0).groupby(test_req['ORI']).idxmax()])\n",
    "\n",
    "# print(test_req.loc[test_req.total_officers.ne(0).groupby(test_req['ORI']).idxmax()])\n",
    "\n",
    "# test_req.loc[test_req.Value.ne(0).groupby(df['Group']).idxmax(),'Newcol']=1\n",
    "\n",
    "test_req = test_req[test_req.groupby('ORI')['total_officers'].cumsum().gt(0)]\n",
    "# df_req_grpby = df_req.groupby('ORI').transform(lambda x: x.div(x.iloc[0]).subtract(1).mul(100))\n",
    "    \n",
    "print(test_req)"
   ]
  },
  {
   "cell_type": "markdown",
   "metadata": {},
   "source": [
    "### Function to navigate through a list of dirs and calculate perc change for given vars for all the dfs in those diretories"
   ]
  },
  {
   "cell_type": "code",
   "execution_count": 177,
   "metadata": {},
   "outputs": [],
   "source": [
    "vars_rates = ['violent_crime_rate', 'total_officers_rate', 'prison_occupancy_count_rate', 'jail_occupancy_count_rate',\n",
    "               'drug_tot_arrests_rate', 'disorder_arrests_tot_index_rate']\n",
    "vars_counts = ['violent_crime', 'total_officers', 'prison_occupancy_count', 'jail_occupancy_count',\n",
    "               'drug_tot_arrests', 'disorder_arrests_tot_index']"
   ]
  },
  {
   "cell_type": "code",
   "execution_count": 184,
   "metadata": {},
   "outputs": [],
   "source": [
    "def calc_perc_change(dir_paths_list, vars_for_perc_change=None):\n",
    "    for dir_path in dir_paths_list:\n",
    "        os.chdir(dir_path)\n",
    "        count = 0\n",
    "        for fl in os.listdir():\n",
    "            fl_name = os.path.basename(fl).split('.')[0]\n",
    "            if not fl_name.startswith('.'):\n",
    "                df = pd.read_csv(fl)\n",
    "                if 'ORI' in list(df):\n",
    "                    ## make sure sorted in reqd order-just in case\n",
    "                    df.sort_values(['ORI', 'YEAR'], ascending=[True, True], inplace=True)\n",
    "\n",
    "                    if 'rates' in fl_name.split('_'):\n",
    "                        vars_for_perc_change = vars_rates\n",
    "                    elif 'counts' in fl_name.split('_'):\n",
    "                        vars_for_perc_change = vars_counts\n",
    "\n",
    "                    df_req = df.loc[:, ['ORI', 'YEAR']]\n",
    "                    df_req_temp = df.loc[:, ['ORI', 'YEAR']]\n",
    "                \n",
    "                    for var in vars_for_perc_change:\n",
    "                        #df_req_temp.drop(['ORI1'], axis=1, inplace=True)\n",
    "                        df_req_temp[f'{var}'] = df.loc[:, f'{var}']\n",
    "                        if var == vars_for_perc_change[-1]:\n",
    "                            df_req_temp['ORI1'] = df.loc[:, 'ORI']\n",
    "                            df_req_temp['YEAR1'] = df.loc[:, 'YEAR']\n",
    "                            \n",
    "                        df_req_temp = df_req_temp[df_req_temp.groupby('ORI')[f'{var}'].cumsum().gt(0)]\n",
    "\n",
    "                        df_req = df_req.merge(df_req_temp, on=['ORI', 'YEAR'], how='outer')\n",
    "                        df_req_temp.drop([f'{var}'], axis=1, inplace=True)\n",
    "\n",
    "                    df_req.set_index(['ORI1', 'YEAR1'], inplace=True)\n",
    "                    df_req_grpd = df_req.groupby('ORI', as_index=False).transform(lambda x: x.div(x.iloc[0]).subtract(1).mul(100))\n",
    "  \n",
    "                    df_req_grpd.drop(['YEAR'], axis=1, inplace=True)\n",
    "    \n",
    "                    # prepend _pc to the demeaned columns\n",
    "                    df_req_grpd.columns = ['pc_' + str(col) for col in df_req_grpd.columns]\n",
    "                    \n",
    "                    df_req_grpd.reset_index(inplace=True)\n",
    "                    df_req_grpd.rename({'ORI1': 'ORI', 'YEAR1':'YEAR'}, axis=1, inplace=True)\n",
    "                    \n",
    "                                        \n",
    "                    df_id = df.loc[:, ['ORI', 'YEAR', 'AGENCY', 'placename', 'population']]\n",
    "                    \n",
    "                    # If we want to get original cols too for which we calculated pc\n",
    "                    #df_id = df.loc[:, ['ORI', 'YEAR', 'AGENCY', 'placename', 'population']+vars_for_perc_change]\n",
    "                    df_pc = df_id.merge(df_req_grpd, on=['ORI', 'YEAR'])\n",
    "\n",
    "                    df_pc.to_csv(f'{dir_path}_pc/{fl_name}_pc.csv', index=False)"
   ]
  },
  {
   "cell_type": "code",
   "execution_count": 183,
   "metadata": {},
   "outputs": [],
   "source": [
    "calc_perc_change(dir_paths_list=['/Users/salma/Research/us_crime_data_analysis/data/final_core',\n",
    "                                '/Users/salma/Research/us_crime_data_analysis/data/final_core_90_02',\n",
    "                                '/Users/salma/Research/us_crime_data_analysis/data/final_core_03_15'])"
   ]
  },
  {
   "cell_type": "code",
   "execution_count": 185,
   "metadata": {
    "scrolled": true
   },
   "outputs": [
    {
     "name": "stdout",
     "output_type": "stream",
     "text": [
      "['ORI', 'YEAR', 'violent_crime']\n",
      "['ORI', 'YEAR', 'violent_crime', 'total_officers']\n",
      "['ORI', 'YEAR', 'violent_crime', 'total_officers', 'prison_occupancy_count']\n",
      "['ORI', 'YEAR', 'violent_crime', 'total_officers', 'prison_occupancy_count', 'jail_occupancy_count']\n",
      "['ORI', 'YEAR', 'violent_crime', 'total_officers', 'prison_occupancy_count', 'jail_occupancy_count', 'drug_tot_arrests']\n",
      "['ORI', 'YEAR', 'violent_crime', 'total_officers', 'prison_occupancy_count', 'jail_occupancy_count', 'drug_tot_arrests', 'disorder_arrests_tot_index', 'ORI1', 'YEAR1']\n"
     ]
    }
   ],
   "source": [
    "calc_perc_change(dir_paths_list=['/Users/salma/Research/us_crime_data_analysis/data/pc_test'])"
   ]
  },
  {
   "cell_type": "markdown",
   "metadata": {},
   "source": [
    "### MEAN OF EACH YEAR THEN PERCENT CHANGE"
   ]
  },
  {
   "cell_type": "code",
   "execution_count": 221,
   "metadata": {},
   "outputs": [],
   "source": [
    "def calc_perc_change_overall_by_yr(dir_paths_list):\n",
    "    for dir_path in dir_paths_list:\n",
    "        os.chdir(dir_path)\n",
    "        count = 0\n",
    "        for fl in os.listdir():\n",
    "            fl_name = os.path.basename(fl).split('.')[0]\n",
    "            if not fl_name.startswith('.'):\n",
    "                df = pd.read_csv(fl)\n",
    "                if 'ORI' in list(df):\n",
    "                    ## make sure sorted in reqd order-just in case\n",
    "                    df.sort_values(['ORI', 'YEAR'], ascending=[True, True], inplace=True)\n",
    "\n",
    "                    if 'rates' in fl_name.split('_'):\n",
    "                        vars_for_perc_change = ['YEAR']  + vars_rates\n",
    "                    elif 'counts' in fl_name.split('_'):\n",
    "                        vars_for_perc_change = [ 'YEAR'] + vars_counts   \n",
    "\n",
    "                    df_req = df.loc[:, vars_for_perc_change]\n",
    "                                        \n",
    "                    df_req_grpby = df_req.groupby('YEAR').mean()\n",
    "                    \n",
    "                    df_req_grpby = df_req_grpby.transform(lambda x: x.div(x.iloc[0]).subtract(1).mul(100))\n",
    "                    \n",
    "                    df_req_grpby.columns = ['pc_' + str(col) for col in df_req_grpby.columns]\n",
    "\n",
    "                    df_req_grpby.reset_index(inplace=True)\n",
    "                   # df_req_grpby.rename({'ORI1': 'ORI', 'YEAR1':'YEAR'}, axis=1, inplace=True)\n",
    "\n",
    "                    df_req_grpby.to_csv(f'{dir_path}_pc/{fl_name}_pc.csv', index=False)"
   ]
  },
  {
   "cell_type": "code",
   "execution_count": 219,
   "metadata": {},
   "outputs": [],
   "source": [
    "### test\n",
    "calc_perc_change_overall_by_yr(dir_paths_list=['/Users/salma/Research/us_crime_data_analysis/data/pc_test'])"
   ]
  },
  {
   "cell_type": "code",
   "execution_count": 222,
   "metadata": {},
   "outputs": [],
   "source": [
    "calc_perc_change_overall_by_yr(dir_paths_list=['/Users/salma/Research/us_crime_data_analysis/data/final_core',\n",
    "                                '/Users/salma/Research/us_crime_data_analysis/data/final_core_90_02',\n",
    "                                '/Users/salma/Research/us_crime_data_analysis/data/final_core_03_15'])"
   ]
  },
  {
   "cell_type": "markdown",
   "metadata": {},
   "source": [
    "### Calculate population percentage change within agencies"
   ]
  },
  {
   "cell_type": "code",
   "execution_count": 253,
   "metadata": {},
   "outputs": [],
   "source": [
    "def calc_pop_perc_change(dir_paths_list):\n",
    "    for dir_path in dir_paths_list:\n",
    "        os.chdir(dir_path)\n",
    "\n",
    "        for fl in os.listdir():\n",
    "            fl_name = os.path.basename(fl).split('.')[0]\n",
    "            if not fl_name.startswith('.'):\n",
    "                df = pd.read_csv(fl)\n",
    "                if 'ORI' in list(df):\n",
    "                    ## make sure sorted in reqd order-just in case\n",
    "                    df.sort_values(['ORI', 'YEAR'], ascending=[True, True], inplace=True)\n",
    "\n",
    "                    df_req = df.loc[:, ['ORI', 'population']]\n",
    "                    df_req['ORI1'] = df.loc[:, 'ORI']\n",
    "                    df_req['YEAR1'] = df.loc[:, 'YEAR']\n",
    "                    \n",
    "                    df_req.set_index(['ORI1', 'YEAR1'], inplace=True)\n",
    "                            \n",
    "                    df_req_pop_pc = df_req.groupby('ORI').transform(lambda x: x.div(x.iloc[0]).subtract(1).mul(100))\n",
    "                    \n",
    "                    df_req_pop_pc.reset_index(['ORI1', 'YEAR1'], inplace=True)\n",
    "                    \n",
    "                    df_req_pop_pc.rename({'ORI1': 'ORI', 'YEAR1':'YEAR', 'population': 'pc_population'}, axis=1, inplace=True)\n",
    "                                                            \n",
    "                    df_id = df.loc[:, ['ORI', 'YEAR', 'AGENCY', 'placename', 'population']]\n",
    "\n",
    "                    df_pop_pc = df_id.merge(df_req_pop_pc, on=['ORI', 'YEAR'])\n",
    "\n",
    "                    df_pop_pc.to_csv(f'{dir_path}_pc/{fl_name}_pop_pc.csv', index=False)\n",
    "                    \n",
    "                    df_pop_pc_20_change = df_pop_pc.loc[df_pop_pc.pc_population.abs()>=20]\n",
    "                    \n",
    "                    df_pop_pc_20_change.to_csv(f'{dir_path}_pc/{fl_name}_pop_pc_20_change.csv', index=False)\n",
    "                    \n",
    "                    df_pop_pc_20_change = df_pop_pc.loc[df_pop_pc.pc_population>=20]\n",
    "                    \n",
    "                    df_pop_pc_20_change.to_csv(f'{dir_path}_pc/{fl_name}_pop_pc_20_inc.csv', index=False)\n",
    "                    \n",
    "                    df_pop_pc_20_change = df_pop_pc.loc[df_pop_pc.pc_population < -20]\n",
    "                    \n",
    "                    df_pop_pc_20_change.to_csv(f'{dir_path}_pc/{fl_name}_pop_pc_20_dec.csv', index=False)"
   ]
  },
  {
   "cell_type": "code",
   "execution_count": 254,
   "metadata": {},
   "outputs": [],
   "source": [
    "### test\n",
    "calc_pop_perc_change(dir_paths_list=['/Users/salma/Research/us_crime_data_analysis/data/pc_test'])"
   ]
  },
  {
   "cell_type": "code",
   "execution_count": 255,
   "metadata": {},
   "outputs": [],
   "source": [
    "calc_pop_perc_change(dir_paths_list=['/Users/salma/Research/us_crime_data_analysis/data/final_core',\n",
    "                                '/Users/salma/Research/us_crime_data_analysis/data/final_core_90_02',\n",
    "                                '/Users/salma/Research/us_crime_data_analysis/data/final_core_03_15'])"
   ]
  }
 ],
 "metadata": {
  "kernelspec": {
   "display_name": "us_crime_data_analysis",
   "language": "python",
   "name": "us_crime_data_analysis"
  },
  "language_info": {
   "codemirror_mode": {
    "name": "ipython",
    "version": 3
   },
   "file_extension": ".py",
   "mimetype": "text/x-python",
   "name": "python",
   "nbconvert_exporter": "python",
   "pygments_lexer": "ipython3",
   "version": "3.8.1"
  }
 },
 "nbformat": 4,
 "nbformat_minor": 4
}

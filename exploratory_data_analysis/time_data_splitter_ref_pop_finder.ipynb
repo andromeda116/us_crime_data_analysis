{
 "cells": [
  {
   "cell_type": "code",
   "execution_count": 105,
   "metadata": {},
   "outputs": [],
   "source": [
    "import os\n",
    "import pandas as pd\n",
    "import numpy as np\n",
    "\n",
    "import statsmodels.api as sm"
   ]
  },
  {
   "cell_type": "markdown",
   "metadata": {},
   "source": [
    "#### Utility function to split data in given time range"
   ]
  },
  {
   "cell_type": "code",
   "execution_count": 28,
   "metadata": {},
   "outputs": [],
   "source": [
    "def split_data(dir_loc, time_rnge_list, op_path_list):\n",
    "    os.chdir(dir_loc)\n",
    "    for fl in os.listdir():\n",
    "        if fl != '.DS_Store':\n",
    "            fl_name = os.path.basename(fl).split('.')[0]\n",
    "            df = pd.read_csv(fl)\n",
    "            for tme_rnge, op_path in zip(time_rnge_list, op_path_list):\n",
    "                df1 = df.query(f'YEAR >= {tme_rnge[0]} & YEAR <={tme_rnge[1]}')\n",
    "                df1['pop_wt'] = \n",
    "                df1.to_csv(f'{op_path}/{fl_name}_{tme_rnge[0]}_{tme_rnge[1]}.csv', index=False)"
   ]
  },
  {
   "cell_type": "markdown",
   "metadata": {},
   "source": [
    "#### Split into 2 categories - 1990, 2002 ; 2003, 2015"
   ]
  },
  {
   "cell_type": "code",
   "execution_count": 29,
   "metadata": {},
   "outputs": [],
   "source": [
    "split_data(dir_loc='/Users/salma/Research/us_crime_data_analysis/data/final_all_core_dm',\n",
    "          time_rnge_list=[[1990, 2002], [2003, 2015]],\n",
    "          op_path_list=['/Users/salma/Research/us_crime_data_analysis/data/final_core_dm_90_02',\n",
    "                       '/Users/salma/Research/us_crime_data_analysis/data/final_core_dm_03_15'])"
   ]
  },
  {
   "cell_type": "code",
   "execution_count": 101,
   "metadata": {},
   "outputs": [],
   "source": [
    "#### read the required data files\n",
    "\n",
    "## counts\n",
    "fnl_large_core_dm_counts_90_02 = pd.read_csv('/Users/salma/Research/us_crime_data_analysis/data/final_core_dm_90_02/final_main_large_cities_core_counts_dm_1990_2002.csv')\n",
    "fnl_medium_core_dm_counts_90_02 = pd.read_csv('/Users/salma/Research/us_crime_data_analysis/data/final_core_dm_90_02/final_main_medium_cities_core_counts_dm_1990_2002.csv')\n",
    "fnl_small_core_dm_counts_90_02 = pd.read_csv('/Users/salma/Research/us_crime_data_analysis/data/final_core_dm_90_02/final_main_small_cities_core_counts_dm_1990_2002.csv')\n",
    "\n",
    "## rates\n",
    "fnl_large_core_dm_rates_03_15 = pd.read_csv('/Users/salma/Research/us_crime_data_analysis/data/final_core_dm_03_15/final_main_large_cities_core_counts_dm_2003_2015.csv')\n",
    "fnl_medium_core_dm_rates_03_15 = pd.read_csv('/Users/salma/Research/us_crime_data_analysis/data/final_core_dm_03_15/final_main_medium_cities_core_counts_dm_2003_2015.csv')\n",
    "fnl_small_core_dm_rates_03_15 = pd.read_csv('/Users/salma/Research/us_crime_data_analysis/data/final_core_dm_03_15/final_main_small_cities_core_counts_dm_2003_2015.csv')"
   ]
  },
  {
   "cell_type": "markdown",
   "metadata": {},
   "source": [
    "#### Get middle reference year to get pop col for weighting"
   ]
  },
  {
   "cell_type": "code",
   "execution_count": 89,
   "metadata": {},
   "outputs": [],
   "source": [
    "def create_pop_wt_col_by_time_range(req_dfs, time_range):\n",
    "    for df in req_dfs:\n",
    "        df_wt = df.query(f'YEAR >= {time_range[0]} and YEAR <= {time_range[1]}').loc[:, ['ORI', 'YEAR', 'fnl_population']]\n",
    "        df_wt['pop_wt'] = df_wt.groupby('ORI')['fnl_population'].head(1)\n",
    "        \n",
    "        df_wt.dropna(subset = ['pop_wt'], inplace=True)\n",
    "        \n",
    "        df = df.merge(df_wt, on='ORI', how='left')\n",
    "        df.rename({'YEAR_x': 'YEAR', 'fnl_population_x': 'fnl_population'}, axis=1, inplace=True)\n",
    "        df.drop(['YEAR_y', 'fnl_population_y'], axis=1, inplace=True)\n",
    "        #print(df.loc[:, ['ORI', 'YEAR', 'fnl_population', 'pop_wt']].head(50))\n",
    "        #print(df.query('ORI == \"AL00102\"').loc[:, ['ORI', 'YEAR', 'fnl_population', 'pop_wt']])\n",
    "        print(set(df.loc[df['pop_wt'].isnull()]['ORI']).__len__())\n",
    "        print(set(df.loc[df['pop_wt'].isnull()]['ORI']))\n",
    "        print('\\n')\n",
    "    "
   ]
  },
  {
   "cell_type": "code",
   "execution_count": 90,
   "metadata": {
    "scrolled": true
   },
   "outputs": [
    {
     "name": "stdout",
     "output_type": "stream",
     "text": [
      "3\n",
      "{'KS04606', 'KS10502', 'KS04605'}\n",
      "\n",
      "\n",
      "28\n",
      "{'IL01680', 'OH02300', 'TN09500', 'MT00701', 'IL01001', 'KS02301', 'IL08200', 'IN05300', 'IL04500', 'MI63808', 'IN04800', 'NM02601', 'AZ01405', 'LA04400', 'OH07300', 'PA03504', 'MS03000', 'TN07800', 'IL05701', 'KS04609', 'IL04921', 'IL09902', 'OH08300', 'OH04704', 'IL05802', 'IL01683', 'KS08100', 'OH08500'}\n",
      "\n",
      "\n",
      "276\n",
      "{'IN00900', 'KY06000', 'KS01801', 'NY05955', 'TN05500', 'IL05300', 'KY00200', 'OH05722', 'IL03700', 'KS00802', 'KS06300', 'PA02603', 'IN02400', 'KS08900', 'MO10800', 'IL02227', 'OH07601', 'NM00900', 'IL09913', 'MA00523', 'IL01633', 'KS00502', 'OH07807', 'MS06900', 'MS04700', 'KS05701', 'IL01004', 'IL05000', 'IL06901', 'TN02300', 'MS07000', 'IL01692', 'IL06800', 'GA03900', 'IL02220', 'IA02300', 'IN08000', 'KS08700', 'KY00700', 'KY07601', 'KY09600', 'IN07000', 'IL08100', 'WA01726', 'IL04926', 'OH07501', 'IL04903', 'IL06102', 'IL0163B', 'TN02600', 'MO11500', 'IL09200', 'MO05300', 'OH03201', 'OH05401', 'IN03201', 'MS01700', 'MS06600', 'MO02500', 'SD04100', 'IL04912', 'IL02216', 'IN00700', 'NM01300', 'TN08000', 'KS04600', 'KS08501', 'KY00100', 'KY04100', 'KY08800', 'MO07300', 'MS06102', 'MT04100', 'UT01812', 'IL04914', 'MA01212', 'IL04510', 'TN00300', 'IL06100', 'IL02213', 'KS01802', 'IL01908', 'IA07800', 'KS03001', 'NH00652', 'LA04600', 'MO00700', 'KS07500', 'MT03200', 'KY06700', 'TN01500', 'KS01800', 'MO08000', 'MS01301', 'IN06900', 'TN02200', 'IL04917', 'IN04200', 'IL02210', 'KS02300', 'IL01670', 'MS05300', 'KY01400', 'IL01679', 'IL09908', 'OH01831', 'KY05200', 'IL05800', 'IL01693', 'IN02200', 'IL01686', 'IL03204', 'IL01675', 'KY07700', 'IL04905', 'MT00700', 'MT01800', 'IL01607', 'TN08400', 'PA06305', 'IN05700', 'KS05601', 'TN03600', 'KS02601', 'MT02501', 'KS01100', 'KS07801', 'OH04400', 'IL04602', 'TN02201', 'TN04900', 'KS00800', 'IL03900', 'OH04402', 'KY11400', 'OH05002', 'KS03000', 'NM03200', 'KY06100', 'IL09007', 'IL03901', 'IN03600', 'MO10400', 'IL00103', 'NH00872', 'IL01900', 'GA09700', 'IN01003', 'IN01201', 'KS04400', 'KY08400', 'NM01900', 'IL08108', 'MO10100', 'IL01642', 'SD00201', 'MO03500', 'TN04100', 'OH04000', 'KS04607', 'MS05800', 'KY01300', 'IL02206', 'IL00401', 'MS04300', 'TN02800', 'IL01619', 'MI67167', 'OH02001', 'IN05900', 'KS00301', 'TN01800', 'IL0167A', 'OH02700', 'MT02400', 'IL08224', 'KS01901', 'MO01400', 'OH04702', 'KS08701', 'IL02204', 'IL01610', 'GA01600', 'KS04612', 'KY01600', 'TN04500', 'KY02300', 'MO06200', 'GA07300', 'MO05100', 'KS05200', 'OH01703', 'NM00300', 'IN05200', 'IL01643', 'KY03500', 'TN01100', 'KY05800', 'TN06700', 'IL08300', 'IL02201', 'IL05612', 'IL09203', 'OH01850', 'MO10700', 'OH07727', 'MS08201', 'KS03101', 'TN04600', 'IL06900', 'IA02301', 'KS05201', 'MO05700', 'KY04900', 'IL01000', 'KS04001', 'IL00400', 'KS04602', 'IL09807', 'MT02500', 'MS07100', 'MO07200', 'IL06003', 'TN02400', 'IL10200', 'OH06300', 'IL08901', 'PA04802', 'TN03100', 'WV01600', 'IL0168C', 'KY10400', 'KS05001', 'IL02207', 'KS04610', 'KY12000', 'OH01901', 'KY05500', 'KS06301', 'IL03709', 'IL01668', 'IL01694', 'IL02502', 'IL05203', 'KS02901', 'NC09207', 'OH01000', 'IN02300', 'PA00401', 'TN00200', 'IL0167B', 'IL01658', 'IN01701', 'KS07800', 'UT02700', 'IL01663', 'KS04603', 'KS06100', 'OH08200', 'IL09100', 'MA00949', 'IA00300', 'MT00200', 'MO06600', 'KS02801', 'KS08801', 'IL09009', 'IL03200', 'UT00600', 'MS04400', 'IL09003', 'OH06900', 'IL04923', 'OH06200', 'IL01006', 'IL02223'}\n",
      "\n",
      "\n"
     ]
    }
   ],
   "source": [
    "create_pop_wt_col_by_time_range([fnl_large_core_dm_counts_90_02, fnl_medium_core_dm_counts_90_02, fnl_small_core_dm_counts_90_02],\n",
    "                 time_range=[1994, 1998])"
   ]
  }
 ],
 "metadata": {
  "kernelspec": {
   "display_name": "us_crime_data_analysis",
   "language": "python",
   "name": "us_crime_data_analysis"
  },
  "language_info": {
   "codemirror_mode": {
    "name": "ipython",
    "version": 3
   },
   "file_extension": ".py",
   "mimetype": "text/x-python",
   "name": "python",
   "nbconvert_exporter": "python",
   "pygments_lexer": "ipython3",
   "version": "3.8.1"
  }
 },
 "nbformat": 4,
 "nbformat_minor": 4
}
